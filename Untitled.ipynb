{
 "cells": [
  {
   "cell_type": "code",
   "execution_count": 644,
   "id": "52a10110",
   "metadata": {},
   "outputs": [],
   "source": [
    "import pandas as pd\n",
    "pd.set_option('display.max_columns', None)"
   ]
  },
  {
   "cell_type": "code",
   "execution_count": 645,
   "id": "54510e23",
   "metadata": {},
   "outputs": [],
   "source": [
    "from pathlib import Path"
   ]
  },
  {
   "cell_type": "code",
   "execution_count": 646,
   "id": "e03a26e0",
   "metadata": {},
   "outputs": [],
   "source": [
    "RAW_DB = Path.cwd() / \"db/raw\"\n",
    "PROCESSED_DB = Path.cwd() / \"db/processed\""
   ]
  },
  {
   "cell_type": "code",
   "execution_count": 639,
   "id": "b3d3d32c",
   "metadata": {
    "scrolled": true
   },
   "outputs": [],
   "source": [
    "german_df = pd.read_excel(RAW_DB/\"germany_data.xlsx\")"
   ]
  },
  {
   "cell_type": "code",
   "execution_count": 569,
   "id": "3fd2461c",
   "metadata": {},
   "outputs": [],
   "source": [
    "df = pd.read_excel(RAW_DB/\"uk_data.xlsx\")"
   ]
  },
  {
   "cell_type": "code",
   "execution_count": 655,
   "id": "7a51e4c5",
   "metadata": {},
   "outputs": [],
   "source": [
    "df1 = pd.read_csv(PROCESSED_DB/\"uk_data_processed.csv\", index_col=0)"
   ]
  },
  {
   "cell_type": "code",
   "execution_count": 656,
   "id": "a1db5e5a",
   "metadata": {},
   "outputs": [],
   "source": [
    "df2 = pd.read_csv(PROCESSED_DB/\"germany_data_processed.csv\", index_col=0)"
   ]
  },
  {
   "cell_type": "code",
   "execution_count": 657,
   "id": "f8a22806",
   "metadata": {},
   "outputs": [],
   "source": [
    "INDEX_COLS = [\"Quarter\", \"Institute\", \"Portfolio\"]"
   ]
  },
  {
   "cell_type": "markdown",
   "id": "bc146a7a",
   "metadata": {},
   "source": [
    "# Pivoting & Filtering"
   ]
  },
  {
   "cell_type": "code",
   "execution_count": 660,
   "id": "82ba6026",
   "metadata": {},
   "outputs": [],
   "source": [
    "def pivot_df(df, item, stage):\n",
    "    return df.groupby(INDEX_COLS).agg({f\"{item} {stage}\" : \"sum\"})"
   ]
  },
  {
   "cell_type": "code",
   "execution_count": 661,
   "id": "d975916d",
   "metadata": {},
   "outputs": [],
   "source": [
    "def diff_pivot_df(pivoted_df, date1, date2):\n",
    "    pivoted_df = 100 *(pivoted_df.xs(date1, level=0) / pivoted_df.xs(date2, level=0) - 1)\n",
    "    pivoted_df.columns = [f\"{date1}-{date2}\"]\n",
    "    return pivoted_df"
   ]
  },
  {
   "cell_type": "code",
   "execution_count": 662,
   "id": "0c2d2276",
   "metadata": {},
   "outputs": [],
   "source": [
    "def distribution_pivot(pivoted_df):\n",
    "    return pivoted_df.groupby(level=[0,1]).apply(lambda x: 100 * x / float(x.sum()))"
   ]
  },
  {
   "cell_type": "code",
   "execution_count": 663,
   "id": "387f6511",
   "metadata": {},
   "outputs": [],
   "source": [
    "def filter_item_stage(df, item, stage):\n",
    "    return df[[f\"{item} {stage}\"]]"
   ]
  },
  {
   "cell_type": "code",
   "execution_count": 664,
   "id": "6a3bfaab",
   "metadata": {},
   "outputs": [],
   "source": [
    "def filter_quarter(df, start=None, end=None):\n",
    "    if not end:\n",
    "        end = max(df[\"Quarter\"])\n",
    "    if not start:\n",
    "        start = min(df[\"Quarter\"])\n",
    "    return df.loc[(df[\"Quarter\"] >= start) & (df[\"Quarter\"] <= end)]\n",
    "\n",
    "def filter_quarter_pivot(df, start=None, end=None):\n",
    "    idx = pd.IndexSlice\n",
    "    if not end:\n",
    "        end = max(x.index.get_level_values(0))\n",
    "    if not start:\n",
    "        start = min(x.index.get_level_values(0))\n",
    "#     return df.loc[idx[start:end, :, :], :]\n",
    "    return df.query(f\"(Quarter >= '{start}') & (Quarter <= '{end}')\")"
   ]
  },
  {
   "cell_type": "code",
   "execution_count": 665,
   "id": "738082f6",
   "metadata": {},
   "outputs": [],
   "source": [
    "def filter_institute(df, *institutes):\n",
    "    return df[df[\"Institute\"].isin(institutes)]\n",
    "\n",
    "def filter_institute_pivot(df, *institutes):\n",
    "    return df[df.index.get_level_values(\"Institute\").isin(institutes)]"
   ]
  },
  {
   "cell_type": "code",
   "execution_count": 666,
   "id": "9d828f4c",
   "metadata": {},
   "outputs": [],
   "source": [
    "def filter_portfolio(df, *portfolios):\n",
    "    return df[df[\"Portfolio\"].isin(portfolios)]\n",
    "\n",
    "def filter_portfolio_pivot(df, *portfolios):\n",
    "    return df[df.index.get_level_values(\"Portfolio\").isin(portfolios)]"
   ]
  },
  {
   "cell_type": "code",
   "execution_count": 668,
   "id": "23b1f69b",
   "metadata": {
    "scrolled": true
   },
   "outputs": [
    {
     "data": {
      "text/html": [
       "<div>\n",
       "<style scoped>\n",
       "    .dataframe tbody tr th:only-of-type {\n",
       "        vertical-align: middle;\n",
       "    }\n",
       "\n",
       "    .dataframe tbody tr th {\n",
       "        vertical-align: top;\n",
       "    }\n",
       "\n",
       "    .dataframe thead th {\n",
       "        text-align: right;\n",
       "    }\n",
       "</style>\n",
       "<table border=\"1\" class=\"dataframe\">\n",
       "  <thead>\n",
       "    <tr style=\"text-align: right;\">\n",
       "      <th></th>\n",
       "      <th>Institute</th>\n",
       "      <th>Quarter</th>\n",
       "      <th>Portfolio</th>\n",
       "      <th>FCCY</th>\n",
       "      <th>Exchange Rate</th>\n",
       "      <th>Coverage Ratio POCI</th>\n",
       "      <th>Coverage Ratio Stage 1</th>\n",
       "      <th>Coverage Ratio Stage 2</th>\n",
       "      <th>Coverage Ratio Stage 3</th>\n",
       "      <th>Coverage Ratio Total</th>\n",
       "      <th>EAD POCI</th>\n",
       "      <th>EAD Stage 1</th>\n",
       "      <th>EAD Stage 2</th>\n",
       "      <th>EAD Stage 2 UTD</th>\n",
       "      <th>EAD Stage 230+</th>\n",
       "      <th>EAD Stage 3</th>\n",
       "      <th>EAD Total</th>\n",
       "      <th>ECL POCI</th>\n",
       "      <th>ECL Stage 1</th>\n",
       "      <th>ECL Stage 2</th>\n",
       "      <th>ECL Stage 2 UTD</th>\n",
       "      <th>ECL Stage 230+</th>\n",
       "      <th>ECL Stage 3</th>\n",
       "      <th>ECL Total</th>\n",
       "      <th>Stage 2 Analysis Stage 2 30+</th>\n",
       "      <th>Staging balances (%) POCI</th>\n",
       "      <th>Staging balances (%) Stage 1</th>\n",
       "      <th>Staging balances (%) Stage 2</th>\n",
       "      <th>Staging balances (%) Stage 3</th>\n",
       "      <th>EAD Performing</th>\n",
       "      <th>EAD Default</th>\n",
       "      <th>ECL Performing</th>\n",
       "      <th>ECL Default</th>\n",
       "      <th>NPL Ratio</th>\n",
       "      <th>Coverage Ratio Performing</th>\n",
       "      <th>Coverage Ratio Default</th>\n",
       "      <th>Share S1 (EAD)</th>\n",
       "      <th>Share S2 (EAD)</th>\n",
       "      <th>Share S3/Poci (EAD)</th>\n",
       "    </tr>\n",
       "  </thead>\n",
       "  <tbody>\n",
       "    <tr>\n",
       "      <th>0</th>\n",
       "      <td>Barclays - Group</td>\n",
       "      <td>2020Q4</td>\n",
       "      <td>Consumer Lending (including Auto Finance)</td>\n",
       "      <td>GBP</td>\n",
       "      <td>1.0000</td>\n",
       "      <td>NaN</td>\n",
       "      <td>2.059296e-02</td>\n",
       "      <td>2.683140e-01</td>\n",
       "      <td>0.709647</td>\n",
       "      <td>1.225464e-01</td>\n",
       "      <td>NaN</td>\n",
       "      <td>33.021</td>\n",
       "      <td>10.320</td>\n",
       "      <td>10.014</td>\n",
       "      <td>0.306</td>\n",
       "      <td>3.172</td>\n",
       "      <td>46.513</td>\n",
       "      <td>NaN</td>\n",
       "      <td>680.00</td>\n",
       "      <td>2769.000</td>\n",
       "      <td>2562.0</td>\n",
       "      <td>207.0</td>\n",
       "      <td>2251.000</td>\n",
       "      <td>5700.000</td>\n",
       "      <td>0.029651</td>\n",
       "      <td>NaN</td>\n",
       "      <td>0.709931</td>\n",
       "      <td>0.221873</td>\n",
       "      <td>0.068196</td>\n",
       "      <td>43.341</td>\n",
       "      <td>NaN</td>\n",
       "      <td>3449.000</td>\n",
       "      <td>NaN</td>\n",
       "      <td>NaN</td>\n",
       "      <td>86.682</td>\n",
       "      <td>NaN</td>\n",
       "      <td>0.709931</td>\n",
       "      <td>0.221873</td>\n",
       "      <td>0.068196</td>\n",
       "    </tr>\n",
       "    <tr>\n",
       "      <th>1</th>\n",
       "      <td>Barclays - Group</td>\n",
       "      <td>2020Q4</td>\n",
       "      <td>Corporate &amp; Commercial</td>\n",
       "      <td>GBP</td>\n",
       "      <td>1.0000</td>\n",
       "      <td>NaN</td>\n",
       "      <td>2.682224e-03</td>\n",
       "      <td>3.326471e-02</td>\n",
       "      <td>0.296853</td>\n",
       "      <td>1.453535e-02</td>\n",
       "      <td>NaN</td>\n",
       "      <td>119.304</td>\n",
       "      <td>21.374</td>\n",
       "      <td>20.598</td>\n",
       "      <td>0.776</td>\n",
       "      <td>3.591</td>\n",
       "      <td>144.269</td>\n",
       "      <td>NaN</td>\n",
       "      <td>320.00</td>\n",
       "      <td>711.000</td>\n",
       "      <td>700.0</td>\n",
       "      <td>11.0</td>\n",
       "      <td>1066.000</td>\n",
       "      <td>2097.000</td>\n",
       "      <td>0.036306</td>\n",
       "      <td>NaN</td>\n",
       "      <td>0.826955</td>\n",
       "      <td>0.148154</td>\n",
       "      <td>0.024891</td>\n",
       "      <td>140.678</td>\n",
       "      <td>NaN</td>\n",
       "      <td>1031.000</td>\n",
       "      <td>NaN</td>\n",
       "      <td>NaN</td>\n",
       "      <td>281.356</td>\n",
       "      <td>NaN</td>\n",
       "      <td>0.826955</td>\n",
       "      <td>0.148154</td>\n",
       "      <td>0.024891</td>\n",
       "    </tr>\n",
       "    <tr>\n",
       "      <th>3</th>\n",
       "      <td>Barclays - Group</td>\n",
       "      <td>2020Q4</td>\n",
       "      <td>Mortgages</td>\n",
       "      <td>GBP</td>\n",
       "      <td>1.0000</td>\n",
       "      <td>NaN</td>\n",
       "      <td>2.380283e-04</td>\n",
       "      <td>4.349627e-03</td>\n",
       "      <td>0.188451</td>\n",
       "      <td>3.358617e-03</td>\n",
       "      <td>NaN</td>\n",
       "      <td>138.639</td>\n",
       "      <td>19.312</td>\n",
       "      <td>18.436</td>\n",
       "      <td>0.876</td>\n",
       "      <td>2.234</td>\n",
       "      <td>160.185</td>\n",
       "      <td>NaN</td>\n",
       "      <td>33.00</td>\n",
       "      <td>84.000</td>\n",
       "      <td>70.0</td>\n",
       "      <td>14.0</td>\n",
       "      <td>421.000</td>\n",
       "      <td>538.000</td>\n",
       "      <td>0.045360</td>\n",
       "      <td>NaN</td>\n",
       "      <td>0.865493</td>\n",
       "      <td>0.120561</td>\n",
       "      <td>0.013946</td>\n",
       "      <td>157.951</td>\n",
       "      <td>NaN</td>\n",
       "      <td>117.000</td>\n",
       "      <td>NaN</td>\n",
       "      <td>NaN</td>\n",
       "      <td>315.902</td>\n",
       "      <td>NaN</td>\n",
       "      <td>0.865493</td>\n",
       "      <td>0.120561</td>\n",
       "      <td>0.013946</td>\n",
       "    </tr>\n",
       "    <tr>\n",
       "      <th>4</th>\n",
       "      <td>Barclays - Group</td>\n",
       "      <td>2020Q4</td>\n",
       "      <td>Other Assets</td>\n",
       "      <td>GBP</td>\n",
       "      <td>1.0000</td>\n",
       "      <td>NaN</td>\n",
       "      <td>NaN</td>\n",
       "      <td>NaN</td>\n",
       "      <td>NaN</td>\n",
       "      <td>NaN</td>\n",
       "      <td>NaN</td>\n",
       "      <td>NaN</td>\n",
       "      <td>NaN</td>\n",
       "      <td>NaN</td>\n",
       "      <td>NaN</td>\n",
       "      <td>NaN</td>\n",
       "      <td>0.000</td>\n",
       "      <td>NaN</td>\n",
       "      <td>NaN</td>\n",
       "      <td>NaN</td>\n",
       "      <td>NaN</td>\n",
       "      <td>NaN</td>\n",
       "      <td>NaN</td>\n",
       "      <td>0.000</td>\n",
       "      <td>NaN</td>\n",
       "      <td>NaN</td>\n",
       "      <td>NaN</td>\n",
       "      <td>NaN</td>\n",
       "      <td>NaN</td>\n",
       "      <td>NaN</td>\n",
       "      <td>NaN</td>\n",
       "      <td>NaN</td>\n",
       "      <td>NaN</td>\n",
       "      <td>NaN</td>\n",
       "      <td>NaN</td>\n",
       "      <td>NaN</td>\n",
       "      <td>NaN</td>\n",
       "      <td>NaN</td>\n",
       "      <td>NaN</td>\n",
       "    </tr>\n",
       "    <tr>\n",
       "      <th>5</th>\n",
       "      <td>Barclays - Group</td>\n",
       "      <td>2020Q4</td>\n",
       "      <td>Other Loans &amp; Advances</td>\n",
       "      <td>GBP</td>\n",
       "      <td>1.0000</td>\n",
       "      <td>NaN</td>\n",
       "      <td>NaN</td>\n",
       "      <td>NaN</td>\n",
       "      <td>NaN</td>\n",
       "      <td>NaN</td>\n",
       "      <td>NaN</td>\n",
       "      <td>NaN</td>\n",
       "      <td>NaN</td>\n",
       "      <td>NaN</td>\n",
       "      <td>NaN</td>\n",
       "      <td>NaN</td>\n",
       "      <td>0.000</td>\n",
       "      <td>NaN</td>\n",
       "      <td>NaN</td>\n",
       "      <td>NaN</td>\n",
       "      <td>NaN</td>\n",
       "      <td>NaN</td>\n",
       "      <td>NaN</td>\n",
       "      <td>0.000</td>\n",
       "      <td>NaN</td>\n",
       "      <td>NaN</td>\n",
       "      <td>NaN</td>\n",
       "      <td>NaN</td>\n",
       "      <td>NaN</td>\n",
       "      <td>NaN</td>\n",
       "      <td>NaN</td>\n",
       "      <td>NaN</td>\n",
       "      <td>NaN</td>\n",
       "      <td>NaN</td>\n",
       "      <td>NaN</td>\n",
       "      <td>NaN</td>\n",
       "      <td>NaN</td>\n",
       "      <td>NaN</td>\n",
       "      <td>NaN</td>\n",
       "    </tr>\n",
       "    <tr>\n",
       "      <th>...</th>\n",
       "      <td>...</td>\n",
       "      <td>...</td>\n",
       "      <td>...</td>\n",
       "      <td>...</td>\n",
       "      <td>...</td>\n",
       "      <td>...</td>\n",
       "      <td>...</td>\n",
       "      <td>...</td>\n",
       "      <td>...</td>\n",
       "      <td>...</td>\n",
       "      <td>...</td>\n",
       "      <td>...</td>\n",
       "      <td>...</td>\n",
       "      <td>...</td>\n",
       "      <td>...</td>\n",
       "      <td>...</td>\n",
       "      <td>...</td>\n",
       "      <td>...</td>\n",
       "      <td>...</td>\n",
       "      <td>...</td>\n",
       "      <td>...</td>\n",
       "      <td>...</td>\n",
       "      <td>...</td>\n",
       "      <td>...</td>\n",
       "      <td>...</td>\n",
       "      <td>...</td>\n",
       "      <td>...</td>\n",
       "      <td>...</td>\n",
       "      <td>...</td>\n",
       "      <td>...</td>\n",
       "      <td>...</td>\n",
       "      <td>...</td>\n",
       "      <td>...</td>\n",
       "      <td>...</td>\n",
       "      <td>...</td>\n",
       "      <td>...</td>\n",
       "      <td>...</td>\n",
       "      <td>...</td>\n",
       "      <td>...</td>\n",
       "    </tr>\n",
       "    <tr>\n",
       "      <th>70</th>\n",
       "      <td>Standard Chatered</td>\n",
       "      <td>2019Q4</td>\n",
       "      <td>Consumer Lending (including Auto Finance)</td>\n",
       "      <td>USD</td>\n",
       "      <td>1.3194</td>\n",
       "      <td>NaN</td>\n",
       "      <td>6.876859e-03</td>\n",
       "      <td>1.565217e-01</td>\n",
       "      <td>0.442714</td>\n",
       "      <td>1.931345e-02</td>\n",
       "      <td>0.0</td>\n",
       "      <td>42.025</td>\n",
       "      <td>1.035</td>\n",
       "      <td>0.462</td>\n",
       "      <td>0.340</td>\n",
       "      <td>0.899</td>\n",
       "      <td>43.959</td>\n",
       "      <td>0.0</td>\n",
       "      <td>289.00</td>\n",
       "      <td>162.000</td>\n",
       "      <td>45.0</td>\n",
       "      <td>40.0</td>\n",
       "      <td>398.000</td>\n",
       "      <td>849.000</td>\n",
       "      <td>0.328502</td>\n",
       "      <td>0.0</td>\n",
       "      <td>0.956004</td>\n",
       "      <td>0.023545</td>\n",
       "      <td>0.020451</td>\n",
       "      <td>43.060</td>\n",
       "      <td>0.899</td>\n",
       "      <td>451.000</td>\n",
       "      <td>398.000</td>\n",
       "      <td>47.897664</td>\n",
       "      <td>86.120</td>\n",
       "      <td>1.798</td>\n",
       "      <td>0.956004</td>\n",
       "      <td>0.023545</td>\n",
       "      <td>0.020451</td>\n",
       "    </tr>\n",
       "    <tr>\n",
       "      <th>71</th>\n",
       "      <td>Standard Chatered</td>\n",
       "      <td>2019Q4</td>\n",
       "      <td>Corporate &amp; Commercial</td>\n",
       "      <td>USD</td>\n",
       "      <td>1.3194</td>\n",
       "      <td>NaN</td>\n",
       "      <td>1.013385e-03</td>\n",
       "      <td>1.505646e-02</td>\n",
       "      <td>0.746647</td>\n",
       "      <td>5.346855e-02</td>\n",
       "      <td>0.0</td>\n",
       "      <td>23.683</td>\n",
       "      <td>3.985</td>\n",
       "      <td>0.058</td>\n",
       "      <td>0.086</td>\n",
       "      <td>2.013</td>\n",
       "      <td>29.681</td>\n",
       "      <td>0.0</td>\n",
       "      <td>24.00</td>\n",
       "      <td>60.000</td>\n",
       "      <td>2.0</td>\n",
       "      <td>5.0</td>\n",
       "      <td>1503.000</td>\n",
       "      <td>1587.000</td>\n",
       "      <td>0.021581</td>\n",
       "      <td>0.0</td>\n",
       "      <td>0.797918</td>\n",
       "      <td>0.134261</td>\n",
       "      <td>0.067821</td>\n",
       "      <td>27.668</td>\n",
       "      <td>2.013</td>\n",
       "      <td>84.000</td>\n",
       "      <td>1503.000</td>\n",
       "      <td>13.744660</td>\n",
       "      <td>55.336</td>\n",
       "      <td>4.026</td>\n",
       "      <td>0.797918</td>\n",
       "      <td>0.134261</td>\n",
       "      <td>0.067821</td>\n",
       "    </tr>\n",
       "    <tr>\n",
       "      <th>73</th>\n",
       "      <td>Standard Chatered</td>\n",
       "      <td>2019Q4</td>\n",
       "      <td>Mortgages</td>\n",
       "      <td>USD</td>\n",
       "      <td>1.3194</td>\n",
       "      <td>NaN</td>\n",
       "      <td>1.313663e-04</td>\n",
       "      <td>5.267779e-03</td>\n",
       "      <td>0.434629</td>\n",
       "      <td>1.842814e-03</td>\n",
       "      <td>0.0</td>\n",
       "      <td>76.123</td>\n",
       "      <td>2.278</td>\n",
       "      <td>NaN</td>\n",
       "      <td>NaN</td>\n",
       "      <td>0.283</td>\n",
       "      <td>78.684</td>\n",
       "      <td>0.0</td>\n",
       "      <td>10.00</td>\n",
       "      <td>12.000</td>\n",
       "      <td>NaN</td>\n",
       "      <td>NaN</td>\n",
       "      <td>123.000</td>\n",
       "      <td>145.000</td>\n",
       "      <td>NaN</td>\n",
       "      <td>0.0</td>\n",
       "      <td>0.967452</td>\n",
       "      <td>0.028951</td>\n",
       "      <td>0.003597</td>\n",
       "      <td>78.401</td>\n",
       "      <td>0.283</td>\n",
       "      <td>22.000</td>\n",
       "      <td>123.000</td>\n",
       "      <td>277.035336</td>\n",
       "      <td>156.802</td>\n",
       "      <td>0.566</td>\n",
       "      <td>0.967452</td>\n",
       "      <td>0.028951</td>\n",
       "      <td>0.003597</td>\n",
       "    </tr>\n",
       "    <tr>\n",
       "      <th>74</th>\n",
       "      <td>Standard Chatered</td>\n",
       "      <td>2019Q4</td>\n",
       "      <td>Other Assets</td>\n",
       "      <td>USD</td>\n",
       "      <td>1.3194</td>\n",
       "      <td>NaN</td>\n",
       "      <td>6.235969e-07</td>\n",
       "      <td>2.166065e-08</td>\n",
       "      <td>0.000001</td>\n",
       "      <td>1.804542e-07</td>\n",
       "      <td>0.0</td>\n",
       "      <td>16.036</td>\n",
       "      <td>277.000</td>\n",
       "      <td>NaN</td>\n",
       "      <td>NaN</td>\n",
       "      <td>45.000</td>\n",
       "      <td>338.036</td>\n",
       "      <td>0.0</td>\n",
       "      <td>0.01</td>\n",
       "      <td>0.006</td>\n",
       "      <td>NaN</td>\n",
       "      <td>NaN</td>\n",
       "      <td>0.045</td>\n",
       "      <td>0.061</td>\n",
       "      <td>NaN</td>\n",
       "      <td>0.0</td>\n",
       "      <td>0.047439</td>\n",
       "      <td>0.819439</td>\n",
       "      <td>0.133122</td>\n",
       "      <td>293.036</td>\n",
       "      <td>45.000</td>\n",
       "      <td>0.016</td>\n",
       "      <td>0.045</td>\n",
       "      <td>6.511911</td>\n",
       "      <td>586.072</td>\n",
       "      <td>90.000</td>\n",
       "      <td>0.047439</td>\n",
       "      <td>0.819439</td>\n",
       "      <td>0.133122</td>\n",
       "    </tr>\n",
       "    <tr>\n",
       "      <th>75</th>\n",
       "      <td>Standard Chatered</td>\n",
       "      <td>2019Q4</td>\n",
       "      <td>Other Loans &amp; Advances</td>\n",
       "      <td>USD</td>\n",
       "      <td>1.3194</td>\n",
       "      <td>NaN</td>\n",
       "      <td>8.983638e-04</td>\n",
       "      <td>1.397289e-02</td>\n",
       "      <td>0.763480</td>\n",
       "      <td>2.010142e-02</td>\n",
       "      <td>0.0</td>\n",
       "      <td>156.952</td>\n",
       "      <td>14.385</td>\n",
       "      <td>0.147</td>\n",
       "      <td>0.198</td>\n",
       "      <td>4.173</td>\n",
       "      <td>175.510</td>\n",
       "      <td>0.0</td>\n",
       "      <td>141.00</td>\n",
       "      <td>201.000</td>\n",
       "      <td>3.0</td>\n",
       "      <td>4.0</td>\n",
       "      <td>3186.000</td>\n",
       "      <td>3528.000</td>\n",
       "      <td>0.013764</td>\n",
       "      <td>0.0</td>\n",
       "      <td>0.894262</td>\n",
       "      <td>0.081961</td>\n",
       "      <td>0.023776</td>\n",
       "      <td>171.337</td>\n",
       "      <td>4.173</td>\n",
       "      <td>342.000</td>\n",
       "      <td>3186.000</td>\n",
       "      <td>41.058471</td>\n",
       "      <td>342.674</td>\n",
       "      <td>8.346</td>\n",
       "      <td>0.894262</td>\n",
       "      <td>0.081961</td>\n",
       "      <td>0.023776</td>\n",
       "    </tr>\n",
       "  </tbody>\n",
       "</table>\n",
       "<p>260 rows × 39 columns</p>\n",
       "</div>"
      ],
      "text/plain": [
       "            Institute Quarter                                  Portfolio FCCY  \\\n",
       "0    Barclays - Group  2020Q4  Consumer Lending (including Auto Finance)  GBP   \n",
       "1    Barclays - Group  2020Q4                     Corporate & Commercial  GBP   \n",
       "3    Barclays - Group  2020Q4                                  Mortgages  GBP   \n",
       "4    Barclays - Group  2020Q4                               Other Assets  GBP   \n",
       "5    Barclays - Group  2020Q4                     Other Loans & Advances  GBP   \n",
       "..                ...     ...                                        ...  ...   \n",
       "70  Standard Chatered  2019Q4  Consumer Lending (including Auto Finance)  USD   \n",
       "71  Standard Chatered  2019Q4                     Corporate & Commercial  USD   \n",
       "73  Standard Chatered  2019Q4                                  Mortgages  USD   \n",
       "74  Standard Chatered  2019Q4                               Other Assets  USD   \n",
       "75  Standard Chatered  2019Q4                     Other Loans & Advances  USD   \n",
       "\n",
       "    Exchange Rate  Coverage Ratio POCI  Coverage Ratio Stage 1  \\\n",
       "0          1.0000                  NaN            2.059296e-02   \n",
       "1          1.0000                  NaN            2.682224e-03   \n",
       "3          1.0000                  NaN            2.380283e-04   \n",
       "4          1.0000                  NaN                     NaN   \n",
       "5          1.0000                  NaN                     NaN   \n",
       "..            ...                  ...                     ...   \n",
       "70         1.3194                  NaN            6.876859e-03   \n",
       "71         1.3194                  NaN            1.013385e-03   \n",
       "73         1.3194                  NaN            1.313663e-04   \n",
       "74         1.3194                  NaN            6.235969e-07   \n",
       "75         1.3194                  NaN            8.983638e-04   \n",
       "\n",
       "    Coverage Ratio Stage 2  Coverage Ratio Stage 3  Coverage Ratio Total  \\\n",
       "0             2.683140e-01                0.709647          1.225464e-01   \n",
       "1             3.326471e-02                0.296853          1.453535e-02   \n",
       "3             4.349627e-03                0.188451          3.358617e-03   \n",
       "4                      NaN                     NaN                   NaN   \n",
       "5                      NaN                     NaN                   NaN   \n",
       "..                     ...                     ...                   ...   \n",
       "70            1.565217e-01                0.442714          1.931345e-02   \n",
       "71            1.505646e-02                0.746647          5.346855e-02   \n",
       "73            5.267779e-03                0.434629          1.842814e-03   \n",
       "74            2.166065e-08                0.000001          1.804542e-07   \n",
       "75            1.397289e-02                0.763480          2.010142e-02   \n",
       "\n",
       "    EAD POCI  EAD Stage 1  EAD Stage 2  EAD Stage 2 UTD  EAD Stage 230+  \\\n",
       "0        NaN       33.021       10.320           10.014           0.306   \n",
       "1        NaN      119.304       21.374           20.598           0.776   \n",
       "3        NaN      138.639       19.312           18.436           0.876   \n",
       "4        NaN          NaN          NaN              NaN             NaN   \n",
       "5        NaN          NaN          NaN              NaN             NaN   \n",
       "..       ...          ...          ...              ...             ...   \n",
       "70       0.0       42.025        1.035            0.462           0.340   \n",
       "71       0.0       23.683        3.985            0.058           0.086   \n",
       "73       0.0       76.123        2.278              NaN             NaN   \n",
       "74       0.0       16.036      277.000              NaN             NaN   \n",
       "75       0.0      156.952       14.385            0.147           0.198   \n",
       "\n",
       "    EAD Stage 3  EAD Total  ECL POCI  ECL Stage 1  ECL Stage 2  \\\n",
       "0         3.172     46.513       NaN       680.00     2769.000   \n",
       "1         3.591    144.269       NaN       320.00      711.000   \n",
       "3         2.234    160.185       NaN        33.00       84.000   \n",
       "4           NaN      0.000       NaN          NaN          NaN   \n",
       "5           NaN      0.000       NaN          NaN          NaN   \n",
       "..          ...        ...       ...          ...          ...   \n",
       "70        0.899     43.959       0.0       289.00      162.000   \n",
       "71        2.013     29.681       0.0        24.00       60.000   \n",
       "73        0.283     78.684       0.0        10.00       12.000   \n",
       "74       45.000    338.036       0.0         0.01        0.006   \n",
       "75        4.173    175.510       0.0       141.00      201.000   \n",
       "\n",
       "    ECL Stage 2 UTD  ECL Stage 230+  ECL Stage 3  ECL Total  \\\n",
       "0            2562.0           207.0     2251.000   5700.000   \n",
       "1             700.0            11.0     1066.000   2097.000   \n",
       "3              70.0            14.0      421.000    538.000   \n",
       "4               NaN             NaN          NaN      0.000   \n",
       "5               NaN             NaN          NaN      0.000   \n",
       "..              ...             ...          ...        ...   \n",
       "70             45.0            40.0      398.000    849.000   \n",
       "71              2.0             5.0     1503.000   1587.000   \n",
       "73              NaN             NaN      123.000    145.000   \n",
       "74              NaN             NaN        0.045      0.061   \n",
       "75              3.0             4.0     3186.000   3528.000   \n",
       "\n",
       "    Stage 2 Analysis Stage 2 30+  Staging balances (%) POCI  \\\n",
       "0                       0.029651                        NaN   \n",
       "1                       0.036306                        NaN   \n",
       "3                       0.045360                        NaN   \n",
       "4                            NaN                        NaN   \n",
       "5                            NaN                        NaN   \n",
       "..                           ...                        ...   \n",
       "70                      0.328502                        0.0   \n",
       "71                      0.021581                        0.0   \n",
       "73                           NaN                        0.0   \n",
       "74                           NaN                        0.0   \n",
       "75                      0.013764                        0.0   \n",
       "\n",
       "    Staging balances (%) Stage 1  Staging balances (%) Stage 2  \\\n",
       "0                       0.709931                      0.221873   \n",
       "1                       0.826955                      0.148154   \n",
       "3                       0.865493                      0.120561   \n",
       "4                            NaN                           NaN   \n",
       "5                            NaN                           NaN   \n",
       "..                           ...                           ...   \n",
       "70                      0.956004                      0.023545   \n",
       "71                      0.797918                      0.134261   \n",
       "73                      0.967452                      0.028951   \n",
       "74                      0.047439                      0.819439   \n",
       "75                      0.894262                      0.081961   \n",
       "\n",
       "    Staging balances (%) Stage 3  EAD Performing  EAD Default  ECL Performing  \\\n",
       "0                       0.068196          43.341          NaN        3449.000   \n",
       "1                       0.024891         140.678          NaN        1031.000   \n",
       "3                       0.013946         157.951          NaN         117.000   \n",
       "4                            NaN             NaN          NaN             NaN   \n",
       "5                            NaN             NaN          NaN             NaN   \n",
       "..                           ...             ...          ...             ...   \n",
       "70                      0.020451          43.060        0.899         451.000   \n",
       "71                      0.067821          27.668        2.013          84.000   \n",
       "73                      0.003597          78.401        0.283          22.000   \n",
       "74                      0.133122         293.036       45.000           0.016   \n",
       "75                      0.023776         171.337        4.173         342.000   \n",
       "\n",
       "    ECL Default   NPL Ratio  Coverage Ratio Performing  \\\n",
       "0           NaN         NaN                     86.682   \n",
       "1           NaN         NaN                    281.356   \n",
       "3           NaN         NaN                    315.902   \n",
       "4           NaN         NaN                        NaN   \n",
       "5           NaN         NaN                        NaN   \n",
       "..          ...         ...                        ...   \n",
       "70      398.000   47.897664                     86.120   \n",
       "71     1503.000   13.744660                     55.336   \n",
       "73      123.000  277.035336                    156.802   \n",
       "74        0.045    6.511911                    586.072   \n",
       "75     3186.000   41.058471                    342.674   \n",
       "\n",
       "    Coverage Ratio Default  Share S1 (EAD)  Share S2 (EAD)  \\\n",
       "0                      NaN        0.709931        0.221873   \n",
       "1                      NaN        0.826955        0.148154   \n",
       "3                      NaN        0.865493        0.120561   \n",
       "4                      NaN             NaN             NaN   \n",
       "5                      NaN             NaN             NaN   \n",
       "..                     ...             ...             ...   \n",
       "70                   1.798        0.956004        0.023545   \n",
       "71                   4.026        0.797918        0.134261   \n",
       "73                   0.566        0.967452        0.028951   \n",
       "74                  90.000        0.047439        0.819439   \n",
       "75                   8.346        0.894262        0.081961   \n",
       "\n",
       "    Share S3/Poci (EAD)  \n",
       "0              0.068196  \n",
       "1              0.024891  \n",
       "3              0.013946  \n",
       "4                   NaN  \n",
       "5                   NaN  \n",
       "..                  ...  \n",
       "70             0.020451  \n",
       "71             0.067821  \n",
       "73             0.003597  \n",
       "74             0.133122  \n",
       "75             0.023776  \n",
       "\n",
       "[260 rows x 39 columns]"
      ]
     },
     "execution_count": 668,
     "metadata": {},
     "output_type": "execute_result"
    }
   ],
   "source": [
    "df1"
   ]
  },
  {
   "cell_type": "code",
   "execution_count": 667,
   "id": "606578ad",
   "metadata": {},
   "outputs": [],
   "source": [
    "xx = pivot_df(df1, \"ECL\", \"Total\")"
   ]
  },
  {
   "cell_type": "code",
   "execution_count": 503,
   "id": "2c736293",
   "metadata": {},
   "outputs": [
    {
     "data": {
      "text/html": [
       "<div>\n",
       "<style scoped>\n",
       "    .dataframe tbody tr th:only-of-type {\n",
       "        vertical-align: middle;\n",
       "    }\n",
       "\n",
       "    .dataframe tbody tr th {\n",
       "        vertical-align: top;\n",
       "    }\n",
       "\n",
       "    .dataframe thead th {\n",
       "        text-align: right;\n",
       "    }\n",
       "</style>\n",
       "<table border=\"1\" class=\"dataframe\">\n",
       "  <thead>\n",
       "    <tr style=\"text-align: right;\">\n",
       "      <th></th>\n",
       "      <th></th>\n",
       "      <th>2020Q2-2019Q4</th>\n",
       "    </tr>\n",
       "    <tr>\n",
       "      <th>Institute</th>\n",
       "      <th>Portfolio</th>\n",
       "      <th></th>\n",
       "    </tr>\n",
       "  </thead>\n",
       "  <tbody>\n",
       "    <tr>\n",
       "      <th rowspan=\"5\" valign=\"top\">Barclays - Group</th>\n",
       "      <th>Consumer Lending (including Auto Finance)</th>\n",
       "      <td>29.816147</td>\n",
       "    </tr>\n",
       "    <tr>\n",
       "      <th>Corporate &amp; Commercial</th>\n",
       "      <td>126.465662</td>\n",
       "    </tr>\n",
       "    <tr>\n",
       "      <th>Mortgages</th>\n",
       "      <td>16.203704</td>\n",
       "    </tr>\n",
       "    <tr>\n",
       "      <th>Other Assets</th>\n",
       "      <td>-100.000000</td>\n",
       "    </tr>\n",
       "    <tr>\n",
       "      <th>Other Loans &amp; Advances</th>\n",
       "      <td>NaN</td>\n",
       "    </tr>\n",
       "    <tr>\n",
       "      <th>...</th>\n",
       "      <th>...</th>\n",
       "      <td>...</td>\n",
       "    </tr>\n",
       "    <tr>\n",
       "      <th rowspan=\"5\" valign=\"top\">Yorkshire BS - Group</th>\n",
       "      <th>Consumer Lending (including Auto Finance)</th>\n",
       "      <td>NaN</td>\n",
       "    </tr>\n",
       "    <tr>\n",
       "      <th>Corporate &amp; Commercial</th>\n",
       "      <td>NaN</td>\n",
       "    </tr>\n",
       "    <tr>\n",
       "      <th>Mortgages</th>\n",
       "      <td>NaN</td>\n",
       "    </tr>\n",
       "    <tr>\n",
       "      <th>Other Assets</th>\n",
       "      <td>NaN</td>\n",
       "    </tr>\n",
       "    <tr>\n",
       "      <th>Other Loans &amp; Advances</th>\n",
       "      <td>NaN</td>\n",
       "    </tr>\n",
       "  </tbody>\n",
       "</table>\n",
       "<p>100 rows × 1 columns</p>\n",
       "</div>"
      ],
      "text/plain": [
       "                                                                2020Q2-2019Q4\n",
       "Institute            Portfolio                                               \n",
       "Barclays - Group     Consumer Lending (including Auto Finance)      29.816147\n",
       "                     Corporate & Commercial                        126.465662\n",
       "                     Mortgages                                      16.203704\n",
       "                     Other Assets                                 -100.000000\n",
       "                     Other Loans & Advances                               NaN\n",
       "...                                                                       ...\n",
       "Yorkshire BS - Group Consumer Lending (including Auto Finance)            NaN\n",
       "                     Corporate & Commercial                               NaN\n",
       "                     Mortgages                                            NaN\n",
       "                     Other Assets                                         NaN\n",
       "                     Other Loans & Advances                               NaN\n",
       "\n",
       "[100 rows x 1 columns]"
      ]
     },
     "execution_count": 503,
     "metadata": {},
     "output_type": "execute_result"
    }
   ],
   "source": [
    "diff_pivot_df(xx, \"2020Q2\", \"2019Q4\")"
   ]
  },
  {
   "cell_type": "code",
   "execution_count": 621,
   "id": "85f8bd01",
   "metadata": {},
   "outputs": [],
   "source": [
    "import plotly.graph_objs as go\n",
    "import plotly\n",
    "\n",
    "\n",
    "def canvas() -> plotly.graph_objects:\n",
    "    \"\"\" Create plotly.graph_objects template with custom layout for macroeconomic variable.\n",
    "\n",
    "    Args:\n",
    "        macro_var (str): Macroeconomic variable.\n",
    "\n",
    "    Returns:\n",
    "        plotly.graph_objects: Empty canvas for a macroeconomic variable.\n",
    "    \"\"\"\n",
    "    # Create Figure.\n",
    "    custom_layout = go.Layout(template=\"plotly_white\",\n",
    "                              legend=dict(orientation=\"h\"))\n",
    "    fig = go.Figure(layout=custom_layout)\n",
    "    fig.update_layout(hoverlabel_align='right',\n",
    "                      plot_bgcolor='rgba(0,0,0,0)',\n",
    "                      legend=dict(\n",
    "                            orientation=\"h\",\n",
    "                            yanchor=\"bottom\",\n",
    "                            y=1.02,\n",
    "                            xanchor=\"right\",\n",
    "                            x=1\n",
    "                        ),\n",
    "                      xaxis=dict(showline=True,\n",
    "                                 showgrid=False,\n",
    "                                 showticklabels=True,\n",
    "                                 linecolor='rgb(204, 204, 204)',\n",
    "                                 linewidth=2,\n",
    "                                 ticks='outside',\n",
    "                                 tickfont=dict(\n",
    "                                     family='Arial',\n",
    "                                     size=12,\n",
    "                                     color='rgb(82, 82, 82)',\n",
    "                                 )))\n",
    "    fig.update_xaxes(tickformat=\"%Y-Q%q\")\n",
    "    return fig\n"
   ]
  },
  {
   "cell_type": "markdown",
   "id": "c6c21110",
   "metadata": {},
   "source": [
    "# Plotting ECL Distribution"
   ]
  },
  {
   "cell_type": "code",
   "execution_count": 687,
   "id": "b2538751",
   "metadata": {},
   "outputs": [],
   "source": [
    "xx = pivot_df(df1, \"EAD\", \"Total\")\n",
    "xx = filter_quarter_pivot(xx, start=\"2019Q4\", end=\"2019Q4\")\n",
    "xx = distribution_pivot(xx)"
   ]
  },
  {
   "cell_type": "code",
   "execution_count": 688,
   "id": "87b4c839",
   "metadata": {},
   "outputs": [],
   "source": [
    "import plotly.graph_objects as go\n",
    "\n",
    "fig = canvas()\n",
    "def plot_distribution(fig, df):\n",
    "    institutes = df.index.get_level_values(\"Institute\").unique()\n",
    "    portfolios = df.index.get_level_values(\"Portfolio\").unique()\n",
    "    \n",
    "    for port in portfolios:\n",
    "        fig.add_trace(go.Bar(name=port, x=institutes, y=df.xs(port, level=\"Portfolio\").values.flatten()))\n",
    "\n",
    "    fig.update_layout(barmode='stack')\n",
    "    return fig"
   ]
  },
  {
   "cell_type": "code",
   "execution_count": 689,
   "id": "6e915982",
   "metadata": {},
   "outputs": [],
   "source": [
    "fig = plot_distribution(fig, xx)"
   ]
  },
  {
   "cell_type": "code",
   "execution_count": 690,
   "id": "7cb20250",
   "metadata": {},
   "outputs": [
    {
     "data": {
      "application/vnd.plotly.v1+json": {
       "config": {
        "plotlyServerURL": "https://plot.ly"
       },
       "data": [
        {
         "name": "Consumer Lending (including Auto Finance)",
         "type": "bar",
         "x": [
          "Barclays - Group",
          "Barclays - UK",
          "HSBC - Group",
          "HSBC - UK",
          "Lloyds - Statutory",
          "Lloyds - Underlying",
          "NatWest - Bank plc",
          "NatWest - Group plc",
          "Nationwide",
          "Santander - UK",
          "Standard Chatered"
         ],
         "y": [
          12.16413701936196,
          10.708563290012462,
          14.306144888167225,
          7.107612009035286,
          10.713221735650961,
          10.684283516393744,
          4.7897934591173765,
          3.126814002204144,
          2.309920165210164,
          5.750643335982899,
          6.601739078198445
         ]
        },
        {
         "name": "Corporate & Commercial",
         "type": "bar",
         "x": [
          "Barclays - Group",
          "Barclays - UK",
          "HSBC - Group",
          "HSBC - UK",
          "Lloyds - Statutory",
          "Lloyds - Underlying",
          "NatWest - Bank plc",
          "NatWest - Group plc",
          "Nationwide",
          "Santander - UK",
          "Standard Chatered"
         ],
         "y": [
          26.34390671331809,
          14.484155243012282,
          35.48024863453548,
          28.306322507072522,
          18.84121182854951,
          18.820762882467243,
          29.12344420193985,
          22.591005072896596,
          4.115143425592465,
          7.408254300097633,
          4.457476684638142
         ]
        },
        {
         "name": "Mortgages",
         "type": "bar",
         "x": [
          "Barclays - Group",
          "Barclays - UK",
          "HSBC - Group",
          "HSBC - UK",
          "Lloyds - Statutory",
          "Lloyds - Underlying",
          "NatWest - Bank plc",
          "NatWest - Group plc",
          "Nationwide",
          "Santander - UK",
          "Standard Chatered"
         ],
         "y": [
          31.312041040318718,
          63.90288410183372,
          13.709025426829994,
          44.50273032303339,
          56.311201372351626,
          56.37592899836423,
          57.80448137255728,
          36.596153684369924,
          93.57090689299116,
          60.016623293662455,
          11.816720981572981
         ]
        },
        {
         "name": "Other Assets",
         "type": "bar",
         "x": [
          "Barclays - Group",
          "Barclays - UK",
          "HSBC - Group",
          "HSBC - UK",
          "Lloyds - Statutory",
          "Lloyds - Underlying",
          "NatWest - Bank plc",
          "NatWest - Group plc",
          "Nationwide",
          "Santander - UK",
          "Standard Chatered"
         ],
         "y": [
          30.17991522700123,
          0,
          0,
          0,
          2.983813338369962,
          2.980574914077984,
          0,
          28.498237525974407,
          0,
          25.191186024818784,
          50.76606544821061
         ]
        },
        {
         "name": "Other Loans & Advances",
         "type": "bar",
         "x": [
          "Barclays - Group",
          "Barclays - UK",
          "HSBC - Group",
          "HSBC - UK",
          "Lloyds - Statutory",
          "Lloyds - Underlying",
          "NatWest - Bank plc",
          "NatWest - Group plc",
          "Nationwide",
          "Santander - UK",
          "Standard Chatered"
         ],
         "y": [
          0,
          10.904397365141534,
          36.5045810504673,
          20.08333516085879,
          11.150551725077934,
          11.138449688696804,
          8.282280966385493,
          9.187789714554922,
          0.004029516206210492,
          1.6332930454382122,
          26.357997807379817
         ]
        }
       ],
       "layout": {
        "barmode": "stack",
        "hoverlabel": {
         "align": "right"
        },
        "legend": {
         "orientation": "h",
         "x": 1,
         "xanchor": "right",
         "y": 1.02,
         "yanchor": "bottom"
        },
        "plot_bgcolor": "rgba(0,0,0,0)",
        "template": {
         "data": {
          "bar": [
           {
            "error_x": {
             "color": "#2a3f5f"
            },
            "error_y": {
             "color": "#2a3f5f"
            },
            "marker": {
             "line": {
              "color": "white",
              "width": 0.5
             }
            },
            "type": "bar"
           }
          ],
          "barpolar": [
           {
            "marker": {
             "line": {
              "color": "white",
              "width": 0.5
             }
            },
            "type": "barpolar"
           }
          ],
          "carpet": [
           {
            "aaxis": {
             "endlinecolor": "#2a3f5f",
             "gridcolor": "#C8D4E3",
             "linecolor": "#C8D4E3",
             "minorgridcolor": "#C8D4E3",
             "startlinecolor": "#2a3f5f"
            },
            "baxis": {
             "endlinecolor": "#2a3f5f",
             "gridcolor": "#C8D4E3",
             "linecolor": "#C8D4E3",
             "minorgridcolor": "#C8D4E3",
             "startlinecolor": "#2a3f5f"
            },
            "type": "carpet"
           }
          ],
          "choropleth": [
           {
            "colorbar": {
             "outlinewidth": 0,
             "ticks": ""
            },
            "type": "choropleth"
           }
          ],
          "contour": [
           {
            "colorbar": {
             "outlinewidth": 0,
             "ticks": ""
            },
            "colorscale": [
             [
              0,
              "#0d0887"
             ],
             [
              0.1111111111111111,
              "#46039f"
             ],
             [
              0.2222222222222222,
              "#7201a8"
             ],
             [
              0.3333333333333333,
              "#9c179e"
             ],
             [
              0.4444444444444444,
              "#bd3786"
             ],
             [
              0.5555555555555556,
              "#d8576b"
             ],
             [
              0.6666666666666666,
              "#ed7953"
             ],
             [
              0.7777777777777778,
              "#fb9f3a"
             ],
             [
              0.8888888888888888,
              "#fdca26"
             ],
             [
              1,
              "#f0f921"
             ]
            ],
            "type": "contour"
           }
          ],
          "contourcarpet": [
           {
            "colorbar": {
             "outlinewidth": 0,
             "ticks": ""
            },
            "type": "contourcarpet"
           }
          ],
          "heatmap": [
           {
            "colorbar": {
             "outlinewidth": 0,
             "ticks": ""
            },
            "colorscale": [
             [
              0,
              "#0d0887"
             ],
             [
              0.1111111111111111,
              "#46039f"
             ],
             [
              0.2222222222222222,
              "#7201a8"
             ],
             [
              0.3333333333333333,
              "#9c179e"
             ],
             [
              0.4444444444444444,
              "#bd3786"
             ],
             [
              0.5555555555555556,
              "#d8576b"
             ],
             [
              0.6666666666666666,
              "#ed7953"
             ],
             [
              0.7777777777777778,
              "#fb9f3a"
             ],
             [
              0.8888888888888888,
              "#fdca26"
             ],
             [
              1,
              "#f0f921"
             ]
            ],
            "type": "heatmap"
           }
          ],
          "heatmapgl": [
           {
            "colorbar": {
             "outlinewidth": 0,
             "ticks": ""
            },
            "colorscale": [
             [
              0,
              "#0d0887"
             ],
             [
              0.1111111111111111,
              "#46039f"
             ],
             [
              0.2222222222222222,
              "#7201a8"
             ],
             [
              0.3333333333333333,
              "#9c179e"
             ],
             [
              0.4444444444444444,
              "#bd3786"
             ],
             [
              0.5555555555555556,
              "#d8576b"
             ],
             [
              0.6666666666666666,
              "#ed7953"
             ],
             [
              0.7777777777777778,
              "#fb9f3a"
             ],
             [
              0.8888888888888888,
              "#fdca26"
             ],
             [
              1,
              "#f0f921"
             ]
            ],
            "type": "heatmapgl"
           }
          ],
          "histogram": [
           {
            "marker": {
             "colorbar": {
              "outlinewidth": 0,
              "ticks": ""
             }
            },
            "type": "histogram"
           }
          ],
          "histogram2d": [
           {
            "colorbar": {
             "outlinewidth": 0,
             "ticks": ""
            },
            "colorscale": [
             [
              0,
              "#0d0887"
             ],
             [
              0.1111111111111111,
              "#46039f"
             ],
             [
              0.2222222222222222,
              "#7201a8"
             ],
             [
              0.3333333333333333,
              "#9c179e"
             ],
             [
              0.4444444444444444,
              "#bd3786"
             ],
             [
              0.5555555555555556,
              "#d8576b"
             ],
             [
              0.6666666666666666,
              "#ed7953"
             ],
             [
              0.7777777777777778,
              "#fb9f3a"
             ],
             [
              0.8888888888888888,
              "#fdca26"
             ],
             [
              1,
              "#f0f921"
             ]
            ],
            "type": "histogram2d"
           }
          ],
          "histogram2dcontour": [
           {
            "colorbar": {
             "outlinewidth": 0,
             "ticks": ""
            },
            "colorscale": [
             [
              0,
              "#0d0887"
             ],
             [
              0.1111111111111111,
              "#46039f"
             ],
             [
              0.2222222222222222,
              "#7201a8"
             ],
             [
              0.3333333333333333,
              "#9c179e"
             ],
             [
              0.4444444444444444,
              "#bd3786"
             ],
             [
              0.5555555555555556,
              "#d8576b"
             ],
             [
              0.6666666666666666,
              "#ed7953"
             ],
             [
              0.7777777777777778,
              "#fb9f3a"
             ],
             [
              0.8888888888888888,
              "#fdca26"
             ],
             [
              1,
              "#f0f921"
             ]
            ],
            "type": "histogram2dcontour"
           }
          ],
          "mesh3d": [
           {
            "colorbar": {
             "outlinewidth": 0,
             "ticks": ""
            },
            "type": "mesh3d"
           }
          ],
          "parcoords": [
           {
            "line": {
             "colorbar": {
              "outlinewidth": 0,
              "ticks": ""
             }
            },
            "type": "parcoords"
           }
          ],
          "pie": [
           {
            "automargin": true,
            "type": "pie"
           }
          ],
          "scatter": [
           {
            "marker": {
             "colorbar": {
              "outlinewidth": 0,
              "ticks": ""
             }
            },
            "type": "scatter"
           }
          ],
          "scatter3d": [
           {
            "line": {
             "colorbar": {
              "outlinewidth": 0,
              "ticks": ""
             }
            },
            "marker": {
             "colorbar": {
              "outlinewidth": 0,
              "ticks": ""
             }
            },
            "type": "scatter3d"
           }
          ],
          "scattercarpet": [
           {
            "marker": {
             "colorbar": {
              "outlinewidth": 0,
              "ticks": ""
             }
            },
            "type": "scattercarpet"
           }
          ],
          "scattergeo": [
           {
            "marker": {
             "colorbar": {
              "outlinewidth": 0,
              "ticks": ""
             }
            },
            "type": "scattergeo"
           }
          ],
          "scattergl": [
           {
            "marker": {
             "colorbar": {
              "outlinewidth": 0,
              "ticks": ""
             }
            },
            "type": "scattergl"
           }
          ],
          "scattermapbox": [
           {
            "marker": {
             "colorbar": {
              "outlinewidth": 0,
              "ticks": ""
             }
            },
            "type": "scattermapbox"
           }
          ],
          "scatterpolar": [
           {
            "marker": {
             "colorbar": {
              "outlinewidth": 0,
              "ticks": ""
             }
            },
            "type": "scatterpolar"
           }
          ],
          "scatterpolargl": [
           {
            "marker": {
             "colorbar": {
              "outlinewidth": 0,
              "ticks": ""
             }
            },
            "type": "scatterpolargl"
           }
          ],
          "scatterternary": [
           {
            "marker": {
             "colorbar": {
              "outlinewidth": 0,
              "ticks": ""
             }
            },
            "type": "scatterternary"
           }
          ],
          "surface": [
           {
            "colorbar": {
             "outlinewidth": 0,
             "ticks": ""
            },
            "colorscale": [
             [
              0,
              "#0d0887"
             ],
             [
              0.1111111111111111,
              "#46039f"
             ],
             [
              0.2222222222222222,
              "#7201a8"
             ],
             [
              0.3333333333333333,
              "#9c179e"
             ],
             [
              0.4444444444444444,
              "#bd3786"
             ],
             [
              0.5555555555555556,
              "#d8576b"
             ],
             [
              0.6666666666666666,
              "#ed7953"
             ],
             [
              0.7777777777777778,
              "#fb9f3a"
             ],
             [
              0.8888888888888888,
              "#fdca26"
             ],
             [
              1,
              "#f0f921"
             ]
            ],
            "type": "surface"
           }
          ],
          "table": [
           {
            "cells": {
             "fill": {
              "color": "#EBF0F8"
             },
             "line": {
              "color": "white"
             }
            },
            "header": {
             "fill": {
              "color": "#C8D4E3"
             },
             "line": {
              "color": "white"
             }
            },
            "type": "table"
           }
          ]
         },
         "layout": {
          "annotationdefaults": {
           "arrowcolor": "#2a3f5f",
           "arrowhead": 0,
           "arrowwidth": 1
          },
          "autotypenumbers": "strict",
          "coloraxis": {
           "colorbar": {
            "outlinewidth": 0,
            "ticks": ""
           }
          },
          "colorscale": {
           "diverging": [
            [
             0,
             "#8e0152"
            ],
            [
             0.1,
             "#c51b7d"
            ],
            [
             0.2,
             "#de77ae"
            ],
            [
             0.3,
             "#f1b6da"
            ],
            [
             0.4,
             "#fde0ef"
            ],
            [
             0.5,
             "#f7f7f7"
            ],
            [
             0.6,
             "#e6f5d0"
            ],
            [
             0.7,
             "#b8e186"
            ],
            [
             0.8,
             "#7fbc41"
            ],
            [
             0.9,
             "#4d9221"
            ],
            [
             1,
             "#276419"
            ]
           ],
           "sequential": [
            [
             0,
             "#0d0887"
            ],
            [
             0.1111111111111111,
             "#46039f"
            ],
            [
             0.2222222222222222,
             "#7201a8"
            ],
            [
             0.3333333333333333,
             "#9c179e"
            ],
            [
             0.4444444444444444,
             "#bd3786"
            ],
            [
             0.5555555555555556,
             "#d8576b"
            ],
            [
             0.6666666666666666,
             "#ed7953"
            ],
            [
             0.7777777777777778,
             "#fb9f3a"
            ],
            [
             0.8888888888888888,
             "#fdca26"
            ],
            [
             1,
             "#f0f921"
            ]
           ],
           "sequentialminus": [
            [
             0,
             "#0d0887"
            ],
            [
             0.1111111111111111,
             "#46039f"
            ],
            [
             0.2222222222222222,
             "#7201a8"
            ],
            [
             0.3333333333333333,
             "#9c179e"
            ],
            [
             0.4444444444444444,
             "#bd3786"
            ],
            [
             0.5555555555555556,
             "#d8576b"
            ],
            [
             0.6666666666666666,
             "#ed7953"
            ],
            [
             0.7777777777777778,
             "#fb9f3a"
            ],
            [
             0.8888888888888888,
             "#fdca26"
            ],
            [
             1,
             "#f0f921"
            ]
           ]
          },
          "colorway": [
           "#636efa",
           "#EF553B",
           "#00cc96",
           "#ab63fa",
           "#FFA15A",
           "#19d3f3",
           "#FF6692",
           "#B6E880",
           "#FF97FF",
           "#FECB52"
          ],
          "font": {
           "color": "#2a3f5f"
          },
          "geo": {
           "bgcolor": "white",
           "lakecolor": "white",
           "landcolor": "white",
           "showlakes": true,
           "showland": true,
           "subunitcolor": "#C8D4E3"
          },
          "hoverlabel": {
           "align": "left"
          },
          "hovermode": "closest",
          "mapbox": {
           "style": "light"
          },
          "paper_bgcolor": "white",
          "plot_bgcolor": "white",
          "polar": {
           "angularaxis": {
            "gridcolor": "#EBF0F8",
            "linecolor": "#EBF0F8",
            "ticks": ""
           },
           "bgcolor": "white",
           "radialaxis": {
            "gridcolor": "#EBF0F8",
            "linecolor": "#EBF0F8",
            "ticks": ""
           }
          },
          "scene": {
           "xaxis": {
            "backgroundcolor": "white",
            "gridcolor": "#DFE8F3",
            "gridwidth": 2,
            "linecolor": "#EBF0F8",
            "showbackground": true,
            "ticks": "",
            "zerolinecolor": "#EBF0F8"
           },
           "yaxis": {
            "backgroundcolor": "white",
            "gridcolor": "#DFE8F3",
            "gridwidth": 2,
            "linecolor": "#EBF0F8",
            "showbackground": true,
            "ticks": "",
            "zerolinecolor": "#EBF0F8"
           },
           "zaxis": {
            "backgroundcolor": "white",
            "gridcolor": "#DFE8F3",
            "gridwidth": 2,
            "linecolor": "#EBF0F8",
            "showbackground": true,
            "ticks": "",
            "zerolinecolor": "#EBF0F8"
           }
          },
          "shapedefaults": {
           "line": {
            "color": "#2a3f5f"
           }
          },
          "ternary": {
           "aaxis": {
            "gridcolor": "#DFE8F3",
            "linecolor": "#A2B1C6",
            "ticks": ""
           },
           "baxis": {
            "gridcolor": "#DFE8F3",
            "linecolor": "#A2B1C6",
            "ticks": ""
           },
           "bgcolor": "white",
           "caxis": {
            "gridcolor": "#DFE8F3",
            "linecolor": "#A2B1C6",
            "ticks": ""
           }
          },
          "title": {
           "x": 0.05
          },
          "xaxis": {
           "automargin": true,
           "gridcolor": "#EBF0F8",
           "linecolor": "#EBF0F8",
           "ticks": "",
           "title": {
            "standoff": 15
           },
           "zerolinecolor": "#EBF0F8",
           "zerolinewidth": 2
          },
          "yaxis": {
           "automargin": true,
           "gridcolor": "#EBF0F8",
           "linecolor": "#EBF0F8",
           "ticks": "",
           "title": {
            "standoff": 15
           },
           "zerolinecolor": "#EBF0F8",
           "zerolinewidth": 2
          }
         }
        },
        "xaxis": {
         "linecolor": "rgb(204, 204, 204)",
         "linewidth": 2,
         "showgrid": false,
         "showline": true,
         "showticklabels": true,
         "tickfont": {
          "color": "rgb(82, 82, 82)",
          "family": "Arial",
          "size": 12
         },
         "tickformat": "%Y-Q%q",
         "ticks": "outside"
        }
       }
      },
      "text/html": [
       "<div>                            <div id=\"195c108e-8fbb-44f0-baf9-ace793f68b9f\" class=\"plotly-graph-div\" style=\"height:525px; width:100%;\"></div>            <script type=\"text/javascript\">                require([\"plotly\"], function(Plotly) {                    window.PLOTLYENV=window.PLOTLYENV || {};                                    if (document.getElementById(\"195c108e-8fbb-44f0-baf9-ace793f68b9f\")) {                    Plotly.newPlot(                        \"195c108e-8fbb-44f0-baf9-ace793f68b9f\",                        [{\"name\": \"Consumer Lending (including Auto Finance)\", \"type\": \"bar\", \"x\": [\"Barclays - Group\", \"Barclays - UK\", \"HSBC - Group\", \"HSBC - UK\", \"Lloyds - Statutory\", \"Lloyds - Underlying\", \"NatWest - Bank plc\", \"NatWest - Group plc\", \"Nationwide\", \"Santander - UK\", \"Standard Chatered\"], \"y\": [12.16413701936196, 10.708563290012462, 14.306144888167225, 7.107612009035286, 10.713221735650961, 10.684283516393744, 4.7897934591173765, 3.126814002204144, 2.309920165210164, 5.750643335982899, 6.601739078198445]}, {\"name\": \"Corporate & Commercial\", \"type\": \"bar\", \"x\": [\"Barclays - Group\", \"Barclays - UK\", \"HSBC - Group\", \"HSBC - UK\", \"Lloyds - Statutory\", \"Lloyds - Underlying\", \"NatWest - Bank plc\", \"NatWest - Group plc\", \"Nationwide\", \"Santander - UK\", \"Standard Chatered\"], \"y\": [26.34390671331809, 14.484155243012282, 35.48024863453548, 28.306322507072522, 18.84121182854951, 18.820762882467243, 29.12344420193985, 22.591005072896596, 4.115143425592465, 7.408254300097633, 4.457476684638142]}, {\"name\": \"Mortgages\", \"type\": \"bar\", \"x\": [\"Barclays - Group\", \"Barclays - UK\", \"HSBC - Group\", \"HSBC - UK\", \"Lloyds - Statutory\", \"Lloyds - Underlying\", \"NatWest - Bank plc\", \"NatWest - Group plc\", \"Nationwide\", \"Santander - UK\", \"Standard Chatered\"], \"y\": [31.312041040318718, 63.90288410183372, 13.709025426829994, 44.50273032303339, 56.311201372351626, 56.37592899836423, 57.80448137255728, 36.596153684369924, 93.57090689299116, 60.016623293662455, 11.816720981572981]}, {\"name\": \"Other Assets\", \"type\": \"bar\", \"x\": [\"Barclays - Group\", \"Barclays - UK\", \"HSBC - Group\", \"HSBC - UK\", \"Lloyds - Statutory\", \"Lloyds - Underlying\", \"NatWest - Bank plc\", \"NatWest - Group plc\", \"Nationwide\", \"Santander - UK\", \"Standard Chatered\"], \"y\": [30.17991522700123, 0.0, 0.0, 0.0, 2.983813338369962, 2.980574914077984, 0.0, 28.498237525974407, 0.0, 25.191186024818784, 50.76606544821061]}, {\"name\": \"Other Loans & Advances\", \"type\": \"bar\", \"x\": [\"Barclays - Group\", \"Barclays - UK\", \"HSBC - Group\", \"HSBC - UK\", \"Lloyds - Statutory\", \"Lloyds - Underlying\", \"NatWest - Bank plc\", \"NatWest - Group plc\", \"Nationwide\", \"Santander - UK\", \"Standard Chatered\"], \"y\": [0.0, 10.904397365141534, 36.5045810504673, 20.08333516085879, 11.150551725077934, 11.138449688696804, 8.282280966385493, 9.187789714554922, 0.004029516206210492, 1.6332930454382122, 26.357997807379817]}],                        {\"barmode\": \"stack\", \"hoverlabel\": {\"align\": \"right\"}, \"legend\": {\"orientation\": \"h\", \"x\": 1, \"xanchor\": \"right\", \"y\": 1.02, \"yanchor\": \"bottom\"}, \"plot_bgcolor\": \"rgba(0,0,0,0)\", \"template\": {\"data\": {\"bar\": [{\"error_x\": {\"color\": \"#2a3f5f\"}, \"error_y\": {\"color\": \"#2a3f5f\"}, \"marker\": {\"line\": {\"color\": \"white\", \"width\": 0.5}}, \"type\": \"bar\"}], \"barpolar\": [{\"marker\": {\"line\": {\"color\": \"white\", \"width\": 0.5}}, \"type\": \"barpolar\"}], \"carpet\": [{\"aaxis\": {\"endlinecolor\": \"#2a3f5f\", \"gridcolor\": \"#C8D4E3\", \"linecolor\": \"#C8D4E3\", \"minorgridcolor\": \"#C8D4E3\", \"startlinecolor\": \"#2a3f5f\"}, \"baxis\": {\"endlinecolor\": \"#2a3f5f\", \"gridcolor\": \"#C8D4E3\", \"linecolor\": \"#C8D4E3\", \"minorgridcolor\": \"#C8D4E3\", \"startlinecolor\": \"#2a3f5f\"}, \"type\": \"carpet\"}], \"choropleth\": [{\"colorbar\": {\"outlinewidth\": 0, \"ticks\": \"\"}, \"type\": \"choropleth\"}], \"contour\": [{\"colorbar\": {\"outlinewidth\": 0, \"ticks\": \"\"}, \"colorscale\": [[0.0, \"#0d0887\"], [0.1111111111111111, \"#46039f\"], [0.2222222222222222, \"#7201a8\"], [0.3333333333333333, \"#9c179e\"], [0.4444444444444444, \"#bd3786\"], [0.5555555555555556, \"#d8576b\"], [0.6666666666666666, \"#ed7953\"], [0.7777777777777778, \"#fb9f3a\"], [0.8888888888888888, \"#fdca26\"], [1.0, \"#f0f921\"]], \"type\": \"contour\"}], \"contourcarpet\": [{\"colorbar\": {\"outlinewidth\": 0, \"ticks\": \"\"}, \"type\": \"contourcarpet\"}], \"heatmap\": [{\"colorbar\": {\"outlinewidth\": 0, \"ticks\": \"\"}, \"colorscale\": [[0.0, \"#0d0887\"], [0.1111111111111111, \"#46039f\"], [0.2222222222222222, \"#7201a8\"], [0.3333333333333333, \"#9c179e\"], [0.4444444444444444, \"#bd3786\"], [0.5555555555555556, \"#d8576b\"], [0.6666666666666666, \"#ed7953\"], [0.7777777777777778, \"#fb9f3a\"], [0.8888888888888888, \"#fdca26\"], [1.0, \"#f0f921\"]], \"type\": \"heatmap\"}], \"heatmapgl\": [{\"colorbar\": {\"outlinewidth\": 0, \"ticks\": \"\"}, \"colorscale\": [[0.0, \"#0d0887\"], [0.1111111111111111, \"#46039f\"], [0.2222222222222222, \"#7201a8\"], [0.3333333333333333, \"#9c179e\"], [0.4444444444444444, \"#bd3786\"], [0.5555555555555556, \"#d8576b\"], [0.6666666666666666, \"#ed7953\"], [0.7777777777777778, \"#fb9f3a\"], [0.8888888888888888, \"#fdca26\"], [1.0, \"#f0f921\"]], \"type\": \"heatmapgl\"}], \"histogram\": [{\"marker\": {\"colorbar\": {\"outlinewidth\": 0, \"ticks\": \"\"}}, \"type\": \"histogram\"}], \"histogram2d\": [{\"colorbar\": {\"outlinewidth\": 0, \"ticks\": \"\"}, \"colorscale\": [[0.0, \"#0d0887\"], [0.1111111111111111, \"#46039f\"], [0.2222222222222222, \"#7201a8\"], [0.3333333333333333, \"#9c179e\"], [0.4444444444444444, \"#bd3786\"], [0.5555555555555556, \"#d8576b\"], [0.6666666666666666, \"#ed7953\"], [0.7777777777777778, \"#fb9f3a\"], [0.8888888888888888, \"#fdca26\"], [1.0, \"#f0f921\"]], \"type\": \"histogram2d\"}], \"histogram2dcontour\": [{\"colorbar\": {\"outlinewidth\": 0, \"ticks\": \"\"}, \"colorscale\": [[0.0, \"#0d0887\"], [0.1111111111111111, \"#46039f\"], [0.2222222222222222, \"#7201a8\"], [0.3333333333333333, \"#9c179e\"], [0.4444444444444444, \"#bd3786\"], [0.5555555555555556, \"#d8576b\"], [0.6666666666666666, \"#ed7953\"], [0.7777777777777778, \"#fb9f3a\"], [0.8888888888888888, \"#fdca26\"], [1.0, \"#f0f921\"]], \"type\": \"histogram2dcontour\"}], \"mesh3d\": [{\"colorbar\": {\"outlinewidth\": 0, \"ticks\": \"\"}, \"type\": \"mesh3d\"}], \"parcoords\": [{\"line\": {\"colorbar\": {\"outlinewidth\": 0, \"ticks\": \"\"}}, \"type\": \"parcoords\"}], \"pie\": [{\"automargin\": true, \"type\": \"pie\"}], \"scatter\": [{\"marker\": {\"colorbar\": {\"outlinewidth\": 0, \"ticks\": \"\"}}, \"type\": \"scatter\"}], \"scatter3d\": [{\"line\": {\"colorbar\": {\"outlinewidth\": 0, \"ticks\": \"\"}}, \"marker\": {\"colorbar\": {\"outlinewidth\": 0, \"ticks\": \"\"}}, \"type\": \"scatter3d\"}], \"scattercarpet\": [{\"marker\": {\"colorbar\": {\"outlinewidth\": 0, \"ticks\": \"\"}}, \"type\": \"scattercarpet\"}], \"scattergeo\": [{\"marker\": {\"colorbar\": {\"outlinewidth\": 0, \"ticks\": \"\"}}, \"type\": \"scattergeo\"}], \"scattergl\": [{\"marker\": {\"colorbar\": {\"outlinewidth\": 0, \"ticks\": \"\"}}, \"type\": \"scattergl\"}], \"scattermapbox\": [{\"marker\": {\"colorbar\": {\"outlinewidth\": 0, \"ticks\": \"\"}}, \"type\": \"scattermapbox\"}], \"scatterpolar\": [{\"marker\": {\"colorbar\": {\"outlinewidth\": 0, \"ticks\": \"\"}}, \"type\": \"scatterpolar\"}], \"scatterpolargl\": [{\"marker\": {\"colorbar\": {\"outlinewidth\": 0, \"ticks\": \"\"}}, \"type\": \"scatterpolargl\"}], \"scatterternary\": [{\"marker\": {\"colorbar\": {\"outlinewidth\": 0, \"ticks\": \"\"}}, \"type\": \"scatterternary\"}], \"surface\": [{\"colorbar\": {\"outlinewidth\": 0, \"ticks\": \"\"}, \"colorscale\": [[0.0, \"#0d0887\"], [0.1111111111111111, \"#46039f\"], [0.2222222222222222, \"#7201a8\"], [0.3333333333333333, \"#9c179e\"], [0.4444444444444444, \"#bd3786\"], [0.5555555555555556, \"#d8576b\"], [0.6666666666666666, \"#ed7953\"], [0.7777777777777778, \"#fb9f3a\"], [0.8888888888888888, \"#fdca26\"], [1.0, \"#f0f921\"]], \"type\": \"surface\"}], \"table\": [{\"cells\": {\"fill\": {\"color\": \"#EBF0F8\"}, \"line\": {\"color\": \"white\"}}, \"header\": {\"fill\": {\"color\": \"#C8D4E3\"}, \"line\": {\"color\": \"white\"}}, \"type\": \"table\"}]}, \"layout\": {\"annotationdefaults\": {\"arrowcolor\": \"#2a3f5f\", \"arrowhead\": 0, \"arrowwidth\": 1}, \"autotypenumbers\": \"strict\", \"coloraxis\": {\"colorbar\": {\"outlinewidth\": 0, \"ticks\": \"\"}}, \"colorscale\": {\"diverging\": [[0, \"#8e0152\"], [0.1, \"#c51b7d\"], [0.2, \"#de77ae\"], [0.3, \"#f1b6da\"], [0.4, \"#fde0ef\"], [0.5, \"#f7f7f7\"], [0.6, \"#e6f5d0\"], [0.7, \"#b8e186\"], [0.8, \"#7fbc41\"], [0.9, \"#4d9221\"], [1, \"#276419\"]], \"sequential\": [[0.0, \"#0d0887\"], [0.1111111111111111, \"#46039f\"], [0.2222222222222222, \"#7201a8\"], [0.3333333333333333, \"#9c179e\"], [0.4444444444444444, \"#bd3786\"], [0.5555555555555556, \"#d8576b\"], [0.6666666666666666, \"#ed7953\"], [0.7777777777777778, \"#fb9f3a\"], [0.8888888888888888, \"#fdca26\"], [1.0, \"#f0f921\"]], \"sequentialminus\": [[0.0, \"#0d0887\"], [0.1111111111111111, \"#46039f\"], [0.2222222222222222, \"#7201a8\"], [0.3333333333333333, \"#9c179e\"], [0.4444444444444444, \"#bd3786\"], [0.5555555555555556, \"#d8576b\"], [0.6666666666666666, \"#ed7953\"], [0.7777777777777778, \"#fb9f3a\"], [0.8888888888888888, \"#fdca26\"], [1.0, \"#f0f921\"]]}, \"colorway\": [\"#636efa\", \"#EF553B\", \"#00cc96\", \"#ab63fa\", \"#FFA15A\", \"#19d3f3\", \"#FF6692\", \"#B6E880\", \"#FF97FF\", \"#FECB52\"], \"font\": {\"color\": \"#2a3f5f\"}, \"geo\": {\"bgcolor\": \"white\", \"lakecolor\": \"white\", \"landcolor\": \"white\", \"showlakes\": true, \"showland\": true, \"subunitcolor\": \"#C8D4E3\"}, \"hoverlabel\": {\"align\": \"left\"}, \"hovermode\": \"closest\", \"mapbox\": {\"style\": \"light\"}, \"paper_bgcolor\": \"white\", \"plot_bgcolor\": \"white\", \"polar\": {\"angularaxis\": {\"gridcolor\": \"#EBF0F8\", \"linecolor\": \"#EBF0F8\", \"ticks\": \"\"}, \"bgcolor\": \"white\", \"radialaxis\": {\"gridcolor\": \"#EBF0F8\", \"linecolor\": \"#EBF0F8\", \"ticks\": \"\"}}, \"scene\": {\"xaxis\": {\"backgroundcolor\": \"white\", \"gridcolor\": \"#DFE8F3\", \"gridwidth\": 2, \"linecolor\": \"#EBF0F8\", \"showbackground\": true, \"ticks\": \"\", \"zerolinecolor\": \"#EBF0F8\"}, \"yaxis\": {\"backgroundcolor\": \"white\", \"gridcolor\": \"#DFE8F3\", \"gridwidth\": 2, \"linecolor\": \"#EBF0F8\", \"showbackground\": true, \"ticks\": \"\", \"zerolinecolor\": \"#EBF0F8\"}, \"zaxis\": {\"backgroundcolor\": \"white\", \"gridcolor\": \"#DFE8F3\", \"gridwidth\": 2, \"linecolor\": \"#EBF0F8\", \"showbackground\": true, \"ticks\": \"\", \"zerolinecolor\": \"#EBF0F8\"}}, \"shapedefaults\": {\"line\": {\"color\": \"#2a3f5f\"}}, \"ternary\": {\"aaxis\": {\"gridcolor\": \"#DFE8F3\", \"linecolor\": \"#A2B1C6\", \"ticks\": \"\"}, \"baxis\": {\"gridcolor\": \"#DFE8F3\", \"linecolor\": \"#A2B1C6\", \"ticks\": \"\"}, \"bgcolor\": \"white\", \"caxis\": {\"gridcolor\": \"#DFE8F3\", \"linecolor\": \"#A2B1C6\", \"ticks\": \"\"}}, \"title\": {\"x\": 0.05}, \"xaxis\": {\"automargin\": true, \"gridcolor\": \"#EBF0F8\", \"linecolor\": \"#EBF0F8\", \"ticks\": \"\", \"title\": {\"standoff\": 15}, \"zerolinecolor\": \"#EBF0F8\", \"zerolinewidth\": 2}, \"yaxis\": {\"automargin\": true, \"gridcolor\": \"#EBF0F8\", \"linecolor\": \"#EBF0F8\", \"ticks\": \"\", \"title\": {\"standoff\": 15}, \"zerolinecolor\": \"#EBF0F8\", \"zerolinewidth\": 2}}}, \"xaxis\": {\"linecolor\": \"rgb(204, 204, 204)\", \"linewidth\": 2, \"showgrid\": false, \"showline\": true, \"showticklabels\": true, \"tickfont\": {\"color\": \"rgb(82, 82, 82)\", \"family\": \"Arial\", \"size\": 12}, \"tickformat\": \"%Y-Q%q\", \"ticks\": \"outside\"}},                        {\"responsive\": true}                    ).then(function(){\n",
       "                            \n",
       "var gd = document.getElementById('195c108e-8fbb-44f0-baf9-ace793f68b9f');\n",
       "var x = new MutationObserver(function (mutations, observer) {{\n",
       "        var display = window.getComputedStyle(gd).display;\n",
       "        if (!display || display === 'none') {{\n",
       "            console.log([gd, 'removed!']);\n",
       "            Plotly.purge(gd);\n",
       "            observer.disconnect();\n",
       "        }}\n",
       "}});\n",
       "\n",
       "// Listen for the removal of the full notebook cells\n",
       "var notebookContainer = gd.closest('#notebook-container');\n",
       "if (notebookContainer) {{\n",
       "    x.observe(notebookContainer, {childList: true});\n",
       "}}\n",
       "\n",
       "// Listen for the clearing of the current output cell\n",
       "var outputEl = gd.closest('.output');\n",
       "if (outputEl) {{\n",
       "    x.observe(outputEl, {childList: true});\n",
       "}}\n",
       "\n",
       "                        })                };                });            </script>        </div>"
      ]
     },
     "metadata": {},
     "output_type": "display_data"
    }
   ],
   "source": [
    "fig"
   ]
  },
  {
   "cell_type": "markdown",
   "id": "beb4924d",
   "metadata": {},
   "source": [
    "# Quarterly Change"
   ]
  },
  {
   "cell_type": "code",
   "execution_count": 555,
   "id": "e1d5172d",
   "metadata": {},
   "outputs": [],
   "source": [
    "xx = pivot_df(df1, \"ECL\", \"Total\")\n",
    "# xx = diff_pivot_df(xx, \"2020Q2\", \"2019Q4\")"
   ]
  },
  {
   "cell_type": "code",
   "execution_count": 556,
   "id": "d1999add",
   "metadata": {},
   "outputs": [],
   "source": [
    "fig = canvas()\n",
    "def add_horizontal_bar(fig, df):\n",
    "    institutes = df.index.get_level_values(\"Institute\").unique()\n",
    "    fig.add_trace(go.Bar(y=institutes, x=df.values.flatten(), orientation='h', name=df.columns[0]))\n",
    "    return fig"
   ]
  },
  {
   "cell_type": "code",
   "execution_count": 557,
   "id": "079c5e27",
   "metadata": {
    "scrolled": true
   },
   "outputs": [],
   "source": [
    "fig = add_horizontal_bar(fig, diff_pivot_df(xx, \"2020Q2\", \"2019Q4\"))"
   ]
  },
  {
   "cell_type": "code",
   "execution_count": 558,
   "id": "86852321",
   "metadata": {
    "scrolled": true
   },
   "outputs": [],
   "source": [
    "fig = add_horizontal_bar(fig, diff_pivot_df(xx, \"2020Q4\", \"2020Q2\"))"
   ]
  },
  {
   "cell_type": "code",
   "execution_count": 559,
   "id": "eab1a18e",
   "metadata": {},
   "outputs": [
    {
     "data": {
      "application/vnd.plotly.v1+json": {
       "config": {
        "plotlyServerURL": "https://plot.ly"
       },
       "data": [
        {
         "name": "2020Q2-2019Q4",
         "orientation": "h",
         "type": "bar",
         "x": [
          29.816147082334133,
          126.46566164154103,
          16.2037037037037,
          -100,
          null,
          22.25074882327771,
          32.818532818532816,
          1.17647058823529,
          null,
          200,
          null,
          null,
          null,
          null,
          null,
          null,
          null,
          null,
          null,
          null,
          null,
          null,
          null,
          null,
          null,
          38.26783670354828,
          59.07756089134566,
          52.36294896030245,
          null,
          105.92105263157893,
          83.54632587859425,
          59.375,
          116.10169491525424,
          -100,
          537.5,
          null,
          null,
          null,
          null,
          null,
          67.65151515151516,
          108.6824067022087,
          95.2548330404218,
          -100,
          603.030303030303,
          63.88687454677302,
          108.6824067022087,
          44.98355263157894,
          -100,
          603.030303030303,
          null,
          null,
          null,
          null,
          null,
          41.676234213547644,
          137.86407766990288,
          49.76076555023923,
          null,
          206.66666666666669,
          39.53488372093024,
          118.26865671641791,
          7.05394190871369,
          null,
          202.85714285714283,
          18.181818181818187,
          -2.4390243902439046,
          22.453267642370676,
          null,
          null,
          null,
          null,
          null,
          null,
          null,
          27.613941018766752,
          52.69230769230768,
          31.192660550458704,
          null,
          83.33333333333333,
          null,
          null,
          null,
          null,
          null,
          -100,
          -100,
          -100,
          -100,
          -100,
          null,
          null,
          null,
          null,
          null,
          null,
          null,
          null,
          null,
          null
         ],
         "y": [
          "Barclays - Group",
          "Barclays - UK",
          "Clydesdale Bank plc",
          "Co-operative Bank",
          "Coventry BS",
          "HSBC - Group",
          "HSBC - UK",
          "Leeds BS",
          "Lloyds - Statutory",
          "Lloyds - Underlying",
          "Metro Bank",
          "NatWest - Bank plc",
          "NatWest - Group plc",
          "Nationwide",
          "Paragon - Group",
          "Santander - UK",
          "Skipton BS",
          "Standard Chatered",
          "Virgin Money",
          "Yorkshire BS - Group"
         ]
        },
        {
         "name": "2020Q4-2020Q2",
         "orientation": "h",
         "type": "bar",
         "x": [
          -12.253694581280783,
          -22.448224852071007,
          7.17131474103585,
          null,
          null,
          -8.05040252012601,
          21.511627906976738,
          20.93023255813953,
          null,
          -100,
          null,
          null,
          null,
          null,
          null,
          null,
          null,
          null,
          null,
          null,
          null,
          null,
          null,
          null,
          null,
          10.844370860927155,
          11.391030513627975,
          -6.327543424317616,
          null,
          -14.376996805111819,
          12.79373368146215,
          19.54459203036054,
          -33.72549019607843,
          null,
          -5.882352941176472,
          null,
          null,
          null,
          null,
          null,
          7.004066877541804,
          -12.591240875912412,
          -7.560756075607555,
          null,
          84.91379310344827,
          6.3274336283185795,
          -12.591240875912412,
          -8.961996596710154,
          null,
          84.91379310344827,
          null,
          null,
          null,
          null,
          null,
          -9.967585089141007,
          -0.5895691609977272,
          12.779552715654962,
          null,
          17.391304347826097,
          -10.897435897435892,
          -0.0820568927789922,
          -2.6162790697674465,
          null,
          30.188679245283012,
          7.489878542510131,
          5.000000000000004,
          19.72072658422579,
          null,
          null,
          null,
          null,
          null,
          null,
          null,
          -9.873949579831931,
          60.20151133501259,
          -3.1468531468531458,
          null,
          59.09090909090908,
          null,
          null,
          null,
          null,
          null,
          null,
          null,
          null,
          null,
          null,
          null,
          null,
          null,
          null,
          null,
          null,
          null,
          null,
          null,
          null
         ],
         "y": [
          "Barclays - Group",
          "Barclays - UK",
          "Clydesdale Bank plc",
          "Co-operative Bank",
          "Coventry BS",
          "HSBC - Group",
          "HSBC - UK",
          "Leeds BS",
          "Lloyds - Statutory",
          "Lloyds - Underlying",
          "Metro Bank",
          "NatWest - Bank plc",
          "NatWest - Group plc",
          "Nationwide",
          "Paragon - Group",
          "Santander - UK",
          "Skipton BS",
          "Standard Chatered",
          "Virgin Money",
          "Yorkshire BS - Group"
         ]
        }
       ],
       "layout": {
        "hoverlabel": {
         "align": "right"
        },
        "hovermode": "x unified",
        "legend": {
         "orientation": "h",
         "x": 1,
         "xanchor": "right",
         "y": 1.02,
         "yanchor": "bottom"
        },
        "plot_bgcolor": "rgba(0,0,0,0)",
        "template": {
         "data": {
          "bar": [
           {
            "error_x": {
             "color": "#2a3f5f"
            },
            "error_y": {
             "color": "#2a3f5f"
            },
            "marker": {
             "line": {
              "color": "white",
              "width": 0.5
             }
            },
            "type": "bar"
           }
          ],
          "barpolar": [
           {
            "marker": {
             "line": {
              "color": "white",
              "width": 0.5
             }
            },
            "type": "barpolar"
           }
          ],
          "carpet": [
           {
            "aaxis": {
             "endlinecolor": "#2a3f5f",
             "gridcolor": "#C8D4E3",
             "linecolor": "#C8D4E3",
             "minorgridcolor": "#C8D4E3",
             "startlinecolor": "#2a3f5f"
            },
            "baxis": {
             "endlinecolor": "#2a3f5f",
             "gridcolor": "#C8D4E3",
             "linecolor": "#C8D4E3",
             "minorgridcolor": "#C8D4E3",
             "startlinecolor": "#2a3f5f"
            },
            "type": "carpet"
           }
          ],
          "choropleth": [
           {
            "colorbar": {
             "outlinewidth": 0,
             "ticks": ""
            },
            "type": "choropleth"
           }
          ],
          "contour": [
           {
            "colorbar": {
             "outlinewidth": 0,
             "ticks": ""
            },
            "colorscale": [
             [
              0,
              "#0d0887"
             ],
             [
              0.1111111111111111,
              "#46039f"
             ],
             [
              0.2222222222222222,
              "#7201a8"
             ],
             [
              0.3333333333333333,
              "#9c179e"
             ],
             [
              0.4444444444444444,
              "#bd3786"
             ],
             [
              0.5555555555555556,
              "#d8576b"
             ],
             [
              0.6666666666666666,
              "#ed7953"
             ],
             [
              0.7777777777777778,
              "#fb9f3a"
             ],
             [
              0.8888888888888888,
              "#fdca26"
             ],
             [
              1,
              "#f0f921"
             ]
            ],
            "type": "contour"
           }
          ],
          "contourcarpet": [
           {
            "colorbar": {
             "outlinewidth": 0,
             "ticks": ""
            },
            "type": "contourcarpet"
           }
          ],
          "heatmap": [
           {
            "colorbar": {
             "outlinewidth": 0,
             "ticks": ""
            },
            "colorscale": [
             [
              0,
              "#0d0887"
             ],
             [
              0.1111111111111111,
              "#46039f"
             ],
             [
              0.2222222222222222,
              "#7201a8"
             ],
             [
              0.3333333333333333,
              "#9c179e"
             ],
             [
              0.4444444444444444,
              "#bd3786"
             ],
             [
              0.5555555555555556,
              "#d8576b"
             ],
             [
              0.6666666666666666,
              "#ed7953"
             ],
             [
              0.7777777777777778,
              "#fb9f3a"
             ],
             [
              0.8888888888888888,
              "#fdca26"
             ],
             [
              1,
              "#f0f921"
             ]
            ],
            "type": "heatmap"
           }
          ],
          "heatmapgl": [
           {
            "colorbar": {
             "outlinewidth": 0,
             "ticks": ""
            },
            "colorscale": [
             [
              0,
              "#0d0887"
             ],
             [
              0.1111111111111111,
              "#46039f"
             ],
             [
              0.2222222222222222,
              "#7201a8"
             ],
             [
              0.3333333333333333,
              "#9c179e"
             ],
             [
              0.4444444444444444,
              "#bd3786"
             ],
             [
              0.5555555555555556,
              "#d8576b"
             ],
             [
              0.6666666666666666,
              "#ed7953"
             ],
             [
              0.7777777777777778,
              "#fb9f3a"
             ],
             [
              0.8888888888888888,
              "#fdca26"
             ],
             [
              1,
              "#f0f921"
             ]
            ],
            "type": "heatmapgl"
           }
          ],
          "histogram": [
           {
            "marker": {
             "colorbar": {
              "outlinewidth": 0,
              "ticks": ""
             }
            },
            "type": "histogram"
           }
          ],
          "histogram2d": [
           {
            "colorbar": {
             "outlinewidth": 0,
             "ticks": ""
            },
            "colorscale": [
             [
              0,
              "#0d0887"
             ],
             [
              0.1111111111111111,
              "#46039f"
             ],
             [
              0.2222222222222222,
              "#7201a8"
             ],
             [
              0.3333333333333333,
              "#9c179e"
             ],
             [
              0.4444444444444444,
              "#bd3786"
             ],
             [
              0.5555555555555556,
              "#d8576b"
             ],
             [
              0.6666666666666666,
              "#ed7953"
             ],
             [
              0.7777777777777778,
              "#fb9f3a"
             ],
             [
              0.8888888888888888,
              "#fdca26"
             ],
             [
              1,
              "#f0f921"
             ]
            ],
            "type": "histogram2d"
           }
          ],
          "histogram2dcontour": [
           {
            "colorbar": {
             "outlinewidth": 0,
             "ticks": ""
            },
            "colorscale": [
             [
              0,
              "#0d0887"
             ],
             [
              0.1111111111111111,
              "#46039f"
             ],
             [
              0.2222222222222222,
              "#7201a8"
             ],
             [
              0.3333333333333333,
              "#9c179e"
             ],
             [
              0.4444444444444444,
              "#bd3786"
             ],
             [
              0.5555555555555556,
              "#d8576b"
             ],
             [
              0.6666666666666666,
              "#ed7953"
             ],
             [
              0.7777777777777778,
              "#fb9f3a"
             ],
             [
              0.8888888888888888,
              "#fdca26"
             ],
             [
              1,
              "#f0f921"
             ]
            ],
            "type": "histogram2dcontour"
           }
          ],
          "mesh3d": [
           {
            "colorbar": {
             "outlinewidth": 0,
             "ticks": ""
            },
            "type": "mesh3d"
           }
          ],
          "parcoords": [
           {
            "line": {
             "colorbar": {
              "outlinewidth": 0,
              "ticks": ""
             }
            },
            "type": "parcoords"
           }
          ],
          "pie": [
           {
            "automargin": true,
            "type": "pie"
           }
          ],
          "scatter": [
           {
            "marker": {
             "colorbar": {
              "outlinewidth": 0,
              "ticks": ""
             }
            },
            "type": "scatter"
           }
          ],
          "scatter3d": [
           {
            "line": {
             "colorbar": {
              "outlinewidth": 0,
              "ticks": ""
             }
            },
            "marker": {
             "colorbar": {
              "outlinewidth": 0,
              "ticks": ""
             }
            },
            "type": "scatter3d"
           }
          ],
          "scattercarpet": [
           {
            "marker": {
             "colorbar": {
              "outlinewidth": 0,
              "ticks": ""
             }
            },
            "type": "scattercarpet"
           }
          ],
          "scattergeo": [
           {
            "marker": {
             "colorbar": {
              "outlinewidth": 0,
              "ticks": ""
             }
            },
            "type": "scattergeo"
           }
          ],
          "scattergl": [
           {
            "marker": {
             "colorbar": {
              "outlinewidth": 0,
              "ticks": ""
             }
            },
            "type": "scattergl"
           }
          ],
          "scattermapbox": [
           {
            "marker": {
             "colorbar": {
              "outlinewidth": 0,
              "ticks": ""
             }
            },
            "type": "scattermapbox"
           }
          ],
          "scatterpolar": [
           {
            "marker": {
             "colorbar": {
              "outlinewidth": 0,
              "ticks": ""
             }
            },
            "type": "scatterpolar"
           }
          ],
          "scatterpolargl": [
           {
            "marker": {
             "colorbar": {
              "outlinewidth": 0,
              "ticks": ""
             }
            },
            "type": "scatterpolargl"
           }
          ],
          "scatterternary": [
           {
            "marker": {
             "colorbar": {
              "outlinewidth": 0,
              "ticks": ""
             }
            },
            "type": "scatterternary"
           }
          ],
          "surface": [
           {
            "colorbar": {
             "outlinewidth": 0,
             "ticks": ""
            },
            "colorscale": [
             [
              0,
              "#0d0887"
             ],
             [
              0.1111111111111111,
              "#46039f"
             ],
             [
              0.2222222222222222,
              "#7201a8"
             ],
             [
              0.3333333333333333,
              "#9c179e"
             ],
             [
              0.4444444444444444,
              "#bd3786"
             ],
             [
              0.5555555555555556,
              "#d8576b"
             ],
             [
              0.6666666666666666,
              "#ed7953"
             ],
             [
              0.7777777777777778,
              "#fb9f3a"
             ],
             [
              0.8888888888888888,
              "#fdca26"
             ],
             [
              1,
              "#f0f921"
             ]
            ],
            "type": "surface"
           }
          ],
          "table": [
           {
            "cells": {
             "fill": {
              "color": "#EBF0F8"
             },
             "line": {
              "color": "white"
             }
            },
            "header": {
             "fill": {
              "color": "#C8D4E3"
             },
             "line": {
              "color": "white"
             }
            },
            "type": "table"
           }
          ]
         },
         "layout": {
          "annotationdefaults": {
           "arrowcolor": "#2a3f5f",
           "arrowhead": 0,
           "arrowwidth": 1
          },
          "autotypenumbers": "strict",
          "coloraxis": {
           "colorbar": {
            "outlinewidth": 0,
            "ticks": ""
           }
          },
          "colorscale": {
           "diverging": [
            [
             0,
             "#8e0152"
            ],
            [
             0.1,
             "#c51b7d"
            ],
            [
             0.2,
             "#de77ae"
            ],
            [
             0.3,
             "#f1b6da"
            ],
            [
             0.4,
             "#fde0ef"
            ],
            [
             0.5,
             "#f7f7f7"
            ],
            [
             0.6,
             "#e6f5d0"
            ],
            [
             0.7,
             "#b8e186"
            ],
            [
             0.8,
             "#7fbc41"
            ],
            [
             0.9,
             "#4d9221"
            ],
            [
             1,
             "#276419"
            ]
           ],
           "sequential": [
            [
             0,
             "#0d0887"
            ],
            [
             0.1111111111111111,
             "#46039f"
            ],
            [
             0.2222222222222222,
             "#7201a8"
            ],
            [
             0.3333333333333333,
             "#9c179e"
            ],
            [
             0.4444444444444444,
             "#bd3786"
            ],
            [
             0.5555555555555556,
             "#d8576b"
            ],
            [
             0.6666666666666666,
             "#ed7953"
            ],
            [
             0.7777777777777778,
             "#fb9f3a"
            ],
            [
             0.8888888888888888,
             "#fdca26"
            ],
            [
             1,
             "#f0f921"
            ]
           ],
           "sequentialminus": [
            [
             0,
             "#0d0887"
            ],
            [
             0.1111111111111111,
             "#46039f"
            ],
            [
             0.2222222222222222,
             "#7201a8"
            ],
            [
             0.3333333333333333,
             "#9c179e"
            ],
            [
             0.4444444444444444,
             "#bd3786"
            ],
            [
             0.5555555555555556,
             "#d8576b"
            ],
            [
             0.6666666666666666,
             "#ed7953"
            ],
            [
             0.7777777777777778,
             "#fb9f3a"
            ],
            [
             0.8888888888888888,
             "#fdca26"
            ],
            [
             1,
             "#f0f921"
            ]
           ]
          },
          "colorway": [
           "#636efa",
           "#EF553B",
           "#00cc96",
           "#ab63fa",
           "#FFA15A",
           "#19d3f3",
           "#FF6692",
           "#B6E880",
           "#FF97FF",
           "#FECB52"
          ],
          "font": {
           "color": "#2a3f5f"
          },
          "geo": {
           "bgcolor": "white",
           "lakecolor": "white",
           "landcolor": "white",
           "showlakes": true,
           "showland": true,
           "subunitcolor": "#C8D4E3"
          },
          "hoverlabel": {
           "align": "left"
          },
          "hovermode": "closest",
          "mapbox": {
           "style": "light"
          },
          "paper_bgcolor": "white",
          "plot_bgcolor": "white",
          "polar": {
           "angularaxis": {
            "gridcolor": "#EBF0F8",
            "linecolor": "#EBF0F8",
            "ticks": ""
           },
           "bgcolor": "white",
           "radialaxis": {
            "gridcolor": "#EBF0F8",
            "linecolor": "#EBF0F8",
            "ticks": ""
           }
          },
          "scene": {
           "xaxis": {
            "backgroundcolor": "white",
            "gridcolor": "#DFE8F3",
            "gridwidth": 2,
            "linecolor": "#EBF0F8",
            "showbackground": true,
            "ticks": "",
            "zerolinecolor": "#EBF0F8"
           },
           "yaxis": {
            "backgroundcolor": "white",
            "gridcolor": "#DFE8F3",
            "gridwidth": 2,
            "linecolor": "#EBF0F8",
            "showbackground": true,
            "ticks": "",
            "zerolinecolor": "#EBF0F8"
           },
           "zaxis": {
            "backgroundcolor": "white",
            "gridcolor": "#DFE8F3",
            "gridwidth": 2,
            "linecolor": "#EBF0F8",
            "showbackground": true,
            "ticks": "",
            "zerolinecolor": "#EBF0F8"
           }
          },
          "shapedefaults": {
           "line": {
            "color": "#2a3f5f"
           }
          },
          "ternary": {
           "aaxis": {
            "gridcolor": "#DFE8F3",
            "linecolor": "#A2B1C6",
            "ticks": ""
           },
           "baxis": {
            "gridcolor": "#DFE8F3",
            "linecolor": "#A2B1C6",
            "ticks": ""
           },
           "bgcolor": "white",
           "caxis": {
            "gridcolor": "#DFE8F3",
            "linecolor": "#A2B1C6",
            "ticks": ""
           }
          },
          "title": {
           "x": 0.05
          },
          "xaxis": {
           "automargin": true,
           "gridcolor": "#EBF0F8",
           "linecolor": "#EBF0F8",
           "ticks": "",
           "title": {
            "standoff": 15
           },
           "zerolinecolor": "#EBF0F8",
           "zerolinewidth": 2
          },
          "yaxis": {
           "automargin": true,
           "gridcolor": "#EBF0F8",
           "linecolor": "#EBF0F8",
           "ticks": "",
           "title": {
            "standoff": 15
           },
           "zerolinecolor": "#EBF0F8",
           "zerolinewidth": 2
          }
         }
        },
        "xaxis": {
         "linecolor": "rgb(204, 204, 204)",
         "linewidth": 2,
         "showgrid": false,
         "showline": true,
         "showticklabels": true,
         "tickfont": {
          "color": "rgb(82, 82, 82)",
          "family": "Arial",
          "size": 12
         },
         "tickformat": "%Y-Q%q",
         "ticks": "outside"
        }
       }
      },
      "text/html": [
       "<div>                            <div id=\"e0078551-39bd-4552-ae48-92546845e4b0\" class=\"plotly-graph-div\" style=\"height:525px; width:100%;\"></div>            <script type=\"text/javascript\">                require([\"plotly\"], function(Plotly) {                    window.PLOTLYENV=window.PLOTLYENV || {};                                    if (document.getElementById(\"e0078551-39bd-4552-ae48-92546845e4b0\")) {                    Plotly.newPlot(                        \"e0078551-39bd-4552-ae48-92546845e4b0\",                        [{\"name\": \"2020Q2-2019Q4\", \"orientation\": \"h\", \"type\": \"bar\", \"x\": [29.816147082334133, 126.46566164154103, 16.2037037037037, -100.0, null, 22.25074882327771, 32.818532818532816, 1.17647058823529, null, 200.0, null, null, null, null, null, null, null, null, null, null, null, null, null, null, null, 38.26783670354828, 59.07756089134566, 52.36294896030245, null, 105.92105263157893, 83.54632587859425, 59.375, 116.10169491525424, -100.0, 537.5, null, null, null, null, null, 67.65151515151516, 108.6824067022087, 95.2548330404218, -100.0, 603.030303030303, 63.88687454677302, 108.6824067022087, 44.98355263157894, -100.0, 603.030303030303, null, null, null, null, null, 41.676234213547644, 137.86407766990288, 49.76076555023923, null, 206.66666666666669, 39.53488372093024, 118.26865671641791, 7.05394190871369, null, 202.85714285714283, 18.181818181818187, -2.4390243902439046, 22.453267642370676, null, null, null, null, null, null, null, 27.613941018766752, 52.69230769230768, 31.192660550458704, null, 83.33333333333333, null, null, null, null, null, -100.0, -100.0, -100.0, -100.0, -100.0, null, null, null, null, null, null, null, null, null, null], \"y\": [\"Barclays - Group\", \"Barclays - UK\", \"Clydesdale Bank plc\", \"Co-operative Bank\", \"Coventry BS\", \"HSBC - Group\", \"HSBC - UK\", \"Leeds BS\", \"Lloyds - Statutory\", \"Lloyds - Underlying\", \"Metro Bank\", \"NatWest - Bank plc\", \"NatWest - Group plc\", \"Nationwide\", \"Paragon - Group\", \"Santander - UK\", \"Skipton BS\", \"Standard Chatered\", \"Virgin Money\", \"Yorkshire BS - Group\"]}, {\"name\": \"2020Q4-2020Q2\", \"orientation\": \"h\", \"type\": \"bar\", \"x\": [-12.253694581280783, -22.448224852071007, 7.17131474103585, null, null, -8.05040252012601, 21.511627906976738, 20.93023255813953, null, -100.0, null, null, null, null, null, null, null, null, null, null, null, null, null, null, null, 10.844370860927155, 11.391030513627975, -6.327543424317616, null, -14.376996805111819, 12.79373368146215, 19.54459203036054, -33.72549019607843, null, -5.882352941176472, null, null, null, null, null, 7.004066877541804, -12.591240875912412, -7.560756075607555, null, 84.91379310344827, 6.3274336283185795, -12.591240875912412, -8.961996596710154, null, 84.91379310344827, null, null, null, null, null, -9.967585089141007, -0.5895691609977272, 12.779552715654962, null, 17.391304347826097, -10.897435897435892, -0.0820568927789922, -2.6162790697674465, null, 30.188679245283012, 7.489878542510131, 5.000000000000004, 19.72072658422579, null, null, null, null, null, null, null, -9.873949579831931, 60.20151133501259, -3.1468531468531458, null, 59.09090909090908, null, null, null, null, null, null, null, null, null, null, null, null, null, null, null, null, null, null, null, null], \"y\": [\"Barclays - Group\", \"Barclays - UK\", \"Clydesdale Bank plc\", \"Co-operative Bank\", \"Coventry BS\", \"HSBC - Group\", \"HSBC - UK\", \"Leeds BS\", \"Lloyds - Statutory\", \"Lloyds - Underlying\", \"Metro Bank\", \"NatWest - Bank plc\", \"NatWest - Group plc\", \"Nationwide\", \"Paragon - Group\", \"Santander - UK\", \"Skipton BS\", \"Standard Chatered\", \"Virgin Money\", \"Yorkshire BS - Group\"]}],                        {\"hoverlabel\": {\"align\": \"right\"}, \"hovermode\": \"x unified\", \"legend\": {\"orientation\": \"h\", \"x\": 1, \"xanchor\": \"right\", \"y\": 1.02, \"yanchor\": \"bottom\"}, \"plot_bgcolor\": \"rgba(0,0,0,0)\", \"template\": {\"data\": {\"bar\": [{\"error_x\": {\"color\": \"#2a3f5f\"}, \"error_y\": {\"color\": \"#2a3f5f\"}, \"marker\": {\"line\": {\"color\": \"white\", \"width\": 0.5}}, \"type\": \"bar\"}], \"barpolar\": [{\"marker\": {\"line\": {\"color\": \"white\", \"width\": 0.5}}, \"type\": \"barpolar\"}], \"carpet\": [{\"aaxis\": {\"endlinecolor\": \"#2a3f5f\", \"gridcolor\": \"#C8D4E3\", \"linecolor\": \"#C8D4E3\", \"minorgridcolor\": \"#C8D4E3\", \"startlinecolor\": \"#2a3f5f\"}, \"baxis\": {\"endlinecolor\": \"#2a3f5f\", \"gridcolor\": \"#C8D4E3\", \"linecolor\": \"#C8D4E3\", \"minorgridcolor\": \"#C8D4E3\", \"startlinecolor\": \"#2a3f5f\"}, \"type\": \"carpet\"}], \"choropleth\": [{\"colorbar\": {\"outlinewidth\": 0, \"ticks\": \"\"}, \"type\": \"choropleth\"}], \"contour\": [{\"colorbar\": {\"outlinewidth\": 0, \"ticks\": \"\"}, \"colorscale\": [[0.0, \"#0d0887\"], [0.1111111111111111, \"#46039f\"], [0.2222222222222222, \"#7201a8\"], [0.3333333333333333, \"#9c179e\"], [0.4444444444444444, \"#bd3786\"], [0.5555555555555556, \"#d8576b\"], [0.6666666666666666, \"#ed7953\"], [0.7777777777777778, \"#fb9f3a\"], [0.8888888888888888, \"#fdca26\"], [1.0, \"#f0f921\"]], \"type\": \"contour\"}], \"contourcarpet\": [{\"colorbar\": {\"outlinewidth\": 0, \"ticks\": \"\"}, \"type\": \"contourcarpet\"}], \"heatmap\": [{\"colorbar\": {\"outlinewidth\": 0, \"ticks\": \"\"}, \"colorscale\": [[0.0, \"#0d0887\"], [0.1111111111111111, \"#46039f\"], [0.2222222222222222, \"#7201a8\"], [0.3333333333333333, \"#9c179e\"], [0.4444444444444444, \"#bd3786\"], [0.5555555555555556, \"#d8576b\"], [0.6666666666666666, \"#ed7953\"], [0.7777777777777778, \"#fb9f3a\"], [0.8888888888888888, \"#fdca26\"], [1.0, \"#f0f921\"]], \"type\": \"heatmap\"}], \"heatmapgl\": [{\"colorbar\": {\"outlinewidth\": 0, \"ticks\": \"\"}, \"colorscale\": [[0.0, \"#0d0887\"], [0.1111111111111111, \"#46039f\"], [0.2222222222222222, \"#7201a8\"], [0.3333333333333333, \"#9c179e\"], [0.4444444444444444, \"#bd3786\"], [0.5555555555555556, \"#d8576b\"], [0.6666666666666666, \"#ed7953\"], [0.7777777777777778, \"#fb9f3a\"], [0.8888888888888888, \"#fdca26\"], [1.0, \"#f0f921\"]], \"type\": \"heatmapgl\"}], \"histogram\": [{\"marker\": {\"colorbar\": {\"outlinewidth\": 0, \"ticks\": \"\"}}, \"type\": \"histogram\"}], \"histogram2d\": [{\"colorbar\": {\"outlinewidth\": 0, \"ticks\": \"\"}, \"colorscale\": [[0.0, \"#0d0887\"], [0.1111111111111111, \"#46039f\"], [0.2222222222222222, \"#7201a8\"], [0.3333333333333333, \"#9c179e\"], [0.4444444444444444, \"#bd3786\"], [0.5555555555555556, \"#d8576b\"], [0.6666666666666666, \"#ed7953\"], [0.7777777777777778, \"#fb9f3a\"], [0.8888888888888888, \"#fdca26\"], [1.0, \"#f0f921\"]], \"type\": \"histogram2d\"}], \"histogram2dcontour\": [{\"colorbar\": {\"outlinewidth\": 0, \"ticks\": \"\"}, \"colorscale\": [[0.0, \"#0d0887\"], [0.1111111111111111, \"#46039f\"], [0.2222222222222222, \"#7201a8\"], [0.3333333333333333, \"#9c179e\"], [0.4444444444444444, \"#bd3786\"], [0.5555555555555556, \"#d8576b\"], [0.6666666666666666, \"#ed7953\"], [0.7777777777777778, \"#fb9f3a\"], [0.8888888888888888, \"#fdca26\"], [1.0, \"#f0f921\"]], \"type\": \"histogram2dcontour\"}], \"mesh3d\": [{\"colorbar\": {\"outlinewidth\": 0, \"ticks\": \"\"}, \"type\": \"mesh3d\"}], \"parcoords\": [{\"line\": {\"colorbar\": {\"outlinewidth\": 0, \"ticks\": \"\"}}, \"type\": \"parcoords\"}], \"pie\": [{\"automargin\": true, \"type\": \"pie\"}], \"scatter\": [{\"marker\": {\"colorbar\": {\"outlinewidth\": 0, \"ticks\": \"\"}}, \"type\": \"scatter\"}], \"scatter3d\": [{\"line\": {\"colorbar\": {\"outlinewidth\": 0, \"ticks\": \"\"}}, \"marker\": {\"colorbar\": {\"outlinewidth\": 0, \"ticks\": \"\"}}, \"type\": \"scatter3d\"}], \"scattercarpet\": [{\"marker\": {\"colorbar\": {\"outlinewidth\": 0, \"ticks\": \"\"}}, \"type\": \"scattercarpet\"}], \"scattergeo\": [{\"marker\": {\"colorbar\": {\"outlinewidth\": 0, \"ticks\": \"\"}}, \"type\": \"scattergeo\"}], \"scattergl\": [{\"marker\": {\"colorbar\": {\"outlinewidth\": 0, \"ticks\": \"\"}}, \"type\": \"scattergl\"}], \"scattermapbox\": [{\"marker\": {\"colorbar\": {\"outlinewidth\": 0, \"ticks\": \"\"}}, \"type\": \"scattermapbox\"}], \"scatterpolar\": [{\"marker\": {\"colorbar\": {\"outlinewidth\": 0, \"ticks\": \"\"}}, \"type\": \"scatterpolar\"}], \"scatterpolargl\": [{\"marker\": {\"colorbar\": {\"outlinewidth\": 0, \"ticks\": \"\"}}, \"type\": \"scatterpolargl\"}], \"scatterternary\": [{\"marker\": {\"colorbar\": {\"outlinewidth\": 0, \"ticks\": \"\"}}, \"type\": \"scatterternary\"}], \"surface\": [{\"colorbar\": {\"outlinewidth\": 0, \"ticks\": \"\"}, \"colorscale\": [[0.0, \"#0d0887\"], [0.1111111111111111, \"#46039f\"], [0.2222222222222222, \"#7201a8\"], [0.3333333333333333, \"#9c179e\"], [0.4444444444444444, \"#bd3786\"], [0.5555555555555556, \"#d8576b\"], [0.6666666666666666, \"#ed7953\"], [0.7777777777777778, \"#fb9f3a\"], [0.8888888888888888, \"#fdca26\"], [1.0, \"#f0f921\"]], \"type\": \"surface\"}], \"table\": [{\"cells\": {\"fill\": {\"color\": \"#EBF0F8\"}, \"line\": {\"color\": \"white\"}}, \"header\": {\"fill\": {\"color\": \"#C8D4E3\"}, \"line\": {\"color\": \"white\"}}, \"type\": \"table\"}]}, \"layout\": {\"annotationdefaults\": {\"arrowcolor\": \"#2a3f5f\", \"arrowhead\": 0, \"arrowwidth\": 1}, \"autotypenumbers\": \"strict\", \"coloraxis\": {\"colorbar\": {\"outlinewidth\": 0, \"ticks\": \"\"}}, \"colorscale\": {\"diverging\": [[0, \"#8e0152\"], [0.1, \"#c51b7d\"], [0.2, \"#de77ae\"], [0.3, \"#f1b6da\"], [0.4, \"#fde0ef\"], [0.5, \"#f7f7f7\"], [0.6, \"#e6f5d0\"], [0.7, \"#b8e186\"], [0.8, \"#7fbc41\"], [0.9, \"#4d9221\"], [1, \"#276419\"]], \"sequential\": [[0.0, \"#0d0887\"], [0.1111111111111111, \"#46039f\"], [0.2222222222222222, \"#7201a8\"], [0.3333333333333333, \"#9c179e\"], [0.4444444444444444, \"#bd3786\"], [0.5555555555555556, \"#d8576b\"], [0.6666666666666666, \"#ed7953\"], [0.7777777777777778, \"#fb9f3a\"], [0.8888888888888888, \"#fdca26\"], [1.0, \"#f0f921\"]], \"sequentialminus\": [[0.0, \"#0d0887\"], [0.1111111111111111, \"#46039f\"], [0.2222222222222222, \"#7201a8\"], [0.3333333333333333, \"#9c179e\"], [0.4444444444444444, \"#bd3786\"], [0.5555555555555556, \"#d8576b\"], [0.6666666666666666, \"#ed7953\"], [0.7777777777777778, \"#fb9f3a\"], [0.8888888888888888, \"#fdca26\"], [1.0, \"#f0f921\"]]}, \"colorway\": [\"#636efa\", \"#EF553B\", \"#00cc96\", \"#ab63fa\", \"#FFA15A\", \"#19d3f3\", \"#FF6692\", \"#B6E880\", \"#FF97FF\", \"#FECB52\"], \"font\": {\"color\": \"#2a3f5f\"}, \"geo\": {\"bgcolor\": \"white\", \"lakecolor\": \"white\", \"landcolor\": \"white\", \"showlakes\": true, \"showland\": true, \"subunitcolor\": \"#C8D4E3\"}, \"hoverlabel\": {\"align\": \"left\"}, \"hovermode\": \"closest\", \"mapbox\": {\"style\": \"light\"}, \"paper_bgcolor\": \"white\", \"plot_bgcolor\": \"white\", \"polar\": {\"angularaxis\": {\"gridcolor\": \"#EBF0F8\", \"linecolor\": \"#EBF0F8\", \"ticks\": \"\"}, \"bgcolor\": \"white\", \"radialaxis\": {\"gridcolor\": \"#EBF0F8\", \"linecolor\": \"#EBF0F8\", \"ticks\": \"\"}}, \"scene\": {\"xaxis\": {\"backgroundcolor\": \"white\", \"gridcolor\": \"#DFE8F3\", \"gridwidth\": 2, \"linecolor\": \"#EBF0F8\", \"showbackground\": true, \"ticks\": \"\", \"zerolinecolor\": \"#EBF0F8\"}, \"yaxis\": {\"backgroundcolor\": \"white\", \"gridcolor\": \"#DFE8F3\", \"gridwidth\": 2, \"linecolor\": \"#EBF0F8\", \"showbackground\": true, \"ticks\": \"\", \"zerolinecolor\": \"#EBF0F8\"}, \"zaxis\": {\"backgroundcolor\": \"white\", \"gridcolor\": \"#DFE8F3\", \"gridwidth\": 2, \"linecolor\": \"#EBF0F8\", \"showbackground\": true, \"ticks\": \"\", \"zerolinecolor\": \"#EBF0F8\"}}, \"shapedefaults\": {\"line\": {\"color\": \"#2a3f5f\"}}, \"ternary\": {\"aaxis\": {\"gridcolor\": \"#DFE8F3\", \"linecolor\": \"#A2B1C6\", \"ticks\": \"\"}, \"baxis\": {\"gridcolor\": \"#DFE8F3\", \"linecolor\": \"#A2B1C6\", \"ticks\": \"\"}, \"bgcolor\": \"white\", \"caxis\": {\"gridcolor\": \"#DFE8F3\", \"linecolor\": \"#A2B1C6\", \"ticks\": \"\"}}, \"title\": {\"x\": 0.05}, \"xaxis\": {\"automargin\": true, \"gridcolor\": \"#EBF0F8\", \"linecolor\": \"#EBF0F8\", \"ticks\": \"\", \"title\": {\"standoff\": 15}, \"zerolinecolor\": \"#EBF0F8\", \"zerolinewidth\": 2}, \"yaxis\": {\"automargin\": true, \"gridcolor\": \"#EBF0F8\", \"linecolor\": \"#EBF0F8\", \"ticks\": \"\", \"title\": {\"standoff\": 15}, \"zerolinecolor\": \"#EBF0F8\", \"zerolinewidth\": 2}}}, \"xaxis\": {\"linecolor\": \"rgb(204, 204, 204)\", \"linewidth\": 2, \"showgrid\": false, \"showline\": true, \"showticklabels\": true, \"tickfont\": {\"color\": \"rgb(82, 82, 82)\", \"family\": \"Arial\", \"size\": 12}, \"tickformat\": \"%Y-Q%q\", \"ticks\": \"outside\"}},                        {\"responsive\": true}                    ).then(function(){\n",
       "                            \n",
       "var gd = document.getElementById('e0078551-39bd-4552-ae48-92546845e4b0');\n",
       "var x = new MutationObserver(function (mutations, observer) {{\n",
       "        var display = window.getComputedStyle(gd).display;\n",
       "        if (!display || display === 'none') {{\n",
       "            console.log([gd, 'removed!']);\n",
       "            Plotly.purge(gd);\n",
       "            observer.disconnect();\n",
       "        }}\n",
       "}});\n",
       "\n",
       "// Listen for the removal of the full notebook cells\n",
       "var notebookContainer = gd.closest('#notebook-container');\n",
       "if (notebookContainer) {{\n",
       "    x.observe(notebookContainer, {childList: true});\n",
       "}}\n",
       "\n",
       "// Listen for the clearing of the current output cell\n",
       "var outputEl = gd.closest('.output');\n",
       "if (outputEl) {{\n",
       "    x.observe(outputEl, {childList: true});\n",
       "}}\n",
       "\n",
       "                        })                };                });            </script>        </div>"
      ]
     },
     "metadata": {},
     "output_type": "display_data"
    }
   ],
   "source": [
    "fig"
   ]
  },
  {
   "cell_type": "markdown",
   "id": "091a25da",
   "metadata": {},
   "source": [
    "# Coverage"
   ]
  },
  {
   "cell_type": "code",
   "execution_count": 676,
   "id": "f22404ed",
   "metadata": {},
   "outputs": [],
   "source": [
    "xx = pivot_df(df1, \"Coverage Ratio\", \"Total\")"
   ]
  },
  {
   "cell_type": "code",
   "execution_count": 677,
   "id": "76a9f5e9",
   "metadata": {},
   "outputs": [],
   "source": [
    "xx = filter_portfolio_pivot(xx, \"Mortgages\")"
   ]
  },
  {
   "cell_type": "code",
   "execution_count": 678,
   "id": "6955ed19",
   "metadata": {
    "scrolled": true
   },
   "outputs": [],
   "source": [
    "import plotly.graph_objects as go\n",
    "\n",
    "fig = canvas()\n",
    "def plot_quarterly_bars(fig, df):\n",
    "    quarters = df.index.get_level_values(\"Quarter\").unique()\n",
    "    institutes = df.index.get_level_values(\"Institute\").unique()\n",
    "    \n",
    "    for val in institutes:\n",
    "        fig.add_trace(go.Bar(name=val, x=quarters, y=df.xs(val, level=\"Institute\").values.flatten()))\n",
    "\n",
    "    return fig"
   ]
  },
  {
   "cell_type": "code",
   "execution_count": 679,
   "id": "31982022",
   "metadata": {},
   "outputs": [
    {
     "data": {
      "application/vnd.plotly.v1+json": {
       "config": {
        "plotlyServerURL": "https://plot.ly"
       },
       "data": [
        {
         "name": "Barclays - Group",
         "type": "bar",
         "x": [
          "2019Q4",
          "2020Q1",
          "2020Q2",
          "2020Q3",
          "2020Q4"
         ],
         "y": [
          0.0027886980266088,
          0.0029505292472008,
          0.0031945222216565,
          0.0029685721451663,
          0.0033586165995567
         ]
        },
        {
         "name": "Barclays - UK",
         "type": "bar",
         "x": [
          "2019Q4",
          "2020Q1",
          "2020Q2",
          "2020Q3",
          "2020Q4"
         ],
         "y": [
          0.0005920168272077,
          0.0005912684771399,
          0.0007000632749498
         ]
        },
        {
         "name": "HSBC - Group",
         "type": "bar",
         "x": [
          "2019Q4",
          "2020Q1",
          "2020Q2",
          "2020Q3",
          "2020Q4"
         ],
         "y": [
          0.0016419494813426,
          0,
          0.0025339138909411,
          0.002353082237976,
          0.0021431693927024
         ]
        },
        {
         "name": "HSBC - UK",
         "type": "bar",
         "x": [
          "2019Q4",
          "2020Q1",
          "2020Q2",
          "2020Q3",
          "2020Q4"
         ],
         "y": [
          0.001162974059765,
          0.0024480861726332,
          0.0015270486396617
         ]
        },
        {
         "name": "Lloyds - Statutory",
         "type": "bar",
         "x": [
          "2019Q4",
          "2020Q1",
          "2020Q2",
          "2020Q3",
          "2020Q4"
         ],
         "y": [
          0.0019675101487562,
          0.0038903693224594,
          0.0034836468728587
         ]
        },
        {
         "name": "Lloyds - Underlying",
         "type": "bar",
         "x": [
          "2019Q4",
          "2020Q1",
          "2020Q2",
          "2020Q3",
          "2020Q4"
         ],
         "y": [
          0.0041953457882661,
          0,
          0.0061734663505814,
          0.0061221880949008,
          0.0054336050700105
         ]
        },
        {
         "name": "NatWest - Bank plc",
         "type": "bar",
         "x": [
          "2019Q4",
          "2020Q1",
          "2020Q2",
          "2020Q3",
          "2020Q4"
         ],
         "y": [
          0.0015234124438742,
          0.0021422509376625,
          0.0022627479888465
         ]
        },
        {
         "name": "NatWest - Group plc",
         "type": "bar",
         "x": [
          "2019Q4",
          "2020Q1",
          "2020Q2",
          "2020Q3",
          "2020Q4"
         ],
         "y": [
          0.0055401343654994,
          0.0012350349370243,
          0.0056628932336108,
          0.0052517194096828,
          0.0052751474941737
         ]
        },
        {
         "name": "Nationwide",
         "type": "bar",
         "x": [
          "2019Q4",
          "2020Q1",
          "2020Q2",
          "2020Q3",
          "2020Q4"
         ],
         "y": [
          0.0011088921306339,
          0.0013566404826464,
          0.0015845615434259
         ]
        },
        {
         "name": "Santander - UK",
         "type": "bar",
         "x": [
          "2019Q4",
          "2020Q1",
          "2020Q2",
          "2020Q3",
          "2020Q4"
         ],
         "y": [
          0.0013183676431456,
          0.0013230035756853,
          0.00170892164654,
          0.0016507747318235,
          0.0016313213703099
         ]
        },
        {
         "name": "Standard Chatered",
         "type": "bar",
         "x": [
          "2019Q4",
          "2020Q1",
          "2020Q2",
          "2020Q3",
          "2020Q4"
         ],
         "y": [
          0.0018428142951553,
          0,
          0
         ]
        },
        {
         "name": "Clydesdale Bank plc",
         "type": "bar",
         "x": [
          "2019Q4",
          "2020Q1",
          "2020Q2",
          "2020Q3",
          "2020Q4"
         ],
         "y": [
          0.0008366240546148
         ]
        },
        {
         "name": "Co-operative Bank",
         "type": "bar",
         "x": [
          "2019Q4",
          "2020Q1",
          "2020Q2",
          "2020Q3",
          "2020Q4"
         ],
         "y": [
          0.000481130657044
         ]
        },
        {
         "name": "Coventry BS",
         "type": "bar",
         "x": [
          "2019Q4",
          "2020Q1",
          "2020Q2",
          "2020Q3",
          "2020Q4"
         ],
         "y": [
          0.0011606000697755
         ]
        },
        {
         "name": "Leeds BS",
         "type": "bar",
         "x": [
          "2019Q4",
          "2020Q1",
          "2020Q2",
          "2020Q3",
          "2020Q4"
         ],
         "y": [
          0.0024470310959332
         ]
        },
        {
         "name": "Metro Bank",
         "type": "bar",
         "x": [
          "2019Q4",
          "2020Q1",
          "2020Q2",
          "2020Q3",
          "2020Q4"
         ],
         "y": [
          0.0039254170755642
         ]
        },
        {
         "name": "Paragon - Group",
         "type": "bar",
         "x": [
          "2019Q4",
          "2020Q1",
          "2020Q2",
          "2020Q3",
          "2020Q4"
         ],
         "y": [
          0.0034816211473481
         ]
        },
        {
         "name": "Skipton BS",
         "type": "bar",
         "x": [
          "2019Q4",
          "2020Q1",
          "2020Q2",
          "2020Q3",
          "2020Q4"
         ],
         "y": [
          0.0004708212189901
         ]
        },
        {
         "name": "Virgin Money",
         "type": "bar",
         "x": [
          "2019Q4",
          "2020Q1",
          "2020Q2",
          "2020Q3",
          "2020Q4"
         ],
         "y": [
          0.0008366240546148
         ]
        },
        {
         "name": "Yorkshire BS - Group",
         "type": "bar",
         "x": [
          "2019Q4",
          "2020Q1",
          "2020Q2",
          "2020Q3",
          "2020Q4"
         ],
         "y": [
          0.0010935067410851
         ]
        }
       ],
       "layout": {
        "hoverlabel": {
         "align": "right"
        },
        "legend": {
         "orientation": "h",
         "x": 1,
         "xanchor": "right",
         "y": 1.02,
         "yanchor": "bottom"
        },
        "plot_bgcolor": "rgba(0,0,0,0)",
        "template": {
         "data": {
          "bar": [
           {
            "error_x": {
             "color": "#2a3f5f"
            },
            "error_y": {
             "color": "#2a3f5f"
            },
            "marker": {
             "line": {
              "color": "white",
              "width": 0.5
             }
            },
            "type": "bar"
           }
          ],
          "barpolar": [
           {
            "marker": {
             "line": {
              "color": "white",
              "width": 0.5
             }
            },
            "type": "barpolar"
           }
          ],
          "carpet": [
           {
            "aaxis": {
             "endlinecolor": "#2a3f5f",
             "gridcolor": "#C8D4E3",
             "linecolor": "#C8D4E3",
             "minorgridcolor": "#C8D4E3",
             "startlinecolor": "#2a3f5f"
            },
            "baxis": {
             "endlinecolor": "#2a3f5f",
             "gridcolor": "#C8D4E3",
             "linecolor": "#C8D4E3",
             "minorgridcolor": "#C8D4E3",
             "startlinecolor": "#2a3f5f"
            },
            "type": "carpet"
           }
          ],
          "choropleth": [
           {
            "colorbar": {
             "outlinewidth": 0,
             "ticks": ""
            },
            "type": "choropleth"
           }
          ],
          "contour": [
           {
            "colorbar": {
             "outlinewidth": 0,
             "ticks": ""
            },
            "colorscale": [
             [
              0,
              "#0d0887"
             ],
             [
              0.1111111111111111,
              "#46039f"
             ],
             [
              0.2222222222222222,
              "#7201a8"
             ],
             [
              0.3333333333333333,
              "#9c179e"
             ],
             [
              0.4444444444444444,
              "#bd3786"
             ],
             [
              0.5555555555555556,
              "#d8576b"
             ],
             [
              0.6666666666666666,
              "#ed7953"
             ],
             [
              0.7777777777777778,
              "#fb9f3a"
             ],
             [
              0.8888888888888888,
              "#fdca26"
             ],
             [
              1,
              "#f0f921"
             ]
            ],
            "type": "contour"
           }
          ],
          "contourcarpet": [
           {
            "colorbar": {
             "outlinewidth": 0,
             "ticks": ""
            },
            "type": "contourcarpet"
           }
          ],
          "heatmap": [
           {
            "colorbar": {
             "outlinewidth": 0,
             "ticks": ""
            },
            "colorscale": [
             [
              0,
              "#0d0887"
             ],
             [
              0.1111111111111111,
              "#46039f"
             ],
             [
              0.2222222222222222,
              "#7201a8"
             ],
             [
              0.3333333333333333,
              "#9c179e"
             ],
             [
              0.4444444444444444,
              "#bd3786"
             ],
             [
              0.5555555555555556,
              "#d8576b"
             ],
             [
              0.6666666666666666,
              "#ed7953"
             ],
             [
              0.7777777777777778,
              "#fb9f3a"
             ],
             [
              0.8888888888888888,
              "#fdca26"
             ],
             [
              1,
              "#f0f921"
             ]
            ],
            "type": "heatmap"
           }
          ],
          "heatmapgl": [
           {
            "colorbar": {
             "outlinewidth": 0,
             "ticks": ""
            },
            "colorscale": [
             [
              0,
              "#0d0887"
             ],
             [
              0.1111111111111111,
              "#46039f"
             ],
             [
              0.2222222222222222,
              "#7201a8"
             ],
             [
              0.3333333333333333,
              "#9c179e"
             ],
             [
              0.4444444444444444,
              "#bd3786"
             ],
             [
              0.5555555555555556,
              "#d8576b"
             ],
             [
              0.6666666666666666,
              "#ed7953"
             ],
             [
              0.7777777777777778,
              "#fb9f3a"
             ],
             [
              0.8888888888888888,
              "#fdca26"
             ],
             [
              1,
              "#f0f921"
             ]
            ],
            "type": "heatmapgl"
           }
          ],
          "histogram": [
           {
            "marker": {
             "colorbar": {
              "outlinewidth": 0,
              "ticks": ""
             }
            },
            "type": "histogram"
           }
          ],
          "histogram2d": [
           {
            "colorbar": {
             "outlinewidth": 0,
             "ticks": ""
            },
            "colorscale": [
             [
              0,
              "#0d0887"
             ],
             [
              0.1111111111111111,
              "#46039f"
             ],
             [
              0.2222222222222222,
              "#7201a8"
             ],
             [
              0.3333333333333333,
              "#9c179e"
             ],
             [
              0.4444444444444444,
              "#bd3786"
             ],
             [
              0.5555555555555556,
              "#d8576b"
             ],
             [
              0.6666666666666666,
              "#ed7953"
             ],
             [
              0.7777777777777778,
              "#fb9f3a"
             ],
             [
              0.8888888888888888,
              "#fdca26"
             ],
             [
              1,
              "#f0f921"
             ]
            ],
            "type": "histogram2d"
           }
          ],
          "histogram2dcontour": [
           {
            "colorbar": {
             "outlinewidth": 0,
             "ticks": ""
            },
            "colorscale": [
             [
              0,
              "#0d0887"
             ],
             [
              0.1111111111111111,
              "#46039f"
             ],
             [
              0.2222222222222222,
              "#7201a8"
             ],
             [
              0.3333333333333333,
              "#9c179e"
             ],
             [
              0.4444444444444444,
              "#bd3786"
             ],
             [
              0.5555555555555556,
              "#d8576b"
             ],
             [
              0.6666666666666666,
              "#ed7953"
             ],
             [
              0.7777777777777778,
              "#fb9f3a"
             ],
             [
              0.8888888888888888,
              "#fdca26"
             ],
             [
              1,
              "#f0f921"
             ]
            ],
            "type": "histogram2dcontour"
           }
          ],
          "mesh3d": [
           {
            "colorbar": {
             "outlinewidth": 0,
             "ticks": ""
            },
            "type": "mesh3d"
           }
          ],
          "parcoords": [
           {
            "line": {
             "colorbar": {
              "outlinewidth": 0,
              "ticks": ""
             }
            },
            "type": "parcoords"
           }
          ],
          "pie": [
           {
            "automargin": true,
            "type": "pie"
           }
          ],
          "scatter": [
           {
            "marker": {
             "colorbar": {
              "outlinewidth": 0,
              "ticks": ""
             }
            },
            "type": "scatter"
           }
          ],
          "scatter3d": [
           {
            "line": {
             "colorbar": {
              "outlinewidth": 0,
              "ticks": ""
             }
            },
            "marker": {
             "colorbar": {
              "outlinewidth": 0,
              "ticks": ""
             }
            },
            "type": "scatter3d"
           }
          ],
          "scattercarpet": [
           {
            "marker": {
             "colorbar": {
              "outlinewidth": 0,
              "ticks": ""
             }
            },
            "type": "scattercarpet"
           }
          ],
          "scattergeo": [
           {
            "marker": {
             "colorbar": {
              "outlinewidth": 0,
              "ticks": ""
             }
            },
            "type": "scattergeo"
           }
          ],
          "scattergl": [
           {
            "marker": {
             "colorbar": {
              "outlinewidth": 0,
              "ticks": ""
             }
            },
            "type": "scattergl"
           }
          ],
          "scattermapbox": [
           {
            "marker": {
             "colorbar": {
              "outlinewidth": 0,
              "ticks": ""
             }
            },
            "type": "scattermapbox"
           }
          ],
          "scatterpolar": [
           {
            "marker": {
             "colorbar": {
              "outlinewidth": 0,
              "ticks": ""
             }
            },
            "type": "scatterpolar"
           }
          ],
          "scatterpolargl": [
           {
            "marker": {
             "colorbar": {
              "outlinewidth": 0,
              "ticks": ""
             }
            },
            "type": "scatterpolargl"
           }
          ],
          "scatterternary": [
           {
            "marker": {
             "colorbar": {
              "outlinewidth": 0,
              "ticks": ""
             }
            },
            "type": "scatterternary"
           }
          ],
          "surface": [
           {
            "colorbar": {
             "outlinewidth": 0,
             "ticks": ""
            },
            "colorscale": [
             [
              0,
              "#0d0887"
             ],
             [
              0.1111111111111111,
              "#46039f"
             ],
             [
              0.2222222222222222,
              "#7201a8"
             ],
             [
              0.3333333333333333,
              "#9c179e"
             ],
             [
              0.4444444444444444,
              "#bd3786"
             ],
             [
              0.5555555555555556,
              "#d8576b"
             ],
             [
              0.6666666666666666,
              "#ed7953"
             ],
             [
              0.7777777777777778,
              "#fb9f3a"
             ],
             [
              0.8888888888888888,
              "#fdca26"
             ],
             [
              1,
              "#f0f921"
             ]
            ],
            "type": "surface"
           }
          ],
          "table": [
           {
            "cells": {
             "fill": {
              "color": "#EBF0F8"
             },
             "line": {
              "color": "white"
             }
            },
            "header": {
             "fill": {
              "color": "#C8D4E3"
             },
             "line": {
              "color": "white"
             }
            },
            "type": "table"
           }
          ]
         },
         "layout": {
          "annotationdefaults": {
           "arrowcolor": "#2a3f5f",
           "arrowhead": 0,
           "arrowwidth": 1
          },
          "autotypenumbers": "strict",
          "coloraxis": {
           "colorbar": {
            "outlinewidth": 0,
            "ticks": ""
           }
          },
          "colorscale": {
           "diverging": [
            [
             0,
             "#8e0152"
            ],
            [
             0.1,
             "#c51b7d"
            ],
            [
             0.2,
             "#de77ae"
            ],
            [
             0.3,
             "#f1b6da"
            ],
            [
             0.4,
             "#fde0ef"
            ],
            [
             0.5,
             "#f7f7f7"
            ],
            [
             0.6,
             "#e6f5d0"
            ],
            [
             0.7,
             "#b8e186"
            ],
            [
             0.8,
             "#7fbc41"
            ],
            [
             0.9,
             "#4d9221"
            ],
            [
             1,
             "#276419"
            ]
           ],
           "sequential": [
            [
             0,
             "#0d0887"
            ],
            [
             0.1111111111111111,
             "#46039f"
            ],
            [
             0.2222222222222222,
             "#7201a8"
            ],
            [
             0.3333333333333333,
             "#9c179e"
            ],
            [
             0.4444444444444444,
             "#bd3786"
            ],
            [
             0.5555555555555556,
             "#d8576b"
            ],
            [
             0.6666666666666666,
             "#ed7953"
            ],
            [
             0.7777777777777778,
             "#fb9f3a"
            ],
            [
             0.8888888888888888,
             "#fdca26"
            ],
            [
             1,
             "#f0f921"
            ]
           ],
           "sequentialminus": [
            [
             0,
             "#0d0887"
            ],
            [
             0.1111111111111111,
             "#46039f"
            ],
            [
             0.2222222222222222,
             "#7201a8"
            ],
            [
             0.3333333333333333,
             "#9c179e"
            ],
            [
             0.4444444444444444,
             "#bd3786"
            ],
            [
             0.5555555555555556,
             "#d8576b"
            ],
            [
             0.6666666666666666,
             "#ed7953"
            ],
            [
             0.7777777777777778,
             "#fb9f3a"
            ],
            [
             0.8888888888888888,
             "#fdca26"
            ],
            [
             1,
             "#f0f921"
            ]
           ]
          },
          "colorway": [
           "#636efa",
           "#EF553B",
           "#00cc96",
           "#ab63fa",
           "#FFA15A",
           "#19d3f3",
           "#FF6692",
           "#B6E880",
           "#FF97FF",
           "#FECB52"
          ],
          "font": {
           "color": "#2a3f5f"
          },
          "geo": {
           "bgcolor": "white",
           "lakecolor": "white",
           "landcolor": "white",
           "showlakes": true,
           "showland": true,
           "subunitcolor": "#C8D4E3"
          },
          "hoverlabel": {
           "align": "left"
          },
          "hovermode": "closest",
          "mapbox": {
           "style": "light"
          },
          "paper_bgcolor": "white",
          "plot_bgcolor": "white",
          "polar": {
           "angularaxis": {
            "gridcolor": "#EBF0F8",
            "linecolor": "#EBF0F8",
            "ticks": ""
           },
           "bgcolor": "white",
           "radialaxis": {
            "gridcolor": "#EBF0F8",
            "linecolor": "#EBF0F8",
            "ticks": ""
           }
          },
          "scene": {
           "xaxis": {
            "backgroundcolor": "white",
            "gridcolor": "#DFE8F3",
            "gridwidth": 2,
            "linecolor": "#EBF0F8",
            "showbackground": true,
            "ticks": "",
            "zerolinecolor": "#EBF0F8"
           },
           "yaxis": {
            "backgroundcolor": "white",
            "gridcolor": "#DFE8F3",
            "gridwidth": 2,
            "linecolor": "#EBF0F8",
            "showbackground": true,
            "ticks": "",
            "zerolinecolor": "#EBF0F8"
           },
           "zaxis": {
            "backgroundcolor": "white",
            "gridcolor": "#DFE8F3",
            "gridwidth": 2,
            "linecolor": "#EBF0F8",
            "showbackground": true,
            "ticks": "",
            "zerolinecolor": "#EBF0F8"
           }
          },
          "shapedefaults": {
           "line": {
            "color": "#2a3f5f"
           }
          },
          "ternary": {
           "aaxis": {
            "gridcolor": "#DFE8F3",
            "linecolor": "#A2B1C6",
            "ticks": ""
           },
           "baxis": {
            "gridcolor": "#DFE8F3",
            "linecolor": "#A2B1C6",
            "ticks": ""
           },
           "bgcolor": "white",
           "caxis": {
            "gridcolor": "#DFE8F3",
            "linecolor": "#A2B1C6",
            "ticks": ""
           }
          },
          "title": {
           "x": 0.05
          },
          "xaxis": {
           "automargin": true,
           "gridcolor": "#EBF0F8",
           "linecolor": "#EBF0F8",
           "ticks": "",
           "title": {
            "standoff": 15
           },
           "zerolinecolor": "#EBF0F8",
           "zerolinewidth": 2
          },
          "yaxis": {
           "automargin": true,
           "gridcolor": "#EBF0F8",
           "linecolor": "#EBF0F8",
           "ticks": "",
           "title": {
            "standoff": 15
           },
           "zerolinecolor": "#EBF0F8",
           "zerolinewidth": 2
          }
         }
        },
        "xaxis": {
         "linecolor": "rgb(204, 204, 204)",
         "linewidth": 2,
         "showgrid": false,
         "showline": true,
         "showticklabels": true,
         "tickfont": {
          "color": "rgb(82, 82, 82)",
          "family": "Arial",
          "size": 12
         },
         "tickformat": "%Y-Q%q",
         "ticks": "outside"
        }
       }
      },
      "text/html": [
       "<div>                            <div id=\"bd6c0f4e-57fb-4a7f-9887-ed52518f9e18\" class=\"plotly-graph-div\" style=\"height:525px; width:100%;\"></div>            <script type=\"text/javascript\">                require([\"plotly\"], function(Plotly) {                    window.PLOTLYENV=window.PLOTLYENV || {};                                    if (document.getElementById(\"bd6c0f4e-57fb-4a7f-9887-ed52518f9e18\")) {                    Plotly.newPlot(                        \"bd6c0f4e-57fb-4a7f-9887-ed52518f9e18\",                        [{\"name\": \"Barclays - Group\", \"type\": \"bar\", \"x\": [\"2019Q4\", \"2020Q1\", \"2020Q2\", \"2020Q3\", \"2020Q4\"], \"y\": [0.0027886980266088, 0.0029505292472008, 0.0031945222216565, 0.0029685721451663, 0.0033586165995567]}, {\"name\": \"Barclays - UK\", \"type\": \"bar\", \"x\": [\"2019Q4\", \"2020Q1\", \"2020Q2\", \"2020Q3\", \"2020Q4\"], \"y\": [0.0005920168272077, 0.0005912684771399, 0.0007000632749498]}, {\"name\": \"HSBC - Group\", \"type\": \"bar\", \"x\": [\"2019Q4\", \"2020Q1\", \"2020Q2\", \"2020Q3\", \"2020Q4\"], \"y\": [0.0016419494813426, 0.0, 0.0025339138909411, 0.002353082237976, 0.0021431693927024]}, {\"name\": \"HSBC - UK\", \"type\": \"bar\", \"x\": [\"2019Q4\", \"2020Q1\", \"2020Q2\", \"2020Q3\", \"2020Q4\"], \"y\": [0.001162974059765, 0.0024480861726332, 0.0015270486396617]}, {\"name\": \"Lloyds - Statutory\", \"type\": \"bar\", \"x\": [\"2019Q4\", \"2020Q1\", \"2020Q2\", \"2020Q3\", \"2020Q4\"], \"y\": [0.0019675101487562, 0.0038903693224594, 0.0034836468728587]}, {\"name\": \"Lloyds - Underlying\", \"type\": \"bar\", \"x\": [\"2019Q4\", \"2020Q1\", \"2020Q2\", \"2020Q3\", \"2020Q4\"], \"y\": [0.0041953457882661, 0.0, 0.0061734663505814, 0.0061221880949008, 0.0054336050700105]}, {\"name\": \"NatWest - Bank plc\", \"type\": \"bar\", \"x\": [\"2019Q4\", \"2020Q1\", \"2020Q2\", \"2020Q3\", \"2020Q4\"], \"y\": [0.0015234124438742, 0.0021422509376625, 0.0022627479888465]}, {\"name\": \"NatWest - Group plc\", \"type\": \"bar\", \"x\": [\"2019Q4\", \"2020Q1\", \"2020Q2\", \"2020Q3\", \"2020Q4\"], \"y\": [0.0055401343654994, 0.0012350349370243, 0.0056628932336108, 0.0052517194096828, 0.0052751474941737]}, {\"name\": \"Nationwide\", \"type\": \"bar\", \"x\": [\"2019Q4\", \"2020Q1\", \"2020Q2\", \"2020Q3\", \"2020Q4\"], \"y\": [0.0011088921306339, 0.0013566404826464, 0.0015845615434259]}, {\"name\": \"Santander - UK\", \"type\": \"bar\", \"x\": [\"2019Q4\", \"2020Q1\", \"2020Q2\", \"2020Q3\", \"2020Q4\"], \"y\": [0.0013183676431456, 0.0013230035756853, 0.00170892164654, 0.0016507747318235, 0.0016313213703099]}, {\"name\": \"Standard Chatered\", \"type\": \"bar\", \"x\": [\"2019Q4\", \"2020Q1\", \"2020Q2\", \"2020Q3\", \"2020Q4\"], \"y\": [0.0018428142951553, 0.0, 0.0]}, {\"name\": \"Clydesdale Bank plc\", \"type\": \"bar\", \"x\": [\"2019Q4\", \"2020Q1\", \"2020Q2\", \"2020Q3\", \"2020Q4\"], \"y\": [0.0008366240546148]}, {\"name\": \"Co-operative Bank\", \"type\": \"bar\", \"x\": [\"2019Q4\", \"2020Q1\", \"2020Q2\", \"2020Q3\", \"2020Q4\"], \"y\": [0.000481130657044]}, {\"name\": \"Coventry BS\", \"type\": \"bar\", \"x\": [\"2019Q4\", \"2020Q1\", \"2020Q2\", \"2020Q3\", \"2020Q4\"], \"y\": [0.0011606000697755]}, {\"name\": \"Leeds BS\", \"type\": \"bar\", \"x\": [\"2019Q4\", \"2020Q1\", \"2020Q2\", \"2020Q3\", \"2020Q4\"], \"y\": [0.0024470310959332]}, {\"name\": \"Metro Bank\", \"type\": \"bar\", \"x\": [\"2019Q4\", \"2020Q1\", \"2020Q2\", \"2020Q3\", \"2020Q4\"], \"y\": [0.0039254170755642]}, {\"name\": \"Paragon - Group\", \"type\": \"bar\", \"x\": [\"2019Q4\", \"2020Q1\", \"2020Q2\", \"2020Q3\", \"2020Q4\"], \"y\": [0.0034816211473481]}, {\"name\": \"Skipton BS\", \"type\": \"bar\", \"x\": [\"2019Q4\", \"2020Q1\", \"2020Q2\", \"2020Q3\", \"2020Q4\"], \"y\": [0.0004708212189901]}, {\"name\": \"Virgin Money\", \"type\": \"bar\", \"x\": [\"2019Q4\", \"2020Q1\", \"2020Q2\", \"2020Q3\", \"2020Q4\"], \"y\": [0.0008366240546148]}, {\"name\": \"Yorkshire BS - Group\", \"type\": \"bar\", \"x\": [\"2019Q4\", \"2020Q1\", \"2020Q2\", \"2020Q3\", \"2020Q4\"], \"y\": [0.0010935067410851]}],                        {\"hoverlabel\": {\"align\": \"right\"}, \"legend\": {\"orientation\": \"h\", \"x\": 1, \"xanchor\": \"right\", \"y\": 1.02, \"yanchor\": \"bottom\"}, \"plot_bgcolor\": \"rgba(0,0,0,0)\", \"template\": {\"data\": {\"bar\": [{\"error_x\": {\"color\": \"#2a3f5f\"}, \"error_y\": {\"color\": \"#2a3f5f\"}, \"marker\": {\"line\": {\"color\": \"white\", \"width\": 0.5}}, \"type\": \"bar\"}], \"barpolar\": [{\"marker\": {\"line\": {\"color\": \"white\", \"width\": 0.5}}, \"type\": \"barpolar\"}], \"carpet\": [{\"aaxis\": {\"endlinecolor\": \"#2a3f5f\", \"gridcolor\": \"#C8D4E3\", \"linecolor\": \"#C8D4E3\", \"minorgridcolor\": \"#C8D4E3\", \"startlinecolor\": \"#2a3f5f\"}, \"baxis\": {\"endlinecolor\": \"#2a3f5f\", \"gridcolor\": \"#C8D4E3\", \"linecolor\": \"#C8D4E3\", \"minorgridcolor\": \"#C8D4E3\", \"startlinecolor\": \"#2a3f5f\"}, \"type\": \"carpet\"}], \"choropleth\": [{\"colorbar\": {\"outlinewidth\": 0, \"ticks\": \"\"}, \"type\": \"choropleth\"}], \"contour\": [{\"colorbar\": {\"outlinewidth\": 0, \"ticks\": \"\"}, \"colorscale\": [[0.0, \"#0d0887\"], [0.1111111111111111, \"#46039f\"], [0.2222222222222222, \"#7201a8\"], [0.3333333333333333, \"#9c179e\"], [0.4444444444444444, \"#bd3786\"], [0.5555555555555556, \"#d8576b\"], [0.6666666666666666, \"#ed7953\"], [0.7777777777777778, \"#fb9f3a\"], [0.8888888888888888, \"#fdca26\"], [1.0, \"#f0f921\"]], \"type\": \"contour\"}], \"contourcarpet\": [{\"colorbar\": {\"outlinewidth\": 0, \"ticks\": \"\"}, \"type\": \"contourcarpet\"}], \"heatmap\": [{\"colorbar\": {\"outlinewidth\": 0, \"ticks\": \"\"}, \"colorscale\": [[0.0, \"#0d0887\"], [0.1111111111111111, \"#46039f\"], [0.2222222222222222, \"#7201a8\"], [0.3333333333333333, \"#9c179e\"], [0.4444444444444444, \"#bd3786\"], [0.5555555555555556, \"#d8576b\"], [0.6666666666666666, \"#ed7953\"], [0.7777777777777778, \"#fb9f3a\"], [0.8888888888888888, \"#fdca26\"], [1.0, \"#f0f921\"]], \"type\": \"heatmap\"}], \"heatmapgl\": [{\"colorbar\": {\"outlinewidth\": 0, \"ticks\": \"\"}, \"colorscale\": [[0.0, \"#0d0887\"], [0.1111111111111111, \"#46039f\"], [0.2222222222222222, \"#7201a8\"], [0.3333333333333333, \"#9c179e\"], [0.4444444444444444, \"#bd3786\"], [0.5555555555555556, \"#d8576b\"], [0.6666666666666666, \"#ed7953\"], [0.7777777777777778, \"#fb9f3a\"], [0.8888888888888888, \"#fdca26\"], [1.0, \"#f0f921\"]], \"type\": \"heatmapgl\"}], \"histogram\": [{\"marker\": {\"colorbar\": {\"outlinewidth\": 0, \"ticks\": \"\"}}, \"type\": \"histogram\"}], \"histogram2d\": [{\"colorbar\": {\"outlinewidth\": 0, \"ticks\": \"\"}, \"colorscale\": [[0.0, \"#0d0887\"], [0.1111111111111111, \"#46039f\"], [0.2222222222222222, \"#7201a8\"], [0.3333333333333333, \"#9c179e\"], [0.4444444444444444, \"#bd3786\"], [0.5555555555555556, \"#d8576b\"], [0.6666666666666666, \"#ed7953\"], [0.7777777777777778, \"#fb9f3a\"], [0.8888888888888888, \"#fdca26\"], [1.0, \"#f0f921\"]], \"type\": \"histogram2d\"}], \"histogram2dcontour\": [{\"colorbar\": {\"outlinewidth\": 0, \"ticks\": \"\"}, \"colorscale\": [[0.0, \"#0d0887\"], [0.1111111111111111, \"#46039f\"], [0.2222222222222222, \"#7201a8\"], [0.3333333333333333, \"#9c179e\"], [0.4444444444444444, \"#bd3786\"], [0.5555555555555556, \"#d8576b\"], [0.6666666666666666, \"#ed7953\"], [0.7777777777777778, \"#fb9f3a\"], [0.8888888888888888, \"#fdca26\"], [1.0, \"#f0f921\"]], \"type\": \"histogram2dcontour\"}], \"mesh3d\": [{\"colorbar\": {\"outlinewidth\": 0, \"ticks\": \"\"}, \"type\": \"mesh3d\"}], \"parcoords\": [{\"line\": {\"colorbar\": {\"outlinewidth\": 0, \"ticks\": \"\"}}, \"type\": \"parcoords\"}], \"pie\": [{\"automargin\": true, \"type\": \"pie\"}], \"scatter\": [{\"marker\": {\"colorbar\": {\"outlinewidth\": 0, \"ticks\": \"\"}}, \"type\": \"scatter\"}], \"scatter3d\": [{\"line\": {\"colorbar\": {\"outlinewidth\": 0, \"ticks\": \"\"}}, \"marker\": {\"colorbar\": {\"outlinewidth\": 0, \"ticks\": \"\"}}, \"type\": \"scatter3d\"}], \"scattercarpet\": [{\"marker\": {\"colorbar\": {\"outlinewidth\": 0, \"ticks\": \"\"}}, \"type\": \"scattercarpet\"}], \"scattergeo\": [{\"marker\": {\"colorbar\": {\"outlinewidth\": 0, \"ticks\": \"\"}}, \"type\": \"scattergeo\"}], \"scattergl\": [{\"marker\": {\"colorbar\": {\"outlinewidth\": 0, \"ticks\": \"\"}}, \"type\": \"scattergl\"}], \"scattermapbox\": [{\"marker\": {\"colorbar\": {\"outlinewidth\": 0, \"ticks\": \"\"}}, \"type\": \"scattermapbox\"}], \"scatterpolar\": [{\"marker\": {\"colorbar\": {\"outlinewidth\": 0, \"ticks\": \"\"}}, \"type\": \"scatterpolar\"}], \"scatterpolargl\": [{\"marker\": {\"colorbar\": {\"outlinewidth\": 0, \"ticks\": \"\"}}, \"type\": \"scatterpolargl\"}], \"scatterternary\": [{\"marker\": {\"colorbar\": {\"outlinewidth\": 0, \"ticks\": \"\"}}, \"type\": \"scatterternary\"}], \"surface\": [{\"colorbar\": {\"outlinewidth\": 0, \"ticks\": \"\"}, \"colorscale\": [[0.0, \"#0d0887\"], [0.1111111111111111, \"#46039f\"], [0.2222222222222222, \"#7201a8\"], [0.3333333333333333, \"#9c179e\"], [0.4444444444444444, \"#bd3786\"], [0.5555555555555556, \"#d8576b\"], [0.6666666666666666, \"#ed7953\"], [0.7777777777777778, \"#fb9f3a\"], [0.8888888888888888, \"#fdca26\"], [1.0, \"#f0f921\"]], \"type\": \"surface\"}], \"table\": [{\"cells\": {\"fill\": {\"color\": \"#EBF0F8\"}, \"line\": {\"color\": \"white\"}}, \"header\": {\"fill\": {\"color\": \"#C8D4E3\"}, \"line\": {\"color\": \"white\"}}, \"type\": \"table\"}]}, \"layout\": {\"annotationdefaults\": {\"arrowcolor\": \"#2a3f5f\", \"arrowhead\": 0, \"arrowwidth\": 1}, \"autotypenumbers\": \"strict\", \"coloraxis\": {\"colorbar\": {\"outlinewidth\": 0, \"ticks\": \"\"}}, \"colorscale\": {\"diverging\": [[0, \"#8e0152\"], [0.1, \"#c51b7d\"], [0.2, \"#de77ae\"], [0.3, \"#f1b6da\"], [0.4, \"#fde0ef\"], [0.5, \"#f7f7f7\"], [0.6, \"#e6f5d0\"], [0.7, \"#b8e186\"], [0.8, \"#7fbc41\"], [0.9, \"#4d9221\"], [1, \"#276419\"]], \"sequential\": [[0.0, \"#0d0887\"], [0.1111111111111111, \"#46039f\"], [0.2222222222222222, \"#7201a8\"], [0.3333333333333333, \"#9c179e\"], [0.4444444444444444, \"#bd3786\"], [0.5555555555555556, \"#d8576b\"], [0.6666666666666666, \"#ed7953\"], [0.7777777777777778, \"#fb9f3a\"], [0.8888888888888888, \"#fdca26\"], [1.0, \"#f0f921\"]], \"sequentialminus\": [[0.0, \"#0d0887\"], [0.1111111111111111, \"#46039f\"], [0.2222222222222222, \"#7201a8\"], [0.3333333333333333, \"#9c179e\"], [0.4444444444444444, \"#bd3786\"], [0.5555555555555556, \"#d8576b\"], [0.6666666666666666, \"#ed7953\"], [0.7777777777777778, \"#fb9f3a\"], [0.8888888888888888, \"#fdca26\"], [1.0, \"#f0f921\"]]}, \"colorway\": [\"#636efa\", \"#EF553B\", \"#00cc96\", \"#ab63fa\", \"#FFA15A\", \"#19d3f3\", \"#FF6692\", \"#B6E880\", \"#FF97FF\", \"#FECB52\"], \"font\": {\"color\": \"#2a3f5f\"}, \"geo\": {\"bgcolor\": \"white\", \"lakecolor\": \"white\", \"landcolor\": \"white\", \"showlakes\": true, \"showland\": true, \"subunitcolor\": \"#C8D4E3\"}, \"hoverlabel\": {\"align\": \"left\"}, \"hovermode\": \"closest\", \"mapbox\": {\"style\": \"light\"}, \"paper_bgcolor\": \"white\", \"plot_bgcolor\": \"white\", \"polar\": {\"angularaxis\": {\"gridcolor\": \"#EBF0F8\", \"linecolor\": \"#EBF0F8\", \"ticks\": \"\"}, \"bgcolor\": \"white\", \"radialaxis\": {\"gridcolor\": \"#EBF0F8\", \"linecolor\": \"#EBF0F8\", \"ticks\": \"\"}}, \"scene\": {\"xaxis\": {\"backgroundcolor\": \"white\", \"gridcolor\": \"#DFE8F3\", \"gridwidth\": 2, \"linecolor\": \"#EBF0F8\", \"showbackground\": true, \"ticks\": \"\", \"zerolinecolor\": \"#EBF0F8\"}, \"yaxis\": {\"backgroundcolor\": \"white\", \"gridcolor\": \"#DFE8F3\", \"gridwidth\": 2, \"linecolor\": \"#EBF0F8\", \"showbackground\": true, \"ticks\": \"\", \"zerolinecolor\": \"#EBF0F8\"}, \"zaxis\": {\"backgroundcolor\": \"white\", \"gridcolor\": \"#DFE8F3\", \"gridwidth\": 2, \"linecolor\": \"#EBF0F8\", \"showbackground\": true, \"ticks\": \"\", \"zerolinecolor\": \"#EBF0F8\"}}, \"shapedefaults\": {\"line\": {\"color\": \"#2a3f5f\"}}, \"ternary\": {\"aaxis\": {\"gridcolor\": \"#DFE8F3\", \"linecolor\": \"#A2B1C6\", \"ticks\": \"\"}, \"baxis\": {\"gridcolor\": \"#DFE8F3\", \"linecolor\": \"#A2B1C6\", \"ticks\": \"\"}, \"bgcolor\": \"white\", \"caxis\": {\"gridcolor\": \"#DFE8F3\", \"linecolor\": \"#A2B1C6\", \"ticks\": \"\"}}, \"title\": {\"x\": 0.05}, \"xaxis\": {\"automargin\": true, \"gridcolor\": \"#EBF0F8\", \"linecolor\": \"#EBF0F8\", \"ticks\": \"\", \"title\": {\"standoff\": 15}, \"zerolinecolor\": \"#EBF0F8\", \"zerolinewidth\": 2}, \"yaxis\": {\"automargin\": true, \"gridcolor\": \"#EBF0F8\", \"linecolor\": \"#EBF0F8\", \"ticks\": \"\", \"title\": {\"standoff\": 15}, \"zerolinecolor\": \"#EBF0F8\", \"zerolinewidth\": 2}}}, \"xaxis\": {\"linecolor\": \"rgb(204, 204, 204)\", \"linewidth\": 2, \"showgrid\": false, \"showline\": true, \"showticklabels\": true, \"tickfont\": {\"color\": \"rgb(82, 82, 82)\", \"family\": \"Arial\", \"size\": 12}, \"tickformat\": \"%Y-Q%q\", \"ticks\": \"outside\"}},                        {\"responsive\": true}                    ).then(function(){\n",
       "                            \n",
       "var gd = document.getElementById('bd6c0f4e-57fb-4a7f-9887-ed52518f9e18');\n",
       "var x = new MutationObserver(function (mutations, observer) {{\n",
       "        var display = window.getComputedStyle(gd).display;\n",
       "        if (!display || display === 'none') {{\n",
       "            console.log([gd, 'removed!']);\n",
       "            Plotly.purge(gd);\n",
       "            observer.disconnect();\n",
       "        }}\n",
       "}});\n",
       "\n",
       "// Listen for the removal of the full notebook cells\n",
       "var notebookContainer = gd.closest('#notebook-container');\n",
       "if (notebookContainer) {{\n",
       "    x.observe(notebookContainer, {childList: true});\n",
       "}}\n",
       "\n",
       "// Listen for the clearing of the current output cell\n",
       "var outputEl = gd.closest('.output');\n",
       "if (outputEl) {{\n",
       "    x.observe(outputEl, {childList: true});\n",
       "}}\n",
       "\n",
       "                        })                };                });            </script>        </div>"
      ]
     },
     "metadata": {},
     "output_type": "display_data"
    }
   ],
   "source": [
    "plot_quarterly_bars(fig, xx)"
   ]
  },
  {
   "cell_type": "markdown",
   "id": "02aa90f3",
   "metadata": {},
   "source": [
    "# Stage 2%"
   ]
  },
  {
   "cell_type": "code",
   "execution_count": 686,
   "id": "22960a0e",
   "metadata": {},
   "outputs": [
    {
     "data": {
      "text/plain": [
       "[' POCI',\n",
       " ' Stage 1',\n",
       " ' Stage 2',\n",
       " ' Stage 3',\n",
       " ' Total',\n",
       " ' Performing',\n",
       " ' Default']"
      ]
     },
     "execution_count": 686,
     "metadata": {},
     "output_type": "execute_result"
    }
   ],
   "source": [
    "\n",
    "[col.split(\"Coverage Ratio\")[1] for col in df1.columns if \"Coverage Ratio\" in col]"
   ]
  },
  {
   "cell_type": "code",
   "execution_count": 683,
   "id": "9b0f16fc",
   "metadata": {},
   "outputs": [
    {
     "data": {
      "text/plain": [
       "['Coverage Ratio POCI',\n",
       " 'Coverage Ratio Stage 1',\n",
       " 'Coverage Ratio Stage 2',\n",
       " 'Coverage Ratio Stage 3',\n",
       " 'Coverage Ratio Total',\n",
       " 'Coverage Ratio Performing',\n",
       " 'Coverage Ratio Default']"
      ]
     },
     "execution_count": 683,
     "metadata": {},
     "output_type": "execute_result"
    }
   ],
   "source": []
  },
  {
   "cell_type": "code",
   "execution_count": 626,
   "id": "6341507d",
   "metadata": {},
   "outputs": [],
   "source": [
    "xx = pivot_df(df1, \"Staging balances (%)\", \"Stage 2\")"
   ]
  },
  {
   "cell_type": "code",
   "execution_count": 627,
   "id": "b78d7ff0",
   "metadata": {},
   "outputs": [],
   "source": [
    "xx = filter_portfolio_pivot(xx, \"Mortgages\")"
   ]
  },
  {
   "cell_type": "code",
   "execution_count": 634,
   "id": "e425db35",
   "metadata": {},
   "outputs": [],
   "source": [
    "import plotly.graph_objects as go\n",
    "\n",
    "fig = canvas()\n",
    "def plot_quarterly_bars(fig, df):\n",
    "    quarters = df.index.get_level_values(\"Quarter\").unique()\n",
    "    institutes = df.index.get_level_values(\"Institute\").unique()\n",
    "    \n",
    "    for val in institutes:\n",
    "        fig.add_trace(go.Bar(name=val, hovertemplate='%{y:.3f}', x=quarters, y=df.xs(val, level=\"Institute\").values.flatten()))\n",
    "\n",
    "    return fig"
   ]
  },
  {
   "cell_type": "code",
   "execution_count": 635,
   "id": "0b1ab74f",
   "metadata": {},
   "outputs": [
    {
     "data": {
      "application/vnd.plotly.v1+json": {
       "config": {
        "plotlyServerURL": "https://plot.ly"
       },
       "data": [
        {
         "hovertemplate": "%{y:.3f}",
         "name": "Barclays - Group",
         "type": "bar",
         "x": [
          "2019Q4",
          "2020Q1",
          "2020Q2",
          "2020Q3",
          "2020Q4"
         ],
         "y": [
          0.1100180103414218,
          0.1107053867869819,
          0.1289963345721122,
          0.1234242387709253,
          0.1205606018041639
         ]
        },
        {
         "hovertemplate": "%{y:.3f}",
         "name": "Barclays - UK",
         "type": "bar",
         "x": [
          "2019Q4",
          "2020Q1",
          "2020Q2",
          "2020Q3",
          "2020Q4"
         ],
         "y": [
          0.1140085111125041,
          0.1333241663801993,
          0.1239313937990549
         ]
        },
        {
         "hovertemplate": "%{y:.3f}",
         "name": "HSBC - Group",
         "type": "bar",
         "x": [
          "2019Q4",
          "2020Q1",
          "2020Q2",
          "2020Q3",
          "2020Q4"
         ],
         "y": [
          0.0219661181086231,
          0,
          0.0491943977238788,
          0.0467469012754605,
          0.0347250214316939
         ]
        },
        {
         "hovertemplate": "%{y:.3f}",
         "name": "HSBC - UK",
         "type": "bar",
         "x": [
          "2019Q4",
          "2020Q1",
          "2020Q2",
          "2020Q3",
          "2020Q4"
         ],
         "y": [
          0.0136698730584246,
          0.0274569664852202,
          0.0273423028616349
         ]
        },
        {
         "hovertemplate": "%{y:.3f}",
         "name": "Lloyds - Statutory",
         "type": "bar",
         "x": [
          "2019Q4",
          "2020Q1",
          "2020Q2",
          "2020Q3",
          "2020Q4"
         ],
         "y": [
          0.0585584962551608,
          0.1540740325726511,
          0.0984308324796645
         ]
        },
        {
         "hovertemplate": "%{y:.3f}",
         "name": "Lloyds - Underlying",
         "type": "bar",
         "x": [
          "2019Q4",
          "2020Q1",
          "2020Q2",
          "2020Q3",
          "2020Q4"
         ],
         "y": [
          0.0925943176525384,
          0,
          0.1540740325726511,
          0.1444933129260397,
          0.1282466213471278
         ]
        },
        {
         "hovertemplate": "%{y:.3f}",
         "name": "NatWest - Bank plc",
         "type": "bar",
         "x": [
          "2019Q4",
          "2020Q1",
          "2020Q2",
          "2020Q3",
          "2020Q4"
         ],
         "y": [
          0.0567307131611172,
          0.1389451638513975,
          0.15540527547194
         ]
        },
        {
         "hovertemplate": "%{y:.3f}",
         "name": "NatWest - Group plc",
         "type": "bar",
         "x": [
          "2019Q4",
          "2020Q1",
          "2020Q2",
          "2020Q3",
          "2020Q4"
         ],
         "y": [
          0.0658896685689327,
          0,
          0.1442720822655963,
          0.1674480112296828,
          0.1552153100002099
         ]
        },
        {
         "hovertemplate": "%{y:.3f}",
         "name": "Nationwide",
         "type": "bar",
         "x": [
          "2019Q4",
          "2020Q1",
          "2020Q2",
          "2020Q3",
          "2020Q4"
         ],
         "y": [
          0.0457552578174203,
          0.0456007314187372,
          0.0404115662498885
         ]
        },
        {
         "hovertemplate": "%{y:.3f}",
         "name": "Santander - UK",
         "type": "bar",
         "x": [
          "2019Q4",
          "2020Q1",
          "2020Q2",
          "2020Q3",
          "2020Q4"
         ],
         "y": [
          0.0493299305740341,
          0.0494636471990464,
          0.0681118805905937,
          0.0619785458879618,
          0.0611774960100352
         ]
        },
        {
         "hovertemplate": "%{y:.3f}",
         "name": "Standard Chatered",
         "type": "bar",
         "x": [
          "2019Q4",
          "2020Q1",
          "2020Q2",
          "2020Q3",
          "2020Q4"
         ],
         "y": [
          0.028951248030095,
          0,
          0
         ]
        },
        {
         "hovertemplate": "%{y:.3f}",
         "name": "Clydesdale Bank plc",
         "type": "bar",
         "x": [
          "2019Q4",
          "2020Q1",
          "2020Q2",
          "2020Q3",
          "2020Q4"
         ],
         "y": [
          0.0396225152265577
         ]
        },
        {
         "hovertemplate": "%{y:.3f}",
         "name": "Co-operative Bank",
         "type": "bar",
         "x": [
          "2019Q4",
          "2020Q1",
          "2020Q2",
          "2020Q3",
          "2020Q4"
         ],
         "y": [
          0.0396195485529636
         ]
        },
        {
         "hovertemplate": "%{y:.3f}",
         "name": "Coventry BS",
         "type": "bar",
         "x": [
          "2019Q4",
          "2020Q1",
          "2020Q2",
          "2020Q3",
          "2020Q4"
         ],
         "y": [
          0.0653494592394464
         ]
        },
        {
         "hovertemplate": "%{y:.3f}",
         "name": "Leeds BS",
         "type": "bar",
         "x": [
          "2019Q4",
          "2020Q1",
          "2020Q2",
          "2020Q3",
          "2020Q4"
         ],
         "y": [
          0.1599107765566003
         ]
        },
        {
         "hovertemplate": "%{y:.3f}",
         "name": "Metro Bank",
         "type": "bar",
         "x": [
          "2019Q4",
          "2020Q1",
          "2020Q2",
          "2020Q3",
          "2020Q4"
         ],
         "y": [
          0.0709519136408243
         ]
        },
        {
         "hovertemplate": "%{y:.3f}",
         "name": "Paragon - Group",
         "type": "bar",
         "x": [
          "2019Q4",
          "2020Q1",
          "2020Q2",
          "2020Q3",
          "2020Q4"
         ],
         "y": [
          0.0417981219780835
         ]
        },
        {
         "hovertemplate": "%{y:.3f}",
         "name": "Skipton BS",
         "type": "bar",
         "x": [
          "2019Q4",
          "2020Q1",
          "2020Q2",
          "2020Q3",
          "2020Q4"
         ],
         "y": [
          0.1056047140367823
         ]
        },
        {
         "hovertemplate": "%{y:.3f}",
         "name": "Virgin Money",
         "type": "bar",
         "x": [
          "2019Q4",
          "2020Q1",
          "2020Q2",
          "2020Q3",
          "2020Q4"
         ],
         "y": [
          0.0396225152265578
         ]
        },
        {
         "hovertemplate": "%{y:.3f}",
         "name": "Yorkshire BS - Group",
         "type": "bar",
         "x": [
          "2019Q4",
          "2020Q1",
          "2020Q2",
          "2020Q3",
          "2020Q4"
         ],
         "y": [
          0.0727036358437211
         ]
        }
       ],
       "layout": {
        "hoverlabel": {
         "align": "right"
        },
        "legend": {
         "orientation": "h",
         "x": 1,
         "xanchor": "right",
         "y": 1.02,
         "yanchor": "bottom"
        },
        "plot_bgcolor": "rgba(0,0,0,0)",
        "template": {
         "data": {
          "bar": [
           {
            "error_x": {
             "color": "#2a3f5f"
            },
            "error_y": {
             "color": "#2a3f5f"
            },
            "marker": {
             "line": {
              "color": "white",
              "width": 0.5
             }
            },
            "type": "bar"
           }
          ],
          "barpolar": [
           {
            "marker": {
             "line": {
              "color": "white",
              "width": 0.5
             }
            },
            "type": "barpolar"
           }
          ],
          "carpet": [
           {
            "aaxis": {
             "endlinecolor": "#2a3f5f",
             "gridcolor": "#C8D4E3",
             "linecolor": "#C8D4E3",
             "minorgridcolor": "#C8D4E3",
             "startlinecolor": "#2a3f5f"
            },
            "baxis": {
             "endlinecolor": "#2a3f5f",
             "gridcolor": "#C8D4E3",
             "linecolor": "#C8D4E3",
             "minorgridcolor": "#C8D4E3",
             "startlinecolor": "#2a3f5f"
            },
            "type": "carpet"
           }
          ],
          "choropleth": [
           {
            "colorbar": {
             "outlinewidth": 0,
             "ticks": ""
            },
            "type": "choropleth"
           }
          ],
          "contour": [
           {
            "colorbar": {
             "outlinewidth": 0,
             "ticks": ""
            },
            "colorscale": [
             [
              0,
              "#0d0887"
             ],
             [
              0.1111111111111111,
              "#46039f"
             ],
             [
              0.2222222222222222,
              "#7201a8"
             ],
             [
              0.3333333333333333,
              "#9c179e"
             ],
             [
              0.4444444444444444,
              "#bd3786"
             ],
             [
              0.5555555555555556,
              "#d8576b"
             ],
             [
              0.6666666666666666,
              "#ed7953"
             ],
             [
              0.7777777777777778,
              "#fb9f3a"
             ],
             [
              0.8888888888888888,
              "#fdca26"
             ],
             [
              1,
              "#f0f921"
             ]
            ],
            "type": "contour"
           }
          ],
          "contourcarpet": [
           {
            "colorbar": {
             "outlinewidth": 0,
             "ticks": ""
            },
            "type": "contourcarpet"
           }
          ],
          "heatmap": [
           {
            "colorbar": {
             "outlinewidth": 0,
             "ticks": ""
            },
            "colorscale": [
             [
              0,
              "#0d0887"
             ],
             [
              0.1111111111111111,
              "#46039f"
             ],
             [
              0.2222222222222222,
              "#7201a8"
             ],
             [
              0.3333333333333333,
              "#9c179e"
             ],
             [
              0.4444444444444444,
              "#bd3786"
             ],
             [
              0.5555555555555556,
              "#d8576b"
             ],
             [
              0.6666666666666666,
              "#ed7953"
             ],
             [
              0.7777777777777778,
              "#fb9f3a"
             ],
             [
              0.8888888888888888,
              "#fdca26"
             ],
             [
              1,
              "#f0f921"
             ]
            ],
            "type": "heatmap"
           }
          ],
          "heatmapgl": [
           {
            "colorbar": {
             "outlinewidth": 0,
             "ticks": ""
            },
            "colorscale": [
             [
              0,
              "#0d0887"
             ],
             [
              0.1111111111111111,
              "#46039f"
             ],
             [
              0.2222222222222222,
              "#7201a8"
             ],
             [
              0.3333333333333333,
              "#9c179e"
             ],
             [
              0.4444444444444444,
              "#bd3786"
             ],
             [
              0.5555555555555556,
              "#d8576b"
             ],
             [
              0.6666666666666666,
              "#ed7953"
             ],
             [
              0.7777777777777778,
              "#fb9f3a"
             ],
             [
              0.8888888888888888,
              "#fdca26"
             ],
             [
              1,
              "#f0f921"
             ]
            ],
            "type": "heatmapgl"
           }
          ],
          "histogram": [
           {
            "marker": {
             "colorbar": {
              "outlinewidth": 0,
              "ticks": ""
             }
            },
            "type": "histogram"
           }
          ],
          "histogram2d": [
           {
            "colorbar": {
             "outlinewidth": 0,
             "ticks": ""
            },
            "colorscale": [
             [
              0,
              "#0d0887"
             ],
             [
              0.1111111111111111,
              "#46039f"
             ],
             [
              0.2222222222222222,
              "#7201a8"
             ],
             [
              0.3333333333333333,
              "#9c179e"
             ],
             [
              0.4444444444444444,
              "#bd3786"
             ],
             [
              0.5555555555555556,
              "#d8576b"
             ],
             [
              0.6666666666666666,
              "#ed7953"
             ],
             [
              0.7777777777777778,
              "#fb9f3a"
             ],
             [
              0.8888888888888888,
              "#fdca26"
             ],
             [
              1,
              "#f0f921"
             ]
            ],
            "type": "histogram2d"
           }
          ],
          "histogram2dcontour": [
           {
            "colorbar": {
             "outlinewidth": 0,
             "ticks": ""
            },
            "colorscale": [
             [
              0,
              "#0d0887"
             ],
             [
              0.1111111111111111,
              "#46039f"
             ],
             [
              0.2222222222222222,
              "#7201a8"
             ],
             [
              0.3333333333333333,
              "#9c179e"
             ],
             [
              0.4444444444444444,
              "#bd3786"
             ],
             [
              0.5555555555555556,
              "#d8576b"
             ],
             [
              0.6666666666666666,
              "#ed7953"
             ],
             [
              0.7777777777777778,
              "#fb9f3a"
             ],
             [
              0.8888888888888888,
              "#fdca26"
             ],
             [
              1,
              "#f0f921"
             ]
            ],
            "type": "histogram2dcontour"
           }
          ],
          "mesh3d": [
           {
            "colorbar": {
             "outlinewidth": 0,
             "ticks": ""
            },
            "type": "mesh3d"
           }
          ],
          "parcoords": [
           {
            "line": {
             "colorbar": {
              "outlinewidth": 0,
              "ticks": ""
             }
            },
            "type": "parcoords"
           }
          ],
          "pie": [
           {
            "automargin": true,
            "type": "pie"
           }
          ],
          "scatter": [
           {
            "marker": {
             "colorbar": {
              "outlinewidth": 0,
              "ticks": ""
             }
            },
            "type": "scatter"
           }
          ],
          "scatter3d": [
           {
            "line": {
             "colorbar": {
              "outlinewidth": 0,
              "ticks": ""
             }
            },
            "marker": {
             "colorbar": {
              "outlinewidth": 0,
              "ticks": ""
             }
            },
            "type": "scatter3d"
           }
          ],
          "scattercarpet": [
           {
            "marker": {
             "colorbar": {
              "outlinewidth": 0,
              "ticks": ""
             }
            },
            "type": "scattercarpet"
           }
          ],
          "scattergeo": [
           {
            "marker": {
             "colorbar": {
              "outlinewidth": 0,
              "ticks": ""
             }
            },
            "type": "scattergeo"
           }
          ],
          "scattergl": [
           {
            "marker": {
             "colorbar": {
              "outlinewidth": 0,
              "ticks": ""
             }
            },
            "type": "scattergl"
           }
          ],
          "scattermapbox": [
           {
            "marker": {
             "colorbar": {
              "outlinewidth": 0,
              "ticks": ""
             }
            },
            "type": "scattermapbox"
           }
          ],
          "scatterpolar": [
           {
            "marker": {
             "colorbar": {
              "outlinewidth": 0,
              "ticks": ""
             }
            },
            "type": "scatterpolar"
           }
          ],
          "scatterpolargl": [
           {
            "marker": {
             "colorbar": {
              "outlinewidth": 0,
              "ticks": ""
             }
            },
            "type": "scatterpolargl"
           }
          ],
          "scatterternary": [
           {
            "marker": {
             "colorbar": {
              "outlinewidth": 0,
              "ticks": ""
             }
            },
            "type": "scatterternary"
           }
          ],
          "surface": [
           {
            "colorbar": {
             "outlinewidth": 0,
             "ticks": ""
            },
            "colorscale": [
             [
              0,
              "#0d0887"
             ],
             [
              0.1111111111111111,
              "#46039f"
             ],
             [
              0.2222222222222222,
              "#7201a8"
             ],
             [
              0.3333333333333333,
              "#9c179e"
             ],
             [
              0.4444444444444444,
              "#bd3786"
             ],
             [
              0.5555555555555556,
              "#d8576b"
             ],
             [
              0.6666666666666666,
              "#ed7953"
             ],
             [
              0.7777777777777778,
              "#fb9f3a"
             ],
             [
              0.8888888888888888,
              "#fdca26"
             ],
             [
              1,
              "#f0f921"
             ]
            ],
            "type": "surface"
           }
          ],
          "table": [
           {
            "cells": {
             "fill": {
              "color": "#EBF0F8"
             },
             "line": {
              "color": "white"
             }
            },
            "header": {
             "fill": {
              "color": "#C8D4E3"
             },
             "line": {
              "color": "white"
             }
            },
            "type": "table"
           }
          ]
         },
         "layout": {
          "annotationdefaults": {
           "arrowcolor": "#2a3f5f",
           "arrowhead": 0,
           "arrowwidth": 1
          },
          "autotypenumbers": "strict",
          "coloraxis": {
           "colorbar": {
            "outlinewidth": 0,
            "ticks": ""
           }
          },
          "colorscale": {
           "diverging": [
            [
             0,
             "#8e0152"
            ],
            [
             0.1,
             "#c51b7d"
            ],
            [
             0.2,
             "#de77ae"
            ],
            [
             0.3,
             "#f1b6da"
            ],
            [
             0.4,
             "#fde0ef"
            ],
            [
             0.5,
             "#f7f7f7"
            ],
            [
             0.6,
             "#e6f5d0"
            ],
            [
             0.7,
             "#b8e186"
            ],
            [
             0.8,
             "#7fbc41"
            ],
            [
             0.9,
             "#4d9221"
            ],
            [
             1,
             "#276419"
            ]
           ],
           "sequential": [
            [
             0,
             "#0d0887"
            ],
            [
             0.1111111111111111,
             "#46039f"
            ],
            [
             0.2222222222222222,
             "#7201a8"
            ],
            [
             0.3333333333333333,
             "#9c179e"
            ],
            [
             0.4444444444444444,
             "#bd3786"
            ],
            [
             0.5555555555555556,
             "#d8576b"
            ],
            [
             0.6666666666666666,
             "#ed7953"
            ],
            [
             0.7777777777777778,
             "#fb9f3a"
            ],
            [
             0.8888888888888888,
             "#fdca26"
            ],
            [
             1,
             "#f0f921"
            ]
           ],
           "sequentialminus": [
            [
             0,
             "#0d0887"
            ],
            [
             0.1111111111111111,
             "#46039f"
            ],
            [
             0.2222222222222222,
             "#7201a8"
            ],
            [
             0.3333333333333333,
             "#9c179e"
            ],
            [
             0.4444444444444444,
             "#bd3786"
            ],
            [
             0.5555555555555556,
             "#d8576b"
            ],
            [
             0.6666666666666666,
             "#ed7953"
            ],
            [
             0.7777777777777778,
             "#fb9f3a"
            ],
            [
             0.8888888888888888,
             "#fdca26"
            ],
            [
             1,
             "#f0f921"
            ]
           ]
          },
          "colorway": [
           "#636efa",
           "#EF553B",
           "#00cc96",
           "#ab63fa",
           "#FFA15A",
           "#19d3f3",
           "#FF6692",
           "#B6E880",
           "#FF97FF",
           "#FECB52"
          ],
          "font": {
           "color": "#2a3f5f"
          },
          "geo": {
           "bgcolor": "white",
           "lakecolor": "white",
           "landcolor": "white",
           "showlakes": true,
           "showland": true,
           "subunitcolor": "#C8D4E3"
          },
          "hoverlabel": {
           "align": "left"
          },
          "hovermode": "closest",
          "mapbox": {
           "style": "light"
          },
          "paper_bgcolor": "white",
          "plot_bgcolor": "white",
          "polar": {
           "angularaxis": {
            "gridcolor": "#EBF0F8",
            "linecolor": "#EBF0F8",
            "ticks": ""
           },
           "bgcolor": "white",
           "radialaxis": {
            "gridcolor": "#EBF0F8",
            "linecolor": "#EBF0F8",
            "ticks": ""
           }
          },
          "scene": {
           "xaxis": {
            "backgroundcolor": "white",
            "gridcolor": "#DFE8F3",
            "gridwidth": 2,
            "linecolor": "#EBF0F8",
            "showbackground": true,
            "ticks": "",
            "zerolinecolor": "#EBF0F8"
           },
           "yaxis": {
            "backgroundcolor": "white",
            "gridcolor": "#DFE8F3",
            "gridwidth": 2,
            "linecolor": "#EBF0F8",
            "showbackground": true,
            "ticks": "",
            "zerolinecolor": "#EBF0F8"
           },
           "zaxis": {
            "backgroundcolor": "white",
            "gridcolor": "#DFE8F3",
            "gridwidth": 2,
            "linecolor": "#EBF0F8",
            "showbackground": true,
            "ticks": "",
            "zerolinecolor": "#EBF0F8"
           }
          },
          "shapedefaults": {
           "line": {
            "color": "#2a3f5f"
           }
          },
          "ternary": {
           "aaxis": {
            "gridcolor": "#DFE8F3",
            "linecolor": "#A2B1C6",
            "ticks": ""
           },
           "baxis": {
            "gridcolor": "#DFE8F3",
            "linecolor": "#A2B1C6",
            "ticks": ""
           },
           "bgcolor": "white",
           "caxis": {
            "gridcolor": "#DFE8F3",
            "linecolor": "#A2B1C6",
            "ticks": ""
           }
          },
          "title": {
           "x": 0.05
          },
          "xaxis": {
           "automargin": true,
           "gridcolor": "#EBF0F8",
           "linecolor": "#EBF0F8",
           "ticks": "",
           "title": {
            "standoff": 15
           },
           "zerolinecolor": "#EBF0F8",
           "zerolinewidth": 2
          },
          "yaxis": {
           "automargin": true,
           "gridcolor": "#EBF0F8",
           "linecolor": "#EBF0F8",
           "ticks": "",
           "title": {
            "standoff": 15
           },
           "zerolinecolor": "#EBF0F8",
           "zerolinewidth": 2
          }
         }
        },
        "xaxis": {
         "linecolor": "rgb(204, 204, 204)",
         "linewidth": 2,
         "showgrid": false,
         "showline": true,
         "showticklabels": true,
         "tickfont": {
          "color": "rgb(82, 82, 82)",
          "family": "Arial",
          "size": 12
         },
         "tickformat": "%Y-Q%q",
         "ticks": "outside"
        }
       }
      },
      "text/html": [
       "<div>                            <div id=\"2168b627-7fa5-4827-9838-777579806a90\" class=\"plotly-graph-div\" style=\"height:525px; width:100%;\"></div>            <script type=\"text/javascript\">                require([\"plotly\"], function(Plotly) {                    window.PLOTLYENV=window.PLOTLYENV || {};                                    if (document.getElementById(\"2168b627-7fa5-4827-9838-777579806a90\")) {                    Plotly.newPlot(                        \"2168b627-7fa5-4827-9838-777579806a90\",                        [{\"hovertemplate\": \"%{y:.3f}\", \"name\": \"Barclays - Group\", \"type\": \"bar\", \"x\": [\"2019Q4\", \"2020Q1\", \"2020Q2\", \"2020Q3\", \"2020Q4\"], \"y\": [0.1100180103414218, 0.1107053867869819, 0.1289963345721122, 0.1234242387709253, 0.1205606018041639]}, {\"hovertemplate\": \"%{y:.3f}\", \"name\": \"Barclays - UK\", \"type\": \"bar\", \"x\": [\"2019Q4\", \"2020Q1\", \"2020Q2\", \"2020Q3\", \"2020Q4\"], \"y\": [0.1140085111125041, 0.1333241663801993, 0.1239313937990549]}, {\"hovertemplate\": \"%{y:.3f}\", \"name\": \"HSBC - Group\", \"type\": \"bar\", \"x\": [\"2019Q4\", \"2020Q1\", \"2020Q2\", \"2020Q3\", \"2020Q4\"], \"y\": [0.0219661181086231, 0.0, 0.0491943977238788, 0.0467469012754605, 0.0347250214316939]}, {\"hovertemplate\": \"%{y:.3f}\", \"name\": \"HSBC - UK\", \"type\": \"bar\", \"x\": [\"2019Q4\", \"2020Q1\", \"2020Q2\", \"2020Q3\", \"2020Q4\"], \"y\": [0.0136698730584246, 0.0274569664852202, 0.0273423028616349]}, {\"hovertemplate\": \"%{y:.3f}\", \"name\": \"Lloyds - Statutory\", \"type\": \"bar\", \"x\": [\"2019Q4\", \"2020Q1\", \"2020Q2\", \"2020Q3\", \"2020Q4\"], \"y\": [0.0585584962551608, 0.1540740325726511, 0.0984308324796645]}, {\"hovertemplate\": \"%{y:.3f}\", \"name\": \"Lloyds - Underlying\", \"type\": \"bar\", \"x\": [\"2019Q4\", \"2020Q1\", \"2020Q2\", \"2020Q3\", \"2020Q4\"], \"y\": [0.0925943176525384, 0.0, 0.1540740325726511, 0.1444933129260397, 0.1282466213471278]}, {\"hovertemplate\": \"%{y:.3f}\", \"name\": \"NatWest - Bank plc\", \"type\": \"bar\", \"x\": [\"2019Q4\", \"2020Q1\", \"2020Q2\", \"2020Q3\", \"2020Q4\"], \"y\": [0.0567307131611172, 0.1389451638513975, 0.15540527547194]}, {\"hovertemplate\": \"%{y:.3f}\", \"name\": \"NatWest - Group plc\", \"type\": \"bar\", \"x\": [\"2019Q4\", \"2020Q1\", \"2020Q2\", \"2020Q3\", \"2020Q4\"], \"y\": [0.0658896685689327, 0.0, 0.1442720822655963, 0.1674480112296828, 0.1552153100002099]}, {\"hovertemplate\": \"%{y:.3f}\", \"name\": \"Nationwide\", \"type\": \"bar\", \"x\": [\"2019Q4\", \"2020Q1\", \"2020Q2\", \"2020Q3\", \"2020Q4\"], \"y\": [0.0457552578174203, 0.0456007314187372, 0.0404115662498885]}, {\"hovertemplate\": \"%{y:.3f}\", \"name\": \"Santander - UK\", \"type\": \"bar\", \"x\": [\"2019Q4\", \"2020Q1\", \"2020Q2\", \"2020Q3\", \"2020Q4\"], \"y\": [0.0493299305740341, 0.0494636471990464, 0.0681118805905937, 0.0619785458879618, 0.0611774960100352]}, {\"hovertemplate\": \"%{y:.3f}\", \"name\": \"Standard Chatered\", \"type\": \"bar\", \"x\": [\"2019Q4\", \"2020Q1\", \"2020Q2\", \"2020Q3\", \"2020Q4\"], \"y\": [0.028951248030095, 0.0, 0.0]}, {\"hovertemplate\": \"%{y:.3f}\", \"name\": \"Clydesdale Bank plc\", \"type\": \"bar\", \"x\": [\"2019Q4\", \"2020Q1\", \"2020Q2\", \"2020Q3\", \"2020Q4\"], \"y\": [0.0396225152265577]}, {\"hovertemplate\": \"%{y:.3f}\", \"name\": \"Co-operative Bank\", \"type\": \"bar\", \"x\": [\"2019Q4\", \"2020Q1\", \"2020Q2\", \"2020Q3\", \"2020Q4\"], \"y\": [0.0396195485529636]}, {\"hovertemplate\": \"%{y:.3f}\", \"name\": \"Coventry BS\", \"type\": \"bar\", \"x\": [\"2019Q4\", \"2020Q1\", \"2020Q2\", \"2020Q3\", \"2020Q4\"], \"y\": [0.0653494592394464]}, {\"hovertemplate\": \"%{y:.3f}\", \"name\": \"Leeds BS\", \"type\": \"bar\", \"x\": [\"2019Q4\", \"2020Q1\", \"2020Q2\", \"2020Q3\", \"2020Q4\"], \"y\": [0.1599107765566003]}, {\"hovertemplate\": \"%{y:.3f}\", \"name\": \"Metro Bank\", \"type\": \"bar\", \"x\": [\"2019Q4\", \"2020Q1\", \"2020Q2\", \"2020Q3\", \"2020Q4\"], \"y\": [0.0709519136408243]}, {\"hovertemplate\": \"%{y:.3f}\", \"name\": \"Paragon - Group\", \"type\": \"bar\", \"x\": [\"2019Q4\", \"2020Q1\", \"2020Q2\", \"2020Q3\", \"2020Q4\"], \"y\": [0.0417981219780835]}, {\"hovertemplate\": \"%{y:.3f}\", \"name\": \"Skipton BS\", \"type\": \"bar\", \"x\": [\"2019Q4\", \"2020Q1\", \"2020Q2\", \"2020Q3\", \"2020Q4\"], \"y\": [0.1056047140367823]}, {\"hovertemplate\": \"%{y:.3f}\", \"name\": \"Virgin Money\", \"type\": \"bar\", \"x\": [\"2019Q4\", \"2020Q1\", \"2020Q2\", \"2020Q3\", \"2020Q4\"], \"y\": [0.0396225152265578]}, {\"hovertemplate\": \"%{y:.3f}\", \"name\": \"Yorkshire BS - Group\", \"type\": \"bar\", \"x\": [\"2019Q4\", \"2020Q1\", \"2020Q2\", \"2020Q3\", \"2020Q4\"], \"y\": [0.0727036358437211]}],                        {\"hoverlabel\": {\"align\": \"right\"}, \"legend\": {\"orientation\": \"h\", \"x\": 1, \"xanchor\": \"right\", \"y\": 1.02, \"yanchor\": \"bottom\"}, \"plot_bgcolor\": \"rgba(0,0,0,0)\", \"template\": {\"data\": {\"bar\": [{\"error_x\": {\"color\": \"#2a3f5f\"}, \"error_y\": {\"color\": \"#2a3f5f\"}, \"marker\": {\"line\": {\"color\": \"white\", \"width\": 0.5}}, \"type\": \"bar\"}], \"barpolar\": [{\"marker\": {\"line\": {\"color\": \"white\", \"width\": 0.5}}, \"type\": \"barpolar\"}], \"carpet\": [{\"aaxis\": {\"endlinecolor\": \"#2a3f5f\", \"gridcolor\": \"#C8D4E3\", \"linecolor\": \"#C8D4E3\", \"minorgridcolor\": \"#C8D4E3\", \"startlinecolor\": \"#2a3f5f\"}, \"baxis\": {\"endlinecolor\": \"#2a3f5f\", \"gridcolor\": \"#C8D4E3\", \"linecolor\": \"#C8D4E3\", \"minorgridcolor\": \"#C8D4E3\", \"startlinecolor\": \"#2a3f5f\"}, \"type\": \"carpet\"}], \"choropleth\": [{\"colorbar\": {\"outlinewidth\": 0, \"ticks\": \"\"}, \"type\": \"choropleth\"}], \"contour\": [{\"colorbar\": {\"outlinewidth\": 0, \"ticks\": \"\"}, \"colorscale\": [[0.0, \"#0d0887\"], [0.1111111111111111, \"#46039f\"], [0.2222222222222222, \"#7201a8\"], [0.3333333333333333, \"#9c179e\"], [0.4444444444444444, \"#bd3786\"], [0.5555555555555556, \"#d8576b\"], [0.6666666666666666, \"#ed7953\"], [0.7777777777777778, \"#fb9f3a\"], [0.8888888888888888, \"#fdca26\"], [1.0, \"#f0f921\"]], \"type\": \"contour\"}], \"contourcarpet\": [{\"colorbar\": {\"outlinewidth\": 0, \"ticks\": \"\"}, \"type\": \"contourcarpet\"}], \"heatmap\": [{\"colorbar\": {\"outlinewidth\": 0, \"ticks\": \"\"}, \"colorscale\": [[0.0, \"#0d0887\"], [0.1111111111111111, \"#46039f\"], [0.2222222222222222, \"#7201a8\"], [0.3333333333333333, \"#9c179e\"], [0.4444444444444444, \"#bd3786\"], [0.5555555555555556, \"#d8576b\"], [0.6666666666666666, \"#ed7953\"], [0.7777777777777778, \"#fb9f3a\"], [0.8888888888888888, \"#fdca26\"], [1.0, \"#f0f921\"]], \"type\": \"heatmap\"}], \"heatmapgl\": [{\"colorbar\": {\"outlinewidth\": 0, \"ticks\": \"\"}, \"colorscale\": [[0.0, \"#0d0887\"], [0.1111111111111111, \"#46039f\"], [0.2222222222222222, \"#7201a8\"], [0.3333333333333333, \"#9c179e\"], [0.4444444444444444, \"#bd3786\"], [0.5555555555555556, \"#d8576b\"], [0.6666666666666666, \"#ed7953\"], [0.7777777777777778, \"#fb9f3a\"], [0.8888888888888888, \"#fdca26\"], [1.0, \"#f0f921\"]], \"type\": \"heatmapgl\"}], \"histogram\": [{\"marker\": {\"colorbar\": {\"outlinewidth\": 0, \"ticks\": \"\"}}, \"type\": \"histogram\"}], \"histogram2d\": [{\"colorbar\": {\"outlinewidth\": 0, \"ticks\": \"\"}, \"colorscale\": [[0.0, \"#0d0887\"], [0.1111111111111111, \"#46039f\"], [0.2222222222222222, \"#7201a8\"], [0.3333333333333333, \"#9c179e\"], [0.4444444444444444, \"#bd3786\"], [0.5555555555555556, \"#d8576b\"], [0.6666666666666666, \"#ed7953\"], [0.7777777777777778, \"#fb9f3a\"], [0.8888888888888888, \"#fdca26\"], [1.0, \"#f0f921\"]], \"type\": \"histogram2d\"}], \"histogram2dcontour\": [{\"colorbar\": {\"outlinewidth\": 0, \"ticks\": \"\"}, \"colorscale\": [[0.0, \"#0d0887\"], [0.1111111111111111, \"#46039f\"], [0.2222222222222222, \"#7201a8\"], [0.3333333333333333, \"#9c179e\"], [0.4444444444444444, \"#bd3786\"], [0.5555555555555556, \"#d8576b\"], [0.6666666666666666, \"#ed7953\"], [0.7777777777777778, \"#fb9f3a\"], [0.8888888888888888, \"#fdca26\"], [1.0, \"#f0f921\"]], \"type\": \"histogram2dcontour\"}], \"mesh3d\": [{\"colorbar\": {\"outlinewidth\": 0, \"ticks\": \"\"}, \"type\": \"mesh3d\"}], \"parcoords\": [{\"line\": {\"colorbar\": {\"outlinewidth\": 0, \"ticks\": \"\"}}, \"type\": \"parcoords\"}], \"pie\": [{\"automargin\": true, \"type\": \"pie\"}], \"scatter\": [{\"marker\": {\"colorbar\": {\"outlinewidth\": 0, \"ticks\": \"\"}}, \"type\": \"scatter\"}], \"scatter3d\": [{\"line\": {\"colorbar\": {\"outlinewidth\": 0, \"ticks\": \"\"}}, \"marker\": {\"colorbar\": {\"outlinewidth\": 0, \"ticks\": \"\"}}, \"type\": \"scatter3d\"}], \"scattercarpet\": [{\"marker\": {\"colorbar\": {\"outlinewidth\": 0, \"ticks\": \"\"}}, \"type\": \"scattercarpet\"}], \"scattergeo\": [{\"marker\": {\"colorbar\": {\"outlinewidth\": 0, \"ticks\": \"\"}}, \"type\": \"scattergeo\"}], \"scattergl\": [{\"marker\": {\"colorbar\": {\"outlinewidth\": 0, \"ticks\": \"\"}}, \"type\": \"scattergl\"}], \"scattermapbox\": [{\"marker\": {\"colorbar\": {\"outlinewidth\": 0, \"ticks\": \"\"}}, \"type\": \"scattermapbox\"}], \"scatterpolar\": [{\"marker\": {\"colorbar\": {\"outlinewidth\": 0, \"ticks\": \"\"}}, \"type\": \"scatterpolar\"}], \"scatterpolargl\": [{\"marker\": {\"colorbar\": {\"outlinewidth\": 0, \"ticks\": \"\"}}, \"type\": \"scatterpolargl\"}], \"scatterternary\": [{\"marker\": {\"colorbar\": {\"outlinewidth\": 0, \"ticks\": \"\"}}, \"type\": \"scatterternary\"}], \"surface\": [{\"colorbar\": {\"outlinewidth\": 0, \"ticks\": \"\"}, \"colorscale\": [[0.0, \"#0d0887\"], [0.1111111111111111, \"#46039f\"], [0.2222222222222222, \"#7201a8\"], [0.3333333333333333, \"#9c179e\"], [0.4444444444444444, \"#bd3786\"], [0.5555555555555556, \"#d8576b\"], [0.6666666666666666, \"#ed7953\"], [0.7777777777777778, \"#fb9f3a\"], [0.8888888888888888, \"#fdca26\"], [1.0, \"#f0f921\"]], \"type\": \"surface\"}], \"table\": [{\"cells\": {\"fill\": {\"color\": \"#EBF0F8\"}, \"line\": {\"color\": \"white\"}}, \"header\": {\"fill\": {\"color\": \"#C8D4E3\"}, \"line\": {\"color\": \"white\"}}, \"type\": \"table\"}]}, \"layout\": {\"annotationdefaults\": {\"arrowcolor\": \"#2a3f5f\", \"arrowhead\": 0, \"arrowwidth\": 1}, \"autotypenumbers\": \"strict\", \"coloraxis\": {\"colorbar\": {\"outlinewidth\": 0, \"ticks\": \"\"}}, \"colorscale\": {\"diverging\": [[0, \"#8e0152\"], [0.1, \"#c51b7d\"], [0.2, \"#de77ae\"], [0.3, \"#f1b6da\"], [0.4, \"#fde0ef\"], [0.5, \"#f7f7f7\"], [0.6, \"#e6f5d0\"], [0.7, \"#b8e186\"], [0.8, \"#7fbc41\"], [0.9, \"#4d9221\"], [1, \"#276419\"]], \"sequential\": [[0.0, \"#0d0887\"], [0.1111111111111111, \"#46039f\"], [0.2222222222222222, \"#7201a8\"], [0.3333333333333333, \"#9c179e\"], [0.4444444444444444, \"#bd3786\"], [0.5555555555555556, \"#d8576b\"], [0.6666666666666666, \"#ed7953\"], [0.7777777777777778, \"#fb9f3a\"], [0.8888888888888888, \"#fdca26\"], [1.0, \"#f0f921\"]], \"sequentialminus\": [[0.0, \"#0d0887\"], [0.1111111111111111, \"#46039f\"], [0.2222222222222222, \"#7201a8\"], [0.3333333333333333, \"#9c179e\"], [0.4444444444444444, \"#bd3786\"], [0.5555555555555556, \"#d8576b\"], [0.6666666666666666, \"#ed7953\"], [0.7777777777777778, \"#fb9f3a\"], [0.8888888888888888, \"#fdca26\"], [1.0, \"#f0f921\"]]}, \"colorway\": [\"#636efa\", \"#EF553B\", \"#00cc96\", \"#ab63fa\", \"#FFA15A\", \"#19d3f3\", \"#FF6692\", \"#B6E880\", \"#FF97FF\", \"#FECB52\"], \"font\": {\"color\": \"#2a3f5f\"}, \"geo\": {\"bgcolor\": \"white\", \"lakecolor\": \"white\", \"landcolor\": \"white\", \"showlakes\": true, \"showland\": true, \"subunitcolor\": \"#C8D4E3\"}, \"hoverlabel\": {\"align\": \"left\"}, \"hovermode\": \"closest\", \"mapbox\": {\"style\": \"light\"}, \"paper_bgcolor\": \"white\", \"plot_bgcolor\": \"white\", \"polar\": {\"angularaxis\": {\"gridcolor\": \"#EBF0F8\", \"linecolor\": \"#EBF0F8\", \"ticks\": \"\"}, \"bgcolor\": \"white\", \"radialaxis\": {\"gridcolor\": \"#EBF0F8\", \"linecolor\": \"#EBF0F8\", \"ticks\": \"\"}}, \"scene\": {\"xaxis\": {\"backgroundcolor\": \"white\", \"gridcolor\": \"#DFE8F3\", \"gridwidth\": 2, \"linecolor\": \"#EBF0F8\", \"showbackground\": true, \"ticks\": \"\", \"zerolinecolor\": \"#EBF0F8\"}, \"yaxis\": {\"backgroundcolor\": \"white\", \"gridcolor\": \"#DFE8F3\", \"gridwidth\": 2, \"linecolor\": \"#EBF0F8\", \"showbackground\": true, \"ticks\": \"\", \"zerolinecolor\": \"#EBF0F8\"}, \"zaxis\": {\"backgroundcolor\": \"white\", \"gridcolor\": \"#DFE8F3\", \"gridwidth\": 2, \"linecolor\": \"#EBF0F8\", \"showbackground\": true, \"ticks\": \"\", \"zerolinecolor\": \"#EBF0F8\"}}, \"shapedefaults\": {\"line\": {\"color\": \"#2a3f5f\"}}, \"ternary\": {\"aaxis\": {\"gridcolor\": \"#DFE8F3\", \"linecolor\": \"#A2B1C6\", \"ticks\": \"\"}, \"baxis\": {\"gridcolor\": \"#DFE8F3\", \"linecolor\": \"#A2B1C6\", \"ticks\": \"\"}, \"bgcolor\": \"white\", \"caxis\": {\"gridcolor\": \"#DFE8F3\", \"linecolor\": \"#A2B1C6\", \"ticks\": \"\"}}, \"title\": {\"x\": 0.05}, \"xaxis\": {\"automargin\": true, \"gridcolor\": \"#EBF0F8\", \"linecolor\": \"#EBF0F8\", \"ticks\": \"\", \"title\": {\"standoff\": 15}, \"zerolinecolor\": \"#EBF0F8\", \"zerolinewidth\": 2}, \"yaxis\": {\"automargin\": true, \"gridcolor\": \"#EBF0F8\", \"linecolor\": \"#EBF0F8\", \"ticks\": \"\", \"title\": {\"standoff\": 15}, \"zerolinecolor\": \"#EBF0F8\", \"zerolinewidth\": 2}}}, \"xaxis\": {\"linecolor\": \"rgb(204, 204, 204)\", \"linewidth\": 2, \"showgrid\": false, \"showline\": true, \"showticklabels\": true, \"tickfont\": {\"color\": \"rgb(82, 82, 82)\", \"family\": \"Arial\", \"size\": 12}, \"tickformat\": \"%Y-Q%q\", \"ticks\": \"outside\"}},                        {\"responsive\": true}                    ).then(function(){\n",
       "                            \n",
       "var gd = document.getElementById('2168b627-7fa5-4827-9838-777579806a90');\n",
       "var x = new MutationObserver(function (mutations, observer) {{\n",
       "        var display = window.getComputedStyle(gd).display;\n",
       "        if (!display || display === 'none') {{\n",
       "            console.log([gd, 'removed!']);\n",
       "            Plotly.purge(gd);\n",
       "            observer.disconnect();\n",
       "        }}\n",
       "}});\n",
       "\n",
       "// Listen for the removal of the full notebook cells\n",
       "var notebookContainer = gd.closest('#notebook-container');\n",
       "if (notebookContainer) {{\n",
       "    x.observe(notebookContainer, {childList: true});\n",
       "}}\n",
       "\n",
       "// Listen for the clearing of the current output cell\n",
       "var outputEl = gd.closest('.output');\n",
       "if (outputEl) {{\n",
       "    x.observe(outputEl, {childList: true});\n",
       "}}\n",
       "\n",
       "                        })                };                });            </script>        </div>"
      ]
     },
     "metadata": {},
     "output_type": "display_data"
    }
   ],
   "source": [
    "plot_quarterly_bars(fig, xx)"
   ]
  },
  {
   "cell_type": "code",
   "execution_count": null,
   "id": "146a2394",
   "metadata": {},
   "outputs": [],
   "source": []
  }
 ],
 "metadata": {
  "kernelspec": {
   "display_name": "Python 3",
   "language": "python",
   "name": "python3"
  },
  "language_info": {
   "codemirror_mode": {
    "name": "ipython",
    "version": 3
   },
   "file_extension": ".py",
   "mimetype": "text/x-python",
   "name": "python",
   "nbconvert_exporter": "python",
   "pygments_lexer": "ipython3",
   "version": "3.9.4"
  }
 },
 "nbformat": 4,
 "nbformat_minor": 5
}
